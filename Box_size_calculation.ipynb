{
 "cells": [
  {
   "cell_type": "code",
   "execution_count": 36,
   "metadata": {},
   "outputs": [],
   "source": [
    "import pandas as pd\n",
    "import numpy as np\n",
    "import seaborn as sns                       #visualisation\n",
    "import matplotlib.pyplot as plt             #visualisation\n",
    "%matplotlib inline     \n",
    "sns.set(color_codes=True)\n",
    "from datetime import datetime, date, time, timezone\n",
    "from sklearn.cluster import KMeans\n",
    "from mpl_toolkits.mplot3d import Axes3D\n",
    "import matplotlib.cm as cm\n",
    "from sklearn.model_selection import train_test_split, cross_val_score, StratifiedKFold, KFold\n",
    "from sklearn.linear_model import LogisticRegression\n",
    "from sklearn.ensemble import RandomForestClassifier, GradientBoostingClassifier\n",
    "from sklearn.tree import DecisionTreeClassifier\n",
    "from sklearn.metrics import confusion_matrix, recall_score"
   ]
  },
  {
   "cell_type": "code",
   "execution_count": 2,
   "metadata": {},
   "outputs": [],
   "source": [
    "df = pd.read_csv('/Users/elle.le/Workspace/BoxSize_local/new_data/box_size_cleaned_data.csv')"
   ]
  },
  {
   "cell_type": "code",
   "execution_count": 3,
   "metadata": {},
   "outputs": [
    {
     "data": {
      "text/plain": [
       "(528417, 8)"
      ]
     },
     "execution_count": 3,
     "metadata": {},
     "output_type": "execute_result"
    }
   ],
   "source": [
    "df.shape"
   ]
  },
  {
   "cell_type": "code",
   "execution_count": 4,
   "metadata": {},
   "outputs": [],
   "source": [
    "df.drop(columns = ['order_number'], inplace = True)"
   ]
  },
  {
   "cell_type": "code",
   "execution_count": 5,
   "metadata": {},
   "outputs": [
    {
     "data": {
      "text/html": [
       "<div>\n",
       "<style scoped>\n",
       "    .dataframe tbody tr th:only-of-type {\n",
       "        vertical-align: middle;\n",
       "    }\n",
       "\n",
       "    .dataframe tbody tr th {\n",
       "        vertical-align: top;\n",
       "    }\n",
       "\n",
       "    .dataframe thead th {\n",
       "        text-align: right;\n",
       "    }\n",
       "</style>\n",
       "<table border=\"1\" class=\"dataframe\">\n",
       "  <thead>\n",
       "    <tr style=\"text-align: right;\">\n",
       "      <th></th>\n",
       "      <th>item_size_0</th>\n",
       "      <th>item_size_1</th>\n",
       "      <th>item_size_2</th>\n",
       "      <th>item_size_3</th>\n",
       "      <th>max_item_dim</th>\n",
       "      <th>total_order_vol</th>\n",
       "      <th>FedEx_box_type</th>\n",
       "    </tr>\n",
       "  </thead>\n",
       "  <tbody>\n",
       "    <tr>\n",
       "      <td>0</td>\n",
       "      <td>3</td>\n",
       "      <td>0</td>\n",
       "      <td>0</td>\n",
       "      <td>0</td>\n",
       "      <td>76</td>\n",
       "      <td>19.86888</td>\n",
       "      <td>0</td>\n",
       "    </tr>\n",
       "    <tr>\n",
       "      <td>1</td>\n",
       "      <td>0</td>\n",
       "      <td>0</td>\n",
       "      <td>1</td>\n",
       "      <td>0</td>\n",
       "      <td>245</td>\n",
       "      <td>62.73960</td>\n",
       "      <td>1</td>\n",
       "    </tr>\n",
       "    <tr>\n",
       "      <td>2</td>\n",
       "      <td>1</td>\n",
       "      <td>0</td>\n",
       "      <td>0</td>\n",
       "      <td>1</td>\n",
       "      <td>260</td>\n",
       "      <td>27.73848</td>\n",
       "      <td>3</td>\n",
       "    </tr>\n",
       "    <tr>\n",
       "      <td>3</td>\n",
       "      <td>1</td>\n",
       "      <td>0</td>\n",
       "      <td>0</td>\n",
       "      <td>10</td>\n",
       "      <td>214</td>\n",
       "      <td>122.90136</td>\n",
       "      <td>1</td>\n",
       "    </tr>\n",
       "    <tr>\n",
       "      <td>4</td>\n",
       "      <td>0</td>\n",
       "      <td>0</td>\n",
       "      <td>0</td>\n",
       "      <td>2</td>\n",
       "      <td>175</td>\n",
       "      <td>8.31762</td>\n",
       "      <td>0</td>\n",
       "    </tr>\n",
       "  </tbody>\n",
       "</table>\n",
       "</div>"
      ],
      "text/plain": [
       "   item_size_0  item_size_1  item_size_2  item_size_3  max_item_dim  \\\n",
       "0            3            0            0            0            76   \n",
       "1            0            0            1            0           245   \n",
       "2            1            0            0            1           260   \n",
       "3            1            0            0           10           214   \n",
       "4            0            0            0            2           175   \n",
       "\n",
       "   total_order_vol  FedEx_box_type  \n",
       "0         19.86888               0  \n",
       "1         62.73960               1  \n",
       "2         27.73848               3  \n",
       "3        122.90136               1  \n",
       "4          8.31762               0  "
      ]
     },
     "execution_count": 5,
     "metadata": {},
     "output_type": "execute_result"
    }
   ],
   "source": [
    "df.head()"
   ]
  },
  {
   "cell_type": "code",
   "execution_count": 6,
   "metadata": {},
   "outputs": [
    {
     "data": {
      "text/plain": [
       "(528417, 7)"
      ]
     },
     "execution_count": 6,
     "metadata": {},
     "output_type": "execute_result"
    }
   ],
   "source": [
    "df.shape"
   ]
  },
  {
   "cell_type": "code",
   "execution_count": 7,
   "metadata": {},
   "outputs": [
    {
     "data": {
      "text/plain": [
       "0    187195\n",
       "2    131528\n",
       "3    109295\n",
       "1     91191\n",
       "4      9208\n",
       "Name: FedEx_box_type, dtype: int64"
      ]
     },
     "execution_count": 7,
     "metadata": {},
     "output_type": "execute_result"
    }
   ],
   "source": [
    "df['FedEx_box_type'].value_counts()"
   ]
  },
  {
   "cell_type": "code",
   "execution_count": 8,
   "metadata": {},
   "outputs": [],
   "source": [
    "# Keep the ratio of different box sizes\n",
    "x_train,x_test,y_train, y_test = train_test_split(df.iloc[:,0:6], df['FedEx_box_type'], stratify = df['FedEx_box_type'])\n",
    "y_train.value_counts()/y_train.shape[0]*100"
   ]
  },
  {
   "cell_type": "code",
   "execution_count": 10,
   "metadata": {},
   "outputs": [
    {
     "name": "stdout",
     "output_type": "stream",
     "text": [
      "Random Forest train score 0.8893649447909727\n",
      "Random Forest test score 0.7785322281518489\n"
     ]
    }
   ],
   "source": [
    "# Try Random Forest\n",
    "rf = RandomForestClassifier(n_estimators=200, max_depth=25)\n",
    "rf.fit(x_train,y_train)\n",
    "print('Random Forest train score',rf.score(x_train,y_train))\n",
    "print('Random Forest test score',rf.score(x_test,y_test))"
   ]
  },
  {
   "cell_type": "code",
   "execution_count": 11,
   "metadata": {},
   "outputs": [
    {
     "name": "stdout",
     "output_type": "stream",
     "text": [
      "GB train score 0.8296443206362664\n",
      "GB test score 0.7852920025737103\n"
     ]
    }
   ],
   "source": [
    "# Try GBC\n",
    "gb = GradientBoostingClassifier(max_depth=10, n_estimators=150)\n",
    "gb.fit(x_train,y_train)\n",
    "print('GB train score',gb.score(x_train,y_train))\n",
    "print('GB test score',gb.score(x_test,y_test))"
   ]
  },
  {
   "cell_type": "code",
   "execution_count": 12,
   "metadata": {},
   "outputs": [
    {
     "name": "stdout",
     "output_type": "stream",
     "text": [
      "Decision Tree train score 0.891454207795878\n",
      "Decision Tree test score 0.7430225956625411\n"
     ]
    }
   ],
   "source": [
    "#Decision Tree\n",
    "dt = DecisionTreeClassifier(class_weight='balanced') \n",
    "dt.fit(x_train,y_train)\n",
    "print('Decision Tree train score',dt.score(x_train,y_train))\n",
    "print('Decision Tree test score',dt.score(x_test,y_test))"
   ]
  },
  {
   "cell_type": "code",
   "execution_count": 13,
   "metadata": {},
   "outputs": [],
   "source": [
    "\n",
    "#from sklearn.utils.class_weight import compute_class_weight\n",
    "\n",
    "#weights = compute_class_weight('balanced', classes=list(range(6)), y=y_train)\n",
    "#print(weights)"
   ]
  },
  {
   "cell_type": "code",
   "execution_count": 18,
   "metadata": {},
   "outputs": [
    {
     "data": {
      "text/html": [
       "<div>\n",
       "<style scoped>\n",
       "    .dataframe tbody tr th:only-of-type {\n",
       "        vertical-align: middle;\n",
       "    }\n",
       "\n",
       "    .dataframe tbody tr th {\n",
       "        vertical-align: top;\n",
       "    }\n",
       "\n",
       "    .dataframe thead th {\n",
       "        text-align: right;\n",
       "    }\n",
       "</style>\n",
       "<table border=\"1\" class=\"dataframe\">\n",
       "  <thead>\n",
       "    <tr style=\"text-align: right;\">\n",
       "      <th></th>\n",
       "      <th>item_size_0</th>\n",
       "      <th>item_size_1</th>\n",
       "      <th>item_size_2</th>\n",
       "      <th>item_size_3</th>\n",
       "      <th>max_item_dim</th>\n",
       "      <th>total_order_vol</th>\n",
       "      <th>FedEx_box_type</th>\n",
       "      <th>prediction</th>\n",
       "    </tr>\n",
       "  </thead>\n",
       "  <tbody>\n",
       "    <tr>\n",
       "      <td>0</td>\n",
       "      <td>3</td>\n",
       "      <td>0</td>\n",
       "      <td>0</td>\n",
       "      <td>0</td>\n",
       "      <td>76</td>\n",
       "      <td>19.86888</td>\n",
       "      <td>0</td>\n",
       "      <td>0</td>\n",
       "    </tr>\n",
       "    <tr>\n",
       "      <td>1</td>\n",
       "      <td>0</td>\n",
       "      <td>0</td>\n",
       "      <td>1</td>\n",
       "      <td>0</td>\n",
       "      <td>245</td>\n",
       "      <td>62.73960</td>\n",
       "      <td>1</td>\n",
       "      <td>1</td>\n",
       "    </tr>\n",
       "    <tr>\n",
       "      <td>2</td>\n",
       "      <td>1</td>\n",
       "      <td>0</td>\n",
       "      <td>0</td>\n",
       "      <td>1</td>\n",
       "      <td>260</td>\n",
       "      <td>27.73848</td>\n",
       "      <td>3</td>\n",
       "      <td>3</td>\n",
       "    </tr>\n",
       "    <tr>\n",
       "      <td>3</td>\n",
       "      <td>1</td>\n",
       "      <td>0</td>\n",
       "      <td>0</td>\n",
       "      <td>10</td>\n",
       "      <td>214</td>\n",
       "      <td>122.90136</td>\n",
       "      <td>1</td>\n",
       "      <td>1</td>\n",
       "    </tr>\n",
       "    <tr>\n",
       "      <td>4</td>\n",
       "      <td>0</td>\n",
       "      <td>0</td>\n",
       "      <td>0</td>\n",
       "      <td>2</td>\n",
       "      <td>175</td>\n",
       "      <td>8.31762</td>\n",
       "      <td>0</td>\n",
       "      <td>0</td>\n",
       "    </tr>\n",
       "    <tr>\n",
       "      <td>5</td>\n",
       "      <td>0</td>\n",
       "      <td>0</td>\n",
       "      <td>0</td>\n",
       "      <td>2</td>\n",
       "      <td>214</td>\n",
       "      <td>58.84488</td>\n",
       "      <td>3</td>\n",
       "      <td>3</td>\n",
       "    </tr>\n",
       "  </tbody>\n",
       "</table>\n",
       "</div>"
      ],
      "text/plain": [
       "   item_size_0  item_size_1  item_size_2  item_size_3  max_item_dim  \\\n",
       "0            3            0            0            0            76   \n",
       "1            0            0            1            0           245   \n",
       "2            1            0            0            1           260   \n",
       "3            1            0            0           10           214   \n",
       "4            0            0            0            2           175   \n",
       "5            0            0            0            2           214   \n",
       "\n",
       "   total_order_vol  FedEx_box_type  prediction  \n",
       "0         19.86888               0           0  \n",
       "1         62.73960               1           1  \n",
       "2         27.73848               3           3  \n",
       "3        122.90136               1           1  \n",
       "4          8.31762               0           0  \n",
       "5         58.84488               3           3  "
      ]
     },
     "execution_count": 18,
     "metadata": {},
     "output_type": "execute_result"
    }
   ],
   "source": [
    "# Add prediction into original data (Decision Tree)\n",
    "df['prediction'] = dt.predict(df.iloc[:,:6])\n",
    "df.head(6)"
   ]
  },
  {
   "cell_type": "code",
   "execution_count": 15,
   "metadata": {},
   "outputs": [
    {
     "data": {
      "text/plain": [
       "array([[152315,   1709,  21579,  10872,    720],\n",
       "       [  1006,  80089,   1800,   3940,   4356],\n",
       "       [  9581,   1158, 119472,    787,    530],\n",
       "       [  9218,   3421,   3364,  92211,   1081],\n",
       "       [   120,   1162,    204,    358,   7364]])"
      ]
     },
     "execution_count": 15,
     "metadata": {},
     "output_type": "execute_result"
    }
   ],
   "source": [
    "from sklearn.metrics import confusion_matrix\n",
    "confusion_matrix(df['FedEx_box_type'], df['prediction'])\n",
    "#row = predicted, column = actual class"
   ]
  },
  {
   "cell_type": "code",
   "execution_count": 19,
   "metadata": {},
   "outputs": [
    {
     "data": {
      "text/plain": [
       "Index(['item_size_0', 'item_size_1', 'item_size_2', 'item_size_3',\n",
       "       'max_item_dim', 'total_order_vol', 'FedEx_box_type', 'prediction'],\n",
       "      dtype='object')"
      ]
     },
     "execution_count": 19,
     "metadata": {},
     "output_type": "execute_result"
    }
   ],
   "source": [
    "df.columns"
   ]
  },
  {
   "cell_type": "code",
   "execution_count": 20,
   "metadata": {},
   "outputs": [
    {
     "data": {
      "text/plain": [
       "{'item_size_0': 0.04711949192429405,\n",
       " 'item_size_1': 4.108511834768783e-06,\n",
       " 'item_size_2': 0.041829425495629326,\n",
       " 'item_size_3': 0.06561045828901245,\n",
       " 'max_item_dim': 0.3896735757256352,\n",
       " 'total_order_vol': 0.4557629400535942}"
      ]
     },
     "execution_count": 20,
     "metadata": {},
     "output_type": "execute_result"
    }
   ],
   "source": [
    "#Feature Importance\n",
    "dict(zip(df.columns,dt.feature_importances_))"
   ]
  },
  {
   "cell_type": "markdown",
   "metadata": {},
   "source": [
    "## Adding more features"
   ]
  },
  {
   "cell_type": "code",
   "execution_count": 3,
   "metadata": {},
   "outputs": [
    {
     "name": "stdout",
     "output_type": "stream",
     "text": [
      "Shape:  (528418, 12)\n"
     ]
    },
    {
     "data": {
      "text/html": [
       "<div>\n",
       "<style scoped>\n",
       "    .dataframe tbody tr th:only-of-type {\n",
       "        vertical-align: middle;\n",
       "    }\n",
       "\n",
       "    .dataframe tbody tr th {\n",
       "        vertical-align: top;\n",
       "    }\n",
       "\n",
       "    .dataframe thead th {\n",
       "        text-align: right;\n",
       "    }\n",
       "</style>\n",
       "<table border=\"1\" class=\"dataframe\">\n",
       "  <thead>\n",
       "    <tr style=\"text-align: right;\">\n",
       "      <th></th>\n",
       "      <th>item_size_0</th>\n",
       "      <th>item_size_1</th>\n",
       "      <th>item_size_2</th>\n",
       "      <th>item_size_3</th>\n",
       "      <th>max_item_dim</th>\n",
       "      <th>max_item_vol</th>\n",
       "      <th>average_item_vol</th>\n",
       "      <th>min_item_vol</th>\n",
       "      <th>std_item_vol</th>\n",
       "      <th>total_item_vol</th>\n",
       "      <th>variance_item_vol</th>\n",
       "      <th>FedEx_box_type</th>\n",
       "    </tr>\n",
       "  </thead>\n",
       "  <tbody>\n",
       "    <tr>\n",
       "      <td>0</td>\n",
       "      <td>3</td>\n",
       "      <td>0</td>\n",
       "      <td>0</td>\n",
       "      <td>0</td>\n",
       "      <td>76</td>\n",
       "      <td>11.43648</td>\n",
       "      <td>6.62296</td>\n",
       "      <td>2.60064</td>\n",
       "      <td>4.470740</td>\n",
       "      <td>19.86888</td>\n",
       "      <td>19.987515</td>\n",
       "      <td>1</td>\n",
       "    </tr>\n",
       "    <tr>\n",
       "      <td>1</td>\n",
       "      <td>0</td>\n",
       "      <td>0</td>\n",
       "      <td>1</td>\n",
       "      <td>0</td>\n",
       "      <td>245</td>\n",
       "      <td>62.73960</td>\n",
       "      <td>62.73960</td>\n",
       "      <td>62.73960</td>\n",
       "      <td>0.000000</td>\n",
       "      <td>62.73960</td>\n",
       "      <td>0.000000</td>\n",
       "      <td>3</td>\n",
       "    </tr>\n",
       "    <tr>\n",
       "      <td>2</td>\n",
       "      <td>1</td>\n",
       "      <td>0</td>\n",
       "      <td>0</td>\n",
       "      <td>1</td>\n",
       "      <td>260</td>\n",
       "      <td>16.30200</td>\n",
       "      <td>13.86924</td>\n",
       "      <td>11.43648</td>\n",
       "      <td>3.440442</td>\n",
       "      <td>27.73848</td>\n",
       "      <td>11.836642</td>\n",
       "      <td>2</td>\n",
       "    </tr>\n",
       "  </tbody>\n",
       "</table>\n",
       "</div>"
      ],
      "text/plain": [
       "   item_size_0  item_size_1  item_size_2  item_size_3  max_item_dim  \\\n",
       "0            3            0            0            0            76   \n",
       "1            0            0            1            0           245   \n",
       "2            1            0            0            1           260   \n",
       "\n",
       "   max_item_vol  average_item_vol  min_item_vol  std_item_vol  total_item_vol  \\\n",
       "0      11.43648           6.62296       2.60064      4.470740        19.86888   \n",
       "1      62.73960          62.73960      62.73960      0.000000        62.73960   \n",
       "2      16.30200          13.86924      11.43648      3.440442        27.73848   \n",
       "\n",
       "   variance_item_vol  FedEx_box_type  \n",
       "0          19.987515               1  \n",
       "1           0.000000               3  \n",
       "2          11.836642               2  "
      ]
     },
     "execution_count": 3,
     "metadata": {},
     "output_type": "execute_result"
    }
   ],
   "source": [
    "# Testing more features\n",
    "\n",
    "df2 = pd.read_csv('/Users/elle.le/Workspace/BoxSize_local/new_data/box_size_cleaned_data_max_features.csv')\n",
    "df2.drop(columns=['order_number'], inplace = True)\n",
    "print('Shape: ', df2.shape)\n",
    "df2.head(3)"
   ]
  },
  {
   "cell_type": "code",
   "execution_count": 4,
   "metadata": {},
   "outputs": [
    {
     "data": {
      "text/plain": [
       "1    187197\n",
       "0    131529\n",
       "2    109295\n",
       "3     91189\n",
       "4      9208\n",
       "Name: FedEx_box_type, dtype: int64"
      ]
     },
     "execution_count": 4,
     "metadata": {},
     "output_type": "execute_result"
    }
   ],
   "source": [
    "df2['FedEx_box_type'].value_counts()"
   ]
  },
  {
   "cell_type": "code",
   "execution_count": 6,
   "metadata": {},
   "outputs": [
    {
     "data": {
      "text/plain": [
       "1    35.425787\n",
       "0    24.891184\n",
       "2    20.683399\n",
       "3    17.257067\n",
       "4     1.742562\n",
       "Name: FedEx_box_type, dtype: float64"
      ]
     },
     "execution_count": 6,
     "metadata": {},
     "output_type": "execute_result"
    }
   ],
   "source": [
    "# Keep the ratio of different box sizes\n",
    "x_train,x_test,y_train, y_test = train_test_split(df2.iloc[:,0:-1], df2['FedEx_box_type'], stratify = df2['FedEx_box_type'])\n",
    "y_train.value_counts()/y_train.shape[0]*100"
   ]
  },
  {
   "cell_type": "code",
   "execution_count": 33,
   "metadata": {},
   "outputs": [
    {
     "data": {
      "text/plain": [
       "array([0.75511903, 0.75345369, 0.75292381, 0.75213848, 0.75350105])"
      ]
     },
     "execution_count": 33,
     "metadata": {},
     "output_type": "execute_result"
    }
   ],
   "source": [
    "#Decision Tree with Cross Validation\n",
    "dt = DecisionTreeClassifier(class_weight='balanced') \n",
    "scores = cross_val_score(dt, x_train, y_train, cv=5)\n",
    "scores\n",
    "\n"
   ]
  },
  {
   "cell_type": "code",
   "execution_count": 7,
   "metadata": {},
   "outputs": [
    {
     "name": "stdout",
     "output_type": "stream",
     "text": [
      "Decision Tree train score 0.8926202269418364\n",
      "Decision Tree test score 0.7527951250898907\n"
     ]
    }
   ],
   "source": [
    "#Decision Tree\n",
    "dt = DecisionTreeClassifier(class_weight='balanced') \n",
    "dt.fit(x_train,y_train)\n",
    "print('Decision Tree train score',dt.score(x_train,y_train))\n",
    "print('Decision Tree test score',dt.score(x_test,y_test))"
   ]
  },
  {
   "cell_type": "code",
   "execution_count": 9,
   "metadata": {},
   "outputs": [
    {
     "name": "stdout",
     "output_type": "stream",
     "text": [
      "Random Forest train score 0.821900871281033\n",
      "Random Forest test score 0.7972748949699103\n"
     ]
    }
   ],
   "source": [
    "# Try Random Forest\n",
    "rf = RandomForestClassifier(n_estimators=500, max_depth=15)\n",
    "rf.fit(x_train,y_train)\n",
    "print('Random Forest train score',rf.score(x_train,y_train))\n",
    "print('Random Forest test score',rf.score(x_test,y_test))"
   ]
  },
  {
   "cell_type": "code",
   "execution_count": 10,
   "metadata": {},
   "outputs": [
    {
     "name": "stdout",
     "output_type": "stream",
     "text": [
      "Random Forest train score 0.8643925382210526\n",
      "Random Forest test score 0.7993035842700882\n"
     ]
    }
   ],
   "source": [
    "# Try Random Forest\n",
    "rf = RandomForestClassifier(n_estimators=500, max_depth=20)\n",
    "rf.fit(x_train,y_train)\n",
    "print('Random Forest train score',rf.score(x_train,y_train))\n",
    "print('Random Forest test score',rf.score(x_test,y_test))"
   ]
  },
  {
   "cell_type": "code",
   "execution_count": 14,
   "metadata": {},
   "outputs": [
    {
     "name": "stdout",
     "output_type": "stream",
     "text": [
      "Random Forest train score 0.7699217537653319\n",
      "Random Forest test score 0.7684266303319329\n"
     ]
    }
   ],
   "source": [
    "# Try Random Forest\n",
    "rf = RandomForestClassifier(n_estimators=200, max_depth=20, max_leaf_nodes=100)\n",
    "rf.fit(x_train,y_train)\n",
    "print('Random Forest train score',rf.score(x_train,y_train))\n",
    "print('Random Forest test score',rf.score(x_test,y_test))"
   ]
  },
  {
   "cell_type": "code",
   "execution_count": 34,
   "metadata": {},
   "outputs": [
    {
     "name": "stdout",
     "output_type": "stream",
     "text": [
      "Random Forest train score 0.8410877261154693\n",
      "Random Forest test score 0.7906589455357481\n",
      "RF with CV = 5:  [0.79322004 0.78990197 0.78997767 0.79109788 0.79140067]\n"
     ]
    }
   ],
   "source": [
    "# Try Random Forest - Best Model so far\n",
    "\n",
    "rf = RandomForestClassifier(n_estimators=200, max_depth=18,class_weight='balanced')\n",
    "rf.fit(x_train,y_train)\n",
    "print('Random Forest train score',rf.score(x_train,y_train))\n",
    "print('Random Forest test score',rf.score(x_test,y_test))\n",
    "\n",
    "# Added Stratified Cross Validation\n",
    "\n",
    "scores = cross_val_score(rf, x_train, y_train, cv=5)\n",
    "print('RF with CV = 5: ',scores)"
   ]
  },
  {
   "cell_type": "code",
   "execution_count": 52,
   "metadata": {},
   "outputs": [
    {
     "data": {
      "text/plain": [
       "{'item_size_0': 0.020460639654389972,\n",
       " 'item_size_1': 0.00023667386756592612,\n",
       " 'item_size_2': 0.08008833155321401,\n",
       " 'item_size_3': 0.05722261273467182,\n",
       " 'max_item_dim': 0.23601648768017755,\n",
       " 'max_item_vol': 0.17047227438030194,\n",
       " 'average_item_vol': 0.08627349473778853,\n",
       " 'min_item_vol': 0.06551961841117203,\n",
       " 'std_item_vol': 0.05597804612197759,\n",
       " 'total_item_vol': 0.1747766049192534,\n",
       " 'variance_item_vol': 0.05295521593948744}"
      ]
     },
     "execution_count": 52,
     "metadata": {},
     "output_type": "execute_result"
    }
   ],
   "source": [
    "# RF Feature Importance\n",
    "dict(zip(df2.columns,rf.feature_importances_))"
   ]
  },
  {
   "cell_type": "code",
   "execution_count": 35,
   "metadata": {},
   "outputs": [
    {
     "data": {
      "text/html": [
       "<div>\n",
       "<style scoped>\n",
       "    .dataframe tbody tr th:only-of-type {\n",
       "        vertical-align: middle;\n",
       "    }\n",
       "\n",
       "    .dataframe tbody tr th {\n",
       "        vertical-align: top;\n",
       "    }\n",
       "\n",
       "    .dataframe thead th {\n",
       "        text-align: right;\n",
       "    }\n",
       "</style>\n",
       "<table border=\"1\" class=\"dataframe\">\n",
       "  <thead>\n",
       "    <tr style=\"text-align: right;\">\n",
       "      <th></th>\n",
       "      <th>0</th>\n",
       "      <th>1</th>\n",
       "      <th>2</th>\n",
       "      <th>3</th>\n",
       "      <th>4</th>\n",
       "    </tr>\n",
       "  </thead>\n",
       "  <tbody>\n",
       "    <tr>\n",
       "      <td>0</td>\n",
       "      <td>28025</td>\n",
       "      <td>4484</td>\n",
       "      <td>74</td>\n",
       "      <td>245</td>\n",
       "      <td>54</td>\n",
       "    </tr>\n",
       "    <tr>\n",
       "      <td>1</td>\n",
       "      <td>6622</td>\n",
       "      <td>35754</td>\n",
       "      <td>4004</td>\n",
       "      <td>291</td>\n",
       "      <td>129</td>\n",
       "    </tr>\n",
       "    <tr>\n",
       "      <td>2</td>\n",
       "      <td>1019</td>\n",
       "      <td>4385</td>\n",
       "      <td>20625</td>\n",
       "      <td>1108</td>\n",
       "      <td>187</td>\n",
       "    </tr>\n",
       "    <tr>\n",
       "      <td>3</td>\n",
       "      <td>505</td>\n",
       "      <td>518</td>\n",
       "      <td>1802</td>\n",
       "      <td>18738</td>\n",
       "      <td>1234</td>\n",
       "    </tr>\n",
       "    <tr>\n",
       "      <td>4</td>\n",
       "      <td>71</td>\n",
       "      <td>65</td>\n",
       "      <td>160</td>\n",
       "      <td>698</td>\n",
       "      <td>1308</td>\n",
       "    </tr>\n",
       "  </tbody>\n",
       "</table>\n",
       "</div>"
      ],
      "text/plain": [
       "       0      1      2      3     4\n",
       "0  28025   4484     74    245    54\n",
       "1   6622  35754   4004    291   129\n",
       "2   1019   4385  20625   1108   187\n",
       "3    505    518   1802  18738  1234\n",
       "4     71     65    160    698  1308"
      ]
     },
     "execution_count": 35,
     "metadata": {},
     "output_type": "execute_result"
    }
   ],
   "source": [
    "pd.DataFrame(confusion_matrix(y_test, rf.predict(x_test)))"
   ]
  },
  {
   "cell_type": "code",
   "execution_count": 56,
   "metadata": {},
   "outputs": [
    {
     "data": {
      "text/plain": [
       "array([[28025,  4484,    74,   245,    54],\n",
       "       [ 6622, 35754,  4004,   291,   129],\n",
       "       [ 1019,  4385, 20625,  1108,   187],\n",
       "       [  505,   518,  1802, 18738,  1234],\n",
       "       [   71,    65,   160,   698,  1308]])"
      ]
     },
     "execution_count": 56,
     "metadata": {},
     "output_type": "execute_result"
    }
   ],
   "source": [
    "cm=confusion_matrix(y_test, rf.predict(x_test))\n",
    "cm"
   ]
  },
  {
   "cell_type": "code",
   "execution_count": 58,
   "metadata": {},
   "outputs": [
    {
     "data": {
      "text/plain": [
       "(5, 5)"
      ]
     },
     "execution_count": 58,
     "metadata": {},
     "output_type": "execute_result"
    }
   ],
   "source": [
    "cm.shape"
   ]
  },
  {
   "cell_type": "code",
   "execution_count": 63,
   "metadata": {},
   "outputs": [
    {
     "data": {
      "image/png": "[encoded data removed]",
      "text/plain": [
       "<Figure size 648x648 with 2 Axes>"
      ]
     },
     "metadata": {},
     "output_type": "display_data"
    }
   ],
   "source": [
    "import matplotlib.pyplot as plt\n",
    "import seaborn as sns\n",
    "plt.figure(figsize=(9,9))\n",
    "sns.heatmap(cm, annot=True, fmt=\".3f\", linewidths=.5, square = True, cmap = 'Blues_r');\n",
    "plt.ylabel('Actual label');\n",
    "plt.xlabel('Predicted label');\n",
    "#all_sample_title = 'Accuracy Score: {0}'.format(score)\n",
    "#plt.title(all_sample_title, size = xx);"
   ]
  },
  {
   "cell_type": "code",
   "execution_count": 26,
   "metadata": {},
   "outputs": [
    {
     "data": {
      "text/plain": [
       "array([0.82008394, 0.81529915, 0.72712634, 0.85888494, 0.43266725])"
      ]
     },
     "execution_count": 26,
     "metadata": {},
     "output_type": "execute_result"
    }
   ],
   "source": [
    "recall_score(y_test, rf.predict(x_test), average=None)"
   ]
  },
  {
   "cell_type": "code",
   "execution_count": 27,
   "metadata": {},
   "outputs": [
    {
     "data": {
      "text/plain": [
       "0.7991067711290262"
      ]
     },
     "execution_count": 27,
     "metadata": {},
     "output_type": "execute_result"
    }
   ],
   "source": [
    "recall_score(y_test, rf.predict(x_test), average='weighted')"
   ]
  },
  {
   "cell_type": "code",
   "execution_count": 47,
   "metadata": {},
   "outputs": [
    {
     "name": "stderr",
     "output_type": "stream",
     "text": [
      "/Users/elle.le/opt/anaconda3/lib/python3.7/site-packages/sklearn/linear_model/_logistic.py:940: ConvergenceWarning: lbfgs failed to converge (status=1):\n",
      "STOP: TOTAL NO. of ITERATIONS REACHED LIMIT.\n",
      "\n",
      "Increase the number of iterations (max_iter) or scale the data as shown in:\n",
      "    https://scikit-learn.org/stable/modules/preprocessing.html\n",
      "Please also refer to the documentation for alternative solver options:\n",
      "    https://scikit-learn.org/stable/modules/linear_model.html#logistic-regression\n",
      "  extra_warning_msg=_LOGISTIC_SOLVER_CONVERGENCE_MSG)\n"
     ]
    },
    {
     "data": {
      "text/plain": [
       "LogisticRegression(C=1.0, class_weight='balanced', dual=False,\n",
       "                   fit_intercept=True, intercept_scaling=1, l1_ratio=None,\n",
       "                   max_iter=200, multi_class='multinomial', n_jobs=None,\n",
       "                   penalty='l2', random_state=0, solver='lbfgs', tol=0.0001,\n",
       "                   verbose=0, warm_start=False)"
      ]
     },
     "execution_count": 47,
     "metadata": {},
     "output_type": "execute_result"
    }
   ],
   "source": [
    "# Try multiclass logistic regression\n",
    "\n",
    "clf = LogisticRegression(random_state=0, multi_class = 'multinomial', max_iter=200, \n",
    "                         solver='lbfgs', class_weight = 'balanced')\n",
    "clf.fit(x_train, y_train)\n"
   ]
  },
  {
   "cell_type": "code",
   "execution_count": 48,
   "metadata": {},
   "outputs": [
    {
     "data": {
      "text/plain": [
       "0.48340579289601904"
      ]
     },
     "execution_count": 48,
     "metadata": {},
     "output_type": "execute_result"
    }
   ],
   "source": [
    "clf.score(x_train,y_train)"
   ]
  },
  {
   "cell_type": "code",
   "execution_count": 49,
   "metadata": {},
   "outputs": [
    {
     "data": {
      "text/plain": [
       "0.4854774611104803"
      ]
     },
     "execution_count": 49,
     "metadata": {},
     "output_type": "execute_result"
    }
   ],
   "source": [
    "clf.score(x_test,y_test)"
   ]
  },
  {
   "cell_type": "code",
   "execution_count": 17,
   "metadata": {},
   "outputs": [],
   "source": [
    "from sklearn.tree import export_graphviz\n",
    "export_graphviz(dt, out_file=\"tree.dot\", class_names=['0','1','2','3'],\n",
    "feature_names=['item_size_0', 'item_size_1', 'item_size_2','item_size_3'], impurity=False, filled=True)"
   ]
  },
  {
   "cell_type": "code",
   "execution_count": 18,
   "metadata": {},
   "outputs": [
    {
     "data": {
      "image/svg+xml": [
       "<?xml version=\"1.0\" encoding=\"UTF-8\" standalone=\"no\"?>\n",
       "<!DOCTYPE svg PUBLIC \"-//W3C//DTD SVG 1.1//EN\"\n",
       " \"http://www.w3.org/Graphics/SVG/1.1/DTD/svg11.dtd\">\n",
       "<!-- Generated by graphviz version 2.40.1 (20161225.0304)\n",
       " -->\n",
       "<!-- Title: Tree Pages: 1 -->\n",
       "<svg width=\"2345pt\" height=\"997pt\"\n",
       " viewBox=\"0.00 0.00 2345.00 997.00\" xmlns=\"http://www.w3.org/2000/svg\" xmlns:xlink=\"http://www.w3.org/1999/xlink\">\n",
       "<g id=\"graph0\" class=\"graph\" transform=\"scale(1 1) rotate(0) translate(4 993)\">\n",
       "<title>Tree</title>\n",
       "<polygon fill=\"#ffffff\" stroke=\"transparent\" points=\"-4,4 -4,-993 2341,-993 2341,4 -4,4\"/>\n",
       "<!-- 0 -->\n",
       "<g id=\"node1\" class=\"node\">\n",
       "<title>0</title>\n",
       "<polygon fill=\"#ffffff\" stroke=\"#000000\" points=\"2009,-989 1829,-989 1829,-921 2009,-921 2009,-989\"/>\n",
       "<text text-anchor=\"middle\" x=\"1919\" y=\"-973.8\" font-family=\"Times,serif\" font-size=\"14.00\" fill=\"#000000\">item_size_3 &lt;= 0.5</text>\n",
       "<text text-anchor=\"middle\" x=\"1919\" y=\"-958.8\" font-family=\"Times,serif\" font-size=\"14.00\" fill=\"#000000\">samples = 2172</text>\n",
       "<text text-anchor=\"middle\" x=\"1919\" y=\"-943.8\" font-family=\"Times,serif\" font-size=\"14.00\" fill=\"#000000\">value = [724.0, 724.0, 724.0]</text>\n",
       "<text text-anchor=\"middle\" x=\"1919\" y=\"-928.8\" font-family=\"Times,serif\" font-size=\"14.00\" fill=\"#000000\">class = 2</text>\n",
       "</g>\n",
       "<!-- 1 -->\n",
       "<g id=\"node2\" class=\"node\">\n",
       "<title>1</title>\n",
       "<polygon fill=\"#fdf6f0\" stroke=\"#000000\" points=\"1915,-885 1721,-885 1721,-817 1915,-817 1915,-885\"/>\n",
       "<text text-anchor=\"middle\" x=\"1818\" y=\"-869.8\" font-family=\"Times,serif\" font-size=\"14.00\" fill=\"#000000\">item_size_0 &lt;= 4.5</text>\n",
       "<text text-anchor=\"middle\" x=\"1818\" y=\"-854.8\" font-family=\"Times,serif\" font-size=\"14.00\" fill=\"#000000\">samples = 2063</text>\n",
       "<text text-anchor=\"middle\" x=\"1818\" y=\"-839.8\" font-family=\"Times,serif\" font-size=\"14.00\" fill=\"#000000\">value = [724.0, 651.764, 253.4]</text>\n",
       "<text text-anchor=\"middle\" x=\"1818\" y=\"-824.8\" font-family=\"Times,serif\" font-size=\"14.00\" fill=\"#000000\">class = 0</text>\n",
       "</g>\n",
       "<!-- 0&#45;&gt;1 -->\n",
       "<g id=\"edge1\" class=\"edge\">\n",
       "<title>0&#45;&gt;1</title>\n",
       "<path fill=\"none\" stroke=\"#000000\" d=\"M1885.9288,-920.9465C1877.1221,-911.8782 1867.5093,-901.9799 1858.3597,-892.5585\"/>\n",
       "<polygon fill=\"#000000\" stroke=\"#000000\" points=\"1860.6232,-889.8654 1851.1455,-885.13 1855.6015,-894.7422 1860.6232,-889.8654\"/>\n",
       "<text text-anchor=\"middle\" x=\"1850.7797\" y=\"-906.4273\" font-family=\"Times,serif\" font-size=\"14.00\" fill=\"#000000\">True</text>\n",
       "</g>\n",
       "<!-- 36 -->\n",
       "<g id=\"node37\" class=\"node\">\n",
       "<title>36</title>\n",
       "<polygon fill=\"#9457e9\" stroke=\"#000000\" points=\"2106.5,-885 1933.5,-885 1933.5,-817 2106.5,-817 2106.5,-885\"/>\n",
       "<text text-anchor=\"middle\" x=\"2020\" y=\"-869.8\" font-family=\"Times,serif\" font-size=\"14.00\" fill=\"#000000\">item_size_3 &lt;= 1.5</text>\n",
       "<text text-anchor=\"middle\" x=\"2020\" y=\"-854.8\" font-family=\"Times,serif\" font-size=\"14.00\" fill=\"#000000\">samples = 109</text>\n",
       "<text text-anchor=\"middle\" x=\"2020\" y=\"-839.8\" font-family=\"Times,serif\" font-size=\"14.00\" fill=\"#000000\">value = [0.0, 72.236, 470.6]</text>\n",
       "<text text-anchor=\"middle\" x=\"2020\" y=\"-824.8\" font-family=\"Times,serif\" font-size=\"14.00\" fill=\"#000000\">class = 2</text>\n",
       "</g>\n",
       "<!-- 0&#45;&gt;36 -->\n",
       "<g id=\"edge36\" class=\"edge\">\n",
       "<title>0&#45;&gt;36</title>\n",
       "<path fill=\"none\" stroke=\"#000000\" d=\"M1952.0712,-920.9465C1960.8779,-911.8782 1970.4907,-901.9799 1979.6403,-892.5585\"/>\n",
       "<polygon fill=\"#000000\" stroke=\"#000000\" points=\"1982.3985,-894.7422 1986.8545,-885.13 1977.3768,-889.8654 1982.3985,-894.7422\"/>\n",
       "<text text-anchor=\"middle\" x=\"1987.2203\" y=\"-906.4273\" font-family=\"Times,serif\" font-size=\"14.00\" fill=\"#000000\">False</text>\n",
       "</g>\n",
       "<!-- 2 -->\n",
       "<g id=\"node3\" class=\"node\">\n",
       "<title>2</title>\n",
       "<polygon fill=\"#fcf1e9\" stroke=\"#000000\" points=\"1368.5,-781 1167.5,-781 1167.5,-713 1368.5,-713 1368.5,-781\"/>\n",
       "<text text-anchor=\"middle\" x=\"1268\" y=\"-765.8\" font-family=\"Times,serif\" font-size=\"14.00\" fill=\"#000000\">item_size_0 &lt;= 0.5</text>\n",
       "<text text-anchor=\"middle\" x=\"1268\" y=\"-750.8\" font-family=\"Times,serif\" font-size=\"14.00\" fill=\"#000000\">samples = 2032</text>\n",
       "<text text-anchor=\"middle\" x=\"1268\" y=\"-735.8\" font-family=\"Times,serif\" font-size=\"14.00\" fill=\"#000000\">value = [724.0, 627.138, 137.56]</text>\n",
       "<text text-anchor=\"middle\" x=\"1268\" y=\"-720.8\" font-family=\"Times,serif\" font-size=\"14.00\" fill=\"#000000\">class = 0</text>\n",
       "</g>\n",
       "<!-- 1&#45;&gt;2 -->\n",
       "<g id=\"edge2\" class=\"edge\">\n",
       "<title>1&#45;&gt;2</title>\n",
       "<path fill=\"none\" stroke=\"#000000\" d=\"M1720.9371,-832.6463C1625.1351,-814.531 1478.8425,-786.8684 1378.5985,-767.9132\"/>\n",
       "<polygon fill=\"#000000\" stroke=\"#000000\" points=\"1379.2172,-764.4682 1368.741,-766.0492 1377.9165,-771.3463 1379.2172,-764.4682\"/>\n",
       "</g>\n",
       "<!-- 27 -->\n",
       "<g id=\"node28\" class=\"node\">\n",
       "<title>27</title>\n",
       "<polygon fill=\"#9c63eb\" stroke=\"#000000\" points=\"1909,-781 1729,-781 1729,-713 1909,-713 1909,-781\"/>\n",
       "<text text-anchor=\"middle\" x=\"1819\" y=\"-765.8\" font-family=\"Times,serif\" font-size=\"14.00\" fill=\"#000000\">item_size_0 &lt;= 8.5</text>\n",
       "<text text-anchor=\"middle\" x=\"1819\" y=\"-750.8\" font-family=\"Times,serif\" font-size=\"14.00\" fill=\"#000000\">samples = 31</text>\n",
       "<text text-anchor=\"middle\" x=\"1819\" y=\"-735.8\" font-family=\"Times,serif\" font-size=\"14.00\" fill=\"#000000\">value = [0.0, 24.626, 115.84]</text>\n",
       "<text text-anchor=\"middle\" x=\"1819\" y=\"-720.8\" font-family=\"Times,serif\" font-size=\"14.00\" fill=\"#000000\">class = 2</text>\n",
       "</g>\n",
       "<!-- 1&#45;&gt;27 -->\n",
       "<g id=\"edge27\" class=\"edge\">\n",
       "<title>1&#45;&gt;27</title>\n",
       "<path fill=\"none\" stroke=\"#000000\" d=\"M1818.3274,-816.9465C1818.406,-808.776 1818.491,-799.9318 1818.5734,-791.3697\"/>\n",
       "<polygon fill=\"#000000\" stroke=\"#000000\" points=\"1822.0754,-791.1632 1818.6718,-781.13 1815.0757,-791.0958 1822.0754,-791.1632\"/>\n",
       "</g>\n",
       "<!-- 3 -->\n",
       "<g id=\"node4\" class=\"node\">\n",
       "<title>3</title>\n",
       "<polygon fill=\"#acf4ca\" stroke=\"#000000\" points=\"803.5,-677 588.5,-677 588.5,-609 803.5,-609 803.5,-677\"/>\n",
       "<text text-anchor=\"middle\" x=\"696\" y=\"-661.8\" font-family=\"Times,serif\" font-size=\"14.00\" fill=\"#000000\">item_size_1 &lt;= 1.5</text>\n",
       "<text text-anchor=\"middle\" x=\"696\" y=\"-646.8\" font-family=\"Times,serif\" font-size=\"14.00\" fill=\"#000000\">samples = 704</text>\n",
       "<text text-anchor=\"middle\" x=\"696\" y=\"-631.8\" font-family=\"Times,serif\" font-size=\"14.00\" fill=\"#000000\">value = [189.101, 425.206, 137.56]</text>\n",
       "<text text-anchor=\"middle\" x=\"696\" y=\"-616.8\" font-family=\"Times,serif\" font-size=\"14.00\" fill=\"#000000\">class = 1</text>\n",
       "</g>\n",
       "<!-- 2&#45;&gt;3 -->\n",
       "<g id=\"edge3\" class=\"edge\">\n",
       "<title>2&#45;&gt;3</title>\n",
       "<path fill=\"none\" stroke=\"#000000\" d=\"M1167.3828,-728.706C1068.629,-710.7507 918.0605,-683.3746 813.7807,-664.4147\"/>\n",
       "<polygon fill=\"#000000\" stroke=\"#000000\" points=\"814.3017,-660.9521 803.8369,-662.6067 813.0495,-667.8392 814.3017,-660.9521\"/>\n",
       "</g>\n",
       "<!-- 20 -->\n",
       "<g id=\"node21\" class=\"node\">\n",
       "<title>20</title>\n",
       "<polygon fill=\"#efb184\" stroke=\"#000000\" points=\"1365,-677 1171,-677 1171,-609 1365,-609 1365,-677\"/>\n",
       "<text text-anchor=\"middle\" x=\"1268\" y=\"-661.8\" font-family=\"Times,serif\" font-size=\"14.00\" fill=\"#000000\">item_size_0 &lt;= 2.5</text>\n",
       "<text text-anchor=\"middle\" x=\"1268\" y=\"-646.8\" font-family=\"Times,serif\" font-size=\"14.00\" fill=\"#000000\">samples = 1328</text>\n",
       "<text text-anchor=\"middle\" x=\"1268\" y=\"-631.8\" font-family=\"Times,serif\" font-size=\"14.00\" fill=\"#000000\">value = [534.899, 201.932, 0.0]</text>\n",
       "<text text-anchor=\"middle\" x=\"1268\" y=\"-616.8\" font-family=\"Times,serif\" font-size=\"14.00\" fill=\"#000000\">class = 0</text>\n",
       "</g>\n",
       "<!-- 2&#45;&gt;20 -->\n",
       "<g id=\"edge20\" class=\"edge\">\n",
       "<title>2&#45;&gt;20</title>\n",
       "<path fill=\"none\" stroke=\"#000000\" d=\"M1268,-712.9465C1268,-704.776 1268,-695.9318 1268,-687.3697\"/>\n",
       "<polygon fill=\"#000000\" stroke=\"#000000\" points=\"1271.5001,-687.13 1268,-677.13 1264.5001,-687.13 1271.5001,-687.13\"/>\n",
       "</g>\n",
       "<!-- 4 -->\n",
       "<g id=\"node5\" class=\"node\">\n",
       "<title>4</title>\n",
       "<polygon fill=\"#a5f3c6\" stroke=\"#000000\" points=\"508,-573 300,-573 300,-505 508,-505 508,-573\"/>\n",
       "<text text-anchor=\"middle\" x=\"404\" y=\"-557.8\" font-family=\"Times,serif\" font-size=\"14.00\" fill=\"#000000\">item_size_2 &lt;= 7.0</text>\n",
       "<text text-anchor=\"middle\" x=\"404\" y=\"-542.8\" font-family=\"Times,serif\" font-size=\"14.00\" fill=\"#000000\">samples = 675</text>\n",
       "<text text-anchor=\"middle\" x=\"404\" y=\"-527.8\" font-family=\"Times,serif\" font-size=\"14.00\" fill=\"#000000\">value = [188.213, 397.297, 65.16]</text>\n",
       "<text text-anchor=\"middle\" x=\"404\" y=\"-512.8\" font-family=\"Times,serif\" font-size=\"14.00\" fill=\"#000000\">class = 1</text>\n",
       "</g>\n",
       "<!-- 3&#45;&gt;4 -->\n",
       "<g id=\"edge4\" class=\"edge\">\n",
       "<title>3&#45;&gt;4</title>\n",
       "<path fill=\"none\" stroke=\"#000000\" d=\"M600.3883,-608.9465C571.2719,-598.5763 539.1081,-587.1207 509.3844,-576.5342\"/>\n",
       "<polygon fill=\"#000000\" stroke=\"#000000\" points=\"510.4212,-573.1881 499.8265,-573.13 508.0725,-579.7824 510.4212,-573.1881\"/>\n",
       "</g>\n",
       "<!-- 15 -->\n",
       "<g id=\"node16\" class=\"node\">\n",
       "<title>15</title>\n",
       "<polygon fill=\"#b387ef\" stroke=\"#000000\" points=\"786,-573 606,-573 606,-505 786,-505 786,-573\"/>\n",
       "<text text-anchor=\"middle\" x=\"696\" y=\"-557.8\" font-family=\"Times,serif\" font-size=\"14.00\" fill=\"#000000\">item_size_1 &lt;= 2.5</text>\n",
       "<text text-anchor=\"middle\" x=\"696\" y=\"-542.8\" font-family=\"Times,serif\" font-size=\"14.00\" fill=\"#000000\">samples = 29</text>\n",
       "<text text-anchor=\"middle\" x=\"696\" y=\"-527.8\" font-family=\"Times,serif\" font-size=\"14.00\" fill=\"#000000\">value = [0.888, 27.909, 72.4]</text>\n",
       "<text text-anchor=\"middle\" x=\"696\" y=\"-512.8\" font-family=\"Times,serif\" font-size=\"14.00\" fill=\"#000000\">class = 2</text>\n",
       "</g>\n",
       "<!-- 3&#45;&gt;15 -->\n",
       "<g id=\"edge15\" class=\"edge\">\n",
       "<title>3&#45;&gt;15</title>\n",
       "<path fill=\"none\" stroke=\"#000000\" d=\"M696,-608.9465C696,-600.776 696,-591.9318 696,-583.3697\"/>\n",
       "<polygon fill=\"#000000\" stroke=\"#000000\" points=\"699.5001,-583.13 696,-573.13 692.5001,-583.13 699.5001,-583.13\"/>\n",
       "</g>\n",
       "<!-- 5 -->\n",
       "<g id=\"node6\" class=\"node\">\n",
       "<title>5</title>\n",
       "<polygon fill=\"#a3f3c4\" stroke=\"#000000\" points=\"310,-469 102,-469 102,-401 310,-401 310,-469\"/>\n",
       "<text text-anchor=\"middle\" x=\"206\" y=\"-453.8\" font-family=\"Times,serif\" font-size=\"14.00\" fill=\"#000000\">item_size_1 &lt;= 0.5</text>\n",
       "<text text-anchor=\"middle\" x=\"206\" y=\"-438.8\" font-family=\"Times,serif\" font-size=\"14.00\" fill=\"#000000\">samples = 673</text>\n",
       "<text text-anchor=\"middle\" x=\"206\" y=\"-423.8\" font-family=\"Times,serif\" font-size=\"14.00\" fill=\"#000000\">value = [188.213, 397.297, 50.68]</text>\n",
       "<text text-anchor=\"middle\" x=\"206\" y=\"-408.8\" font-family=\"Times,serif\" font-size=\"14.00\" fill=\"#000000\">class = 1</text>\n",
       "</g>\n",
       "<!-- 4&#45;&gt;5 -->\n",
       "<g id=\"edge5\" class=\"edge\">\n",
       "<title>4&#45;&gt;5</title>\n",
       "<path fill=\"none\" stroke=\"#000000\" d=\"M339.1674,-504.9465C320.2788,-495.0252 299.4988,-484.1105 280.0858,-473.9138\"/>\n",
       "<polygon fill=\"#000000\" stroke=\"#000000\" points=\"281.4589,-470.6816 270.9783,-469.13 278.2038,-476.8787 281.4589,-470.6816\"/>\n",
       "</g>\n",
       "<!-- 14 -->\n",
       "<g id=\"node15\" class=\"node\">\n",
       "<title>14</title>\n",
       "<polygon fill=\"#8139e5\" stroke=\"#000000\" points=\"480,-461.5 328,-461.5 328,-408.5 480,-408.5 480,-461.5\"/>\n",
       "<text text-anchor=\"middle\" x=\"404\" y=\"-446.3\" font-family=\"Times,serif\" font-size=\"14.00\" fill=\"#000000\">samples = 2</text>\n",
       "<text text-anchor=\"middle\" x=\"404\" y=\"-431.3\" font-family=\"Times,serif\" font-size=\"14.00\" fill=\"#000000\">value = [0.0, 0.0, 14.48]</text>\n",
       "<text text-anchor=\"middle\" x=\"404\" y=\"-416.3\" font-family=\"Times,serif\" font-size=\"14.00\" fill=\"#000000\">class = 2</text>\n",
       "</g>\n",
       "<!-- 4&#45;&gt;14 -->\n",
       "<g id=\"edge14\" class=\"edge\">\n",
       "<title>4&#45;&gt;14</title>\n",
       "<path fill=\"none\" stroke=\"#000000\" d=\"M404,-504.9465C404,-494.2621 404,-482.4254 404,-471.5742\"/>\n",
       "<polygon fill=\"#000000\" stroke=\"#000000\" points=\"407.5001,-471.5421 404,-461.5422 400.5001,-471.5422 407.5001,-471.5421\"/>\n",
       "</g>\n",
       "<!-- 6 -->\n",
       "<g id=\"node7\" class=\"node\">\n",
       "<title>6</title>\n",
       "<polygon fill=\"#e5fcef\" stroke=\"#000000\" points=\"299.5,-365 98.5,-365 98.5,-297 299.5,-297 299.5,-365\"/>\n",
       "<text text-anchor=\"middle\" x=\"199\" y=\"-349.8\" font-family=\"Times,serif\" font-size=\"14.00\" fill=\"#000000\">item_size_2 &lt;= 1.5</text>\n",
       "<text text-anchor=\"middle\" x=\"199\" y=\"-334.8\" font-family=\"Times,serif\" font-size=\"14.00\" fill=\"#000000\">samples = 383</text>\n",
       "<text text-anchor=\"middle\" x=\"199\" y=\"-319.8\" font-family=\"Times,serif\" font-size=\"14.00\" fill=\"#000000\">value = [129.175, 149.397, 7.24]</text>\n",
       "<text text-anchor=\"middle\" x=\"199\" y=\"-304.8\" font-family=\"Times,serif\" font-size=\"14.00\" fill=\"#000000\">class = 1</text>\n",
       "</g>\n",
       "<!-- 5&#45;&gt;6 -->\n",
       "<g id=\"edge6\" class=\"edge\">\n",
       "<title>5&#45;&gt;6</title>\n",
       "<path fill=\"none\" stroke=\"#000000\" d=\"M203.7079,-400.9465C203.158,-392.776 202.5627,-383.9318 201.9864,-375.3697\"/>\n",
       "<polygon fill=\"#000000\" stroke=\"#000000\" points=\"205.461,-374.8723 201.2972,-365.13 198.4768,-375.3425 205.461,-374.8723\"/>\n",
       "</g>\n",
       "<!-- 13 -->\n",
       "<g id=\"node14\" class=\"node\">\n",
       "<title>13</title>\n",
       "<polygon fill=\"#7feead\" stroke=\"#000000\" points=\"504.5,-357.5 317.5,-357.5 317.5,-304.5 504.5,-304.5 504.5,-357.5\"/>\n",
       "<text text-anchor=\"middle\" x=\"411\" y=\"-342.3\" font-family=\"Times,serif\" font-size=\"14.00\" fill=\"#000000\">samples = 290</text>\n",
       "<text text-anchor=\"middle\" x=\"411\" y=\"-327.3\" font-family=\"Times,serif\" font-size=\"14.00\" fill=\"#000000\">value = [59.039, 247.9, 43.44]</text>\n",
       "<text text-anchor=\"middle\" x=\"411\" y=\"-312.3\" font-family=\"Times,serif\" font-size=\"14.00\" fill=\"#000000\">class = 1</text>\n",
       "</g>\n",
       "<!-- 5&#45;&gt;13 -->\n",
       "<g id=\"edge13\" class=\"edge\">\n",
       "<title>5&#45;&gt;13</title>\n",
       "<path fill=\"none\" stroke=\"#000000\" d=\"M273.1247,-400.9465C297.7679,-388.4446 325.5205,-374.3652 349.6325,-362.1328\"/>\n",
       "<polygon fill=\"#000000\" stroke=\"#000000\" points=\"351.3468,-365.1878 358.6813,-357.5422 348.1798,-358.9452 351.3468,-365.1878\"/>\n",
       "</g>\n",
       "<!-- 7 -->\n",
       "<g id=\"node8\" class=\"node\">\n",
       "<title>7</title>\n",
       "<polygon fill=\"#fcf2eb\" stroke=\"#000000\" points=\"194,-253.5 0,-253.5 0,-200.5 194,-200.5 194,-253.5\"/>\n",
       "<text text-anchor=\"middle\" x=\"97\" y=\"-238.3\" font-family=\"Times,serif\" font-size=\"14.00\" fill=\"#000000\">samples = 337</text>\n",
       "<text text-anchor=\"middle\" x=\"97\" y=\"-223.3\" font-family=\"Times,serif\" font-size=\"14.00\" fill=\"#000000\">value = [120.297, 108.354, 0.0]</text>\n",
       "<text text-anchor=\"middle\" x=\"97\" y=\"-208.3\" font-family=\"Times,serif\" font-size=\"14.00\" fill=\"#000000\">class = 0</text>\n",
       "</g>\n",
       "<!-- 6&#45;&gt;7 -->\n",
       "<g id=\"edge7\" class=\"edge\">\n",
       "<title>6&#45;&gt;7</title>\n",
       "<path fill=\"none\" stroke=\"#000000\" d=\"M165.6014,-296.9465C154.2582,-285.3809 141.5908,-272.4652 130.2585,-260.9107\"/>\n",
       "<polygon fill=\"#000000\" stroke=\"#000000\" points=\"132.5326,-258.2308 123.0317,-253.5422 127.5351,-263.1323 132.5326,-258.2308\"/>\n",
       "</g>\n",
       "<!-- 8 -->\n",
       "<g id=\"node9\" class=\"node\">\n",
       "<title>8</title>\n",
       "<polygon fill=\"#7beeab\" stroke=\"#000000\" points=\"392,-261 212,-261 212,-193 392,-193 392,-261\"/>\n",
       "<text text-anchor=\"middle\" x=\"302\" y=\"-245.8\" font-family=\"Times,serif\" font-size=\"14.00\" fill=\"#000000\">item_size_2 &lt;= 2.5</text>\n",
       "<text text-anchor=\"middle\" x=\"302\" y=\"-230.8\" font-family=\"Times,serif\" font-size=\"14.00\" fill=\"#000000\">samples = 46</text>\n",
       "<text text-anchor=\"middle\" x=\"302\" y=\"-215.8\" font-family=\"Times,serif\" font-size=\"14.00\" fill=\"#000000\">value = [8.878, 41.043, 7.24]</text>\n",
       "<text text-anchor=\"middle\" x=\"302\" y=\"-200.8\" font-family=\"Times,serif\" font-size=\"14.00\" fill=\"#000000\">class = 1</text>\n",
       "</g>\n",
       "<!-- 6&#45;&gt;8 -->\n",
       "<g id=\"edge8\" class=\"edge\">\n",
       "<title>6&#45;&gt;8</title>\n",
       "<path fill=\"none\" stroke=\"#000000\" d=\"M232.7261,-296.9465C241.7961,-287.7884 251.7045,-277.7838 261.1181,-268.2788\"/>\n",
       "<polygon fill=\"#000000\" stroke=\"#000000\" points=\"263.6481,-270.6981 268.1982,-261.13 258.6745,-265.7723 263.6481,-270.6981\"/>\n",
       "</g>\n",
       "<!-- 9 -->\n",
       "<g id=\"node10\" class=\"node\">\n",
       "<title>9</title>\n",
       "<polygon fill=\"#6feca3\" stroke=\"#000000\" points=\"291.5,-149.5 118.5,-149.5 118.5,-96.5 291.5,-96.5 291.5,-149.5\"/>\n",
       "<text text-anchor=\"middle\" x=\"205\" y=\"-134.3\" font-family=\"Times,serif\" font-size=\"14.00\" fill=\"#000000\">samples = 34</text>\n",
       "<text text-anchor=\"middle\" x=\"205\" y=\"-119.3\" font-family=\"Times,serif\" font-size=\"14.00\" fill=\"#000000\">value = [7.546, 27.909, 0.0]</text>\n",
       "<text text-anchor=\"middle\" x=\"205\" y=\"-104.3\" font-family=\"Times,serif\" font-size=\"14.00\" fill=\"#000000\">class = 1</text>\n",
       "</g>\n",
       "<!-- 8&#45;&gt;9 -->\n",
       "<g id=\"edge9\" class=\"edge\">\n",
       "<title>8&#45;&gt;9</title>\n",
       "<path fill=\"none\" stroke=\"#000000\" d=\"M270.2386,-192.9465C259.4514,-181.3809 247.405,-168.4652 236.6282,-156.9107\"/>\n",
       "<polygon fill=\"#000000\" stroke=\"#000000\" points=\"239.1359,-154.4678 229.7557,-149.5422 234.0169,-159.2423 239.1359,-154.4678\"/>\n",
       "</g>\n",
       "<!-- 10 -->\n",
       "<g id=\"node11\" class=\"node\">\n",
       "<title>10</title>\n",
       "<polygon fill=\"#aef4cc\" stroke=\"#000000\" points=\"490,-157 310,-157 310,-89 490,-89 490,-157\"/>\n",
       "<text text-anchor=\"middle\" x=\"400\" y=\"-141.8\" font-family=\"Times,serif\" font-size=\"14.00\" fill=\"#000000\">item_size_2 &lt;= 3.5</text>\n",
       "<text text-anchor=\"middle\" x=\"400\" y=\"-126.8\" font-family=\"Times,serif\" font-size=\"14.00\" fill=\"#000000\">samples = 12</text>\n",
       "<text text-anchor=\"middle\" x=\"400\" y=\"-111.8\" font-family=\"Times,serif\" font-size=\"14.00\" fill=\"#000000\">value = [1.332, 13.134, 7.24]</text>\n",
       "<text text-anchor=\"middle\" x=\"400\" y=\"-96.8\" font-family=\"Times,serif\" font-size=\"14.00\" fill=\"#000000\">class = 1</text>\n",
       "</g>\n",
       "<!-- 8&#45;&gt;10 -->\n",
       "<g id=\"edge10\" class=\"edge\">\n",
       "<title>8&#45;&gt;10</title>\n",
       "<path fill=\"none\" stroke=\"#000000\" d=\"M334.0889,-192.9465C342.634,-183.8782 351.9613,-173.9799 360.8391,-164.5585\"/>\n",
       "<polygon fill=\"#000000\" stroke=\"#000000\" points=\"363.5283,-166.8082 367.839,-157.13 358.4337,-162.0076 363.5283,-166.8082\"/>\n",
       "</g>\n",
       "<!-- 11 -->\n",
       "<g id=\"node12\" class=\"node\">\n",
       "<title>11</title>\n",
       "<polygon fill=\"#ddcaf8\" stroke=\"#000000\" points=\"395.5,-53 222.5,-53 222.5,0 395.5,0 395.5,-53\"/>\n",
       "<text text-anchor=\"middle\" x=\"309\" y=\"-37.8\" font-family=\"Times,serif\" font-size=\"14.00\" fill=\"#000000\">samples = 7</text>\n",
       "<text text-anchor=\"middle\" x=\"309\" y=\"-22.8\" font-family=\"Times,serif\" font-size=\"14.00\" fill=\"#000000\">value = [1.332, 4.925, 7.24]</text>\n",
       "<text text-anchor=\"middle\" x=\"309\" y=\"-7.8\" font-family=\"Times,serif\" font-size=\"14.00\" fill=\"#000000\">class = 2</text>\n",
       "</g>\n",
       "<!-- 10&#45;&gt;11 -->\n",
       "<g id=\"edge11\" class=\"edge\">\n",
       "<title>10&#45;&gt;11</title>\n",
       "<path fill=\"none\" stroke=\"#000000\" d=\"M367.9168,-88.9777C359.2817,-79.8207 349.9386,-69.9129 341.2922,-60.744\"/>\n",
       "<polygon fill=\"#000000\" stroke=\"#000000\" points=\"343.6311,-58.1226 334.224,-53.2485 338.5383,-62.9251 343.6311,-58.1226\"/>\n",
       "</g>\n",
       "<!-- 12 -->\n",
       "<g id=\"node13\" class=\"node\">\n",
       "<title>12</title>\n",
       "<polygon fill=\"#39e581\" stroke=\"#000000\" points=\"566,-53 414,-53 414,0 566,0 566,-53\"/>\n",
       "<text text-anchor=\"middle\" x=\"490\" y=\"-37.8\" font-family=\"Times,serif\" font-size=\"14.00\" fill=\"#000000\">samples = 5</text>\n",
       "<text text-anchor=\"middle\" x=\"490\" y=\"-22.8\" font-family=\"Times,serif\" font-size=\"14.00\" fill=\"#000000\">value = [0.0, 8.209, 0.0]</text>\n",
       "<text text-anchor=\"middle\" x=\"490\" y=\"-7.8\" font-family=\"Times,serif\" font-size=\"14.00\" fill=\"#000000\">class = 1</text>\n",
       "</g>\n",
       "<!-- 10&#45;&gt;12 -->\n",
       "<g id=\"edge12\" class=\"edge\">\n",
       "<title>10&#45;&gt;12</title>\n",
       "<path fill=\"none\" stroke=\"#000000\" d=\"M431.7306,-88.9777C440.2708,-79.8207 449.5113,-69.9129 458.0626,-60.744\"/>\n",
       "<polygon fill=\"#000000\" stroke=\"#000000\" points=\"460.7923,-62.9488 465.0532,-53.2485 455.6731,-58.1744 460.7923,-62.9488\"/>\n",
       "</g>\n",
       "<!-- 16 -->\n",
       "<g id=\"node17\" class=\"node\">\n",
       "<title>16</title>\n",
       "<polygon fill=\"#ddcaf8\" stroke=\"#000000\" points=\"678,-461.5 498,-461.5 498,-408.5 678,-408.5 678,-461.5\"/>\n",
       "<text text-anchor=\"middle\" x=\"588\" y=\"-446.3\" font-family=\"Times,serif\" font-size=\"14.00\" fill=\"#000000\">samples = 23</text>\n",
       "<text text-anchor=\"middle\" x=\"588\" y=\"-431.3\" font-family=\"Times,serif\" font-size=\"14.00\" fill=\"#000000\">value = [0.888, 26.268, 36.2]</text>\n",
       "<text text-anchor=\"middle\" x=\"588\" y=\"-416.3\" font-family=\"Times,serif\" font-size=\"14.00\" fill=\"#000000\">class = 2</text>\n",
       "</g>\n",
       "<!-- 15&#45;&gt;16 -->\n",
       "<g id=\"edge16\" class=\"edge\">\n",
       "<title>15&#45;&gt;16</title>\n",
       "<path fill=\"none\" stroke=\"#000000\" d=\"M660.6368,-504.9465C648.5119,-493.2707 634.9582,-480.219 622.8725,-468.5809\"/>\n",
       "<polygon fill=\"#000000\" stroke=\"#000000\" points=\"625.194,-465.9575 615.563,-461.5422 620.3385,-470.9997 625.194,-465.9575\"/>\n",
       "</g>\n",
       "<!-- 17 -->\n",
       "<g id=\"node18\" class=\"node\">\n",
       "<title>17</title>\n",
       "<polygon fill=\"#8742e6\" stroke=\"#000000\" points=\"855.5,-469 696.5,-469 696.5,-401 855.5,-401 855.5,-469\"/>\n",
       "<text text-anchor=\"middle\" x=\"776\" y=\"-453.8\" font-family=\"Times,serif\" font-size=\"14.00\" fill=\"#000000\">item_size_1 &lt;= 3.5</text>\n",
       "<text text-anchor=\"middle\" x=\"776\" y=\"-438.8\" font-family=\"Times,serif\" font-size=\"14.00\" fill=\"#000000\">samples = 6</text>\n",
       "<text text-anchor=\"middle\" x=\"776\" y=\"-423.8\" font-family=\"Times,serif\" font-size=\"14.00\" fill=\"#000000\">value = [0.0, 1.642, 36.2]</text>\n",
       "<text text-anchor=\"middle\" x=\"776\" y=\"-408.8\" font-family=\"Times,serif\" font-size=\"14.00\" fill=\"#000000\">class = 2</text>\n",
       "</g>\n",
       "<!-- 15&#45;&gt;17 -->\n",
       "<g id=\"edge17\" class=\"edge\">\n",
       "<title>15&#45;&gt;17</title>\n",
       "<path fill=\"none\" stroke=\"#000000\" d=\"M722.195,-504.9465C729.0325,-496.0578 736.4834,-486.3716 743.601,-477.1188\"/>\n",
       "<polygon fill=\"#000000\" stroke=\"#000000\" points=\"746.4232,-479.1903 749.7462,-469.13 740.8748,-474.9223 746.4232,-479.1903\"/>\n",
       "</g>\n",
       "<!-- 18 -->\n",
       "<g id=\"node19\" class=\"node\">\n",
       "<title>18</title>\n",
       "<polygon fill=\"#8f4fe8\" stroke=\"#000000\" points=\"774,-357.5 608,-357.5 608,-304.5 774,-304.5 774,-357.5\"/>\n",
       "<text text-anchor=\"middle\" x=\"691\" y=\"-342.3\" font-family=\"Times,serif\" font-size=\"14.00\" fill=\"#000000\">samples = 3</text>\n",
       "<text text-anchor=\"middle\" x=\"691\" y=\"-327.3\" font-family=\"Times,serif\" font-size=\"14.00\" fill=\"#000000\">value = [0.0, 1.642, 14.48]</text>\n",
       "<text text-anchor=\"middle\" x=\"691\" y=\"-312.3\" font-family=\"Times,serif\" font-size=\"14.00\" fill=\"#000000\">class = 2</text>\n",
       "</g>\n",
       "<!-- 17&#45;&gt;18 -->\n",
       "<g id=\"edge18\" class=\"edge\">\n",
       "<title>17&#45;&gt;18</title>\n",
       "<path fill=\"none\" stroke=\"#000000\" d=\"M748.1678,-400.9465C738.8952,-389.6012 728.5608,-376.9567 719.2563,-365.5724\"/>\n",
       "<polygon fill=\"#000000\" stroke=\"#000000\" points=\"721.7315,-363.0701 712.6931,-357.5422 716.3115,-367.5 721.7315,-363.0701\"/>\n",
       "</g>\n",
       "<!-- 19 -->\n",
       "<g id=\"node20\" class=\"node\">\n",
       "<title>19</title>\n",
       "<polygon fill=\"#8139e5\" stroke=\"#000000\" points=\"944,-357.5 792,-357.5 792,-304.5 944,-304.5 944,-357.5\"/>\n",
       "<text text-anchor=\"middle\" x=\"868\" y=\"-342.3\" font-family=\"Times,serif\" font-size=\"14.00\" fill=\"#000000\">samples = 3</text>\n",
       "<text text-anchor=\"middle\" x=\"868\" y=\"-327.3\" font-family=\"Times,serif\" font-size=\"14.00\" fill=\"#000000\">value = [0.0, 0.0, 21.72]</text>\n",
       "<text text-anchor=\"middle\" x=\"868\" y=\"-312.3\" font-family=\"Times,serif\" font-size=\"14.00\" fill=\"#000000\">class = 2</text>\n",
       "</g>\n",
       "<!-- 17&#45;&gt;19 -->\n",
       "<g id=\"edge19\" class=\"edge\">\n",
       "<title>17&#45;&gt;19</title>\n",
       "<path fill=\"none\" stroke=\"#000000\" d=\"M806.1242,-400.9465C816.258,-389.491 827.5633,-376.711 837.7097,-365.2412\"/>\n",
       "<polygon fill=\"#000000\" stroke=\"#000000\" points=\"840.5161,-367.3512 844.5204,-357.5422 835.2731,-362.7131 840.5161,-367.3512\"/>\n",
       "</g>\n",
       "<!-- 21 -->\n",
       "<g id=\"node22\" class=\"node\">\n",
       "<title>21</title>\n",
       "<polygon fill=\"#eda877\" stroke=\"#000000\" points=\"1262,-573 1068,-573 1068,-505 1262,-505 1262,-573\"/>\n",
       "<text text-anchor=\"middle\" x=\"1165\" y=\"-557.8\" font-family=\"Times,serif\" font-size=\"14.00\" fill=\"#000000\">item_size_0 &lt;= 1.5</text>\n",
       "<text text-anchor=\"middle\" x=\"1165\" y=\"-542.8\" font-family=\"Times,serif\" font-size=\"14.00\" fill=\"#000000\">samples = 1277</text>\n",
       "<text text-anchor=\"middle\" x=\"1165\" y=\"-527.8\" font-family=\"Times,serif\" font-size=\"14.00\" fill=\"#000000\">value = [522.914, 162.531, 0.0]</text>\n",
       "<text text-anchor=\"middle\" x=\"1165\" y=\"-512.8\" font-family=\"Times,serif\" font-size=\"14.00\" fill=\"#000000\">class = 0</text>\n",
       "</g>\n",
       "<!-- 20&#45;&gt;21 -->\n",
       "<g id=\"edge21\" class=\"edge\">\n",
       "<title>20&#45;&gt;21</title>\n",
       "<path fill=\"none\" stroke=\"#000000\" d=\"M1234.2739,-608.9465C1225.2039,-599.7884 1215.2955,-589.7838 1205.8819,-580.2788\"/>\n",
       "<polygon fill=\"#000000\" stroke=\"#000000\" points=\"1208.3255,-577.7723 1198.8018,-573.13 1203.3519,-582.6981 1208.3255,-577.7723\"/>\n",
       "</g>\n",
       "<!-- 24 -->\n",
       "<g id=\"node25\" class=\"node\">\n",
       "<title>24</title>\n",
       "<polygon fill=\"#75eda7\" stroke=\"#000000\" points=\"1460,-573 1280,-573 1280,-505 1460,-505 1460,-573\"/>\n",
       "<text text-anchor=\"middle\" x=\"1370\" y=\"-557.8\" font-family=\"Times,serif\" font-size=\"14.00\" fill=\"#000000\">item_size_0 &lt;= 3.5</text>\n",
       "<text text-anchor=\"middle\" x=\"1370\" y=\"-542.8\" font-family=\"Times,serif\" font-size=\"14.00\" fill=\"#000000\">samples = 51</text>\n",
       "<text text-anchor=\"middle\" x=\"1370\" y=\"-527.8\" font-family=\"Times,serif\" font-size=\"14.00\" fill=\"#000000\">value = [11.985, 39.401, 0.0]</text>\n",
       "<text text-anchor=\"middle\" x=\"1370\" y=\"-512.8\" font-family=\"Times,serif\" font-size=\"14.00\" fill=\"#000000\">class = 1</text>\n",
       "</g>\n",
       "<!-- 20&#45;&gt;24 -->\n",
       "<g id=\"edge24\" class=\"edge\">\n",
       "<title>20&#45;&gt;24</title>\n",
       "<path fill=\"none\" stroke=\"#000000\" d=\"M1301.3986,-608.9465C1310.3806,-599.7884 1320.1928,-589.7838 1329.515,-580.2788\"/>\n",
       "<polygon fill=\"#000000\" stroke=\"#000000\" points=\"1332.023,-582.7201 1336.5263,-573.13 1327.0254,-577.8187 1332.023,-582.7201\"/>\n",
       "</g>\n",
       "<!-- 22 -->\n",
       "<g id=\"node23\" class=\"node\">\n",
       "<title>22</title>\n",
       "<polygon fill=\"#eca470\" stroke=\"#000000\" points=\"1060.5,-461.5 873.5,-461.5 873.5,-408.5 1060.5,-408.5 1060.5,-461.5\"/>\n",
       "<text text-anchor=\"middle\" x=\"967\" y=\"-446.3\" font-family=\"Times,serif\" font-size=\"14.00\" fill=\"#000000\">samples = 1166</text>\n",
       "<text text-anchor=\"middle\" x=\"967\" y=\"-431.3\" font-family=\"Times,serif\" font-size=\"14.00\" fill=\"#000000\">value = [481.631, 132.98, 0.0]</text>\n",
       "<text text-anchor=\"middle\" x=\"967\" y=\"-416.3\" font-family=\"Times,serif\" font-size=\"14.00\" fill=\"#000000\">class = 0</text>\n",
       "</g>\n",
       "<!-- 21&#45;&gt;22 -->\n",
       "<g id=\"edge22\" class=\"edge\">\n",
       "<title>21&#45;&gt;22</title>\n",
       "<path fill=\"none\" stroke=\"#000000\" d=\"M1100.1674,-504.9465C1076.4705,-492.4997 1049.7968,-478.4892 1026.58,-466.2946\"/>\n",
       "<polygon fill=\"#000000\" stroke=\"#000000\" points=\"1028.0128,-463.0937 1017.5322,-461.5422 1024.7577,-469.2909 1028.0128,-463.0937\"/>\n",
       "</g>\n",
       "<!-- 23 -->\n",
       "<g id=\"node24\" class=\"node\">\n",
       "<title>23</title>\n",
       "<polygon fill=\"#f8dbc7\" stroke=\"#000000\" points=\"1259,-461.5 1079,-461.5 1079,-408.5 1259,-408.5 1259,-461.5\"/>\n",
       "<text text-anchor=\"middle\" x=\"1169\" y=\"-446.3\" font-family=\"Times,serif\" font-size=\"14.00\" fill=\"#000000\">samples = 111</text>\n",
       "<text text-anchor=\"middle\" x=\"1169\" y=\"-431.3\" font-family=\"Times,serif\" font-size=\"14.00\" fill=\"#000000\">value = [41.283, 29.551, 0.0]</text>\n",
       "<text text-anchor=\"middle\" x=\"1169\" y=\"-416.3\" font-family=\"Times,serif\" font-size=\"14.00\" fill=\"#000000\">class = 0</text>\n",
       "</g>\n",
       "<!-- 21&#45;&gt;23 -->\n",
       "<g id=\"edge23\" class=\"edge\">\n",
       "<title>21&#45;&gt;23</title>\n",
       "<path fill=\"none\" stroke=\"#000000\" d=\"M1166.3097,-504.9465C1166.7207,-494.2621 1167.1759,-482.4254 1167.5933,-471.5742\"/>\n",
       "<polygon fill=\"#000000\" stroke=\"#000000\" points=\"1171.0921,-471.6693 1167.9791,-461.5422 1164.0973,-471.4002 1171.0921,-471.6693\"/>\n",
       "</g>\n",
       "<!-- 25 -->\n",
       "<g id=\"node26\" class=\"node\">\n",
       "<title>25</title>\n",
       "<polygon fill=\"#93f1ba\" stroke=\"#000000\" points=\"1457,-461.5 1277,-461.5 1277,-408.5 1457,-408.5 1457,-461.5\"/>\n",
       "<text text-anchor=\"middle\" x=\"1367\" y=\"-446.3\" font-family=\"Times,serif\" font-size=\"14.00\" fill=\"#000000\">samples = 43</text>\n",
       "<text text-anchor=\"middle\" x=\"1367\" y=\"-431.3\" font-family=\"Times,serif\" font-size=\"14.00\" fill=\"#000000\">value = [11.985, 26.268, 0.0]</text>\n",
       "<text text-anchor=\"middle\" x=\"1367\" y=\"-416.3\" font-family=\"Times,serif\" font-size=\"14.00\" fill=\"#000000\">class = 1</text>\n",
       "</g>\n",
       "<!-- 24&#45;&gt;25 -->\n",
       "<g id=\"edge25\" class=\"edge\">\n",
       "<title>24&#45;&gt;25</title>\n",
       "<path fill=\"none\" stroke=\"#000000\" d=\"M1369.0177,-504.9465C1368.7095,-494.2621 1368.368,-482.4254 1368.055,-471.5742\"/>\n",
       "<polygon fill=\"#000000\" stroke=\"#000000\" points=\"1371.5526,-471.4371 1367.7656,-461.5422 1364.5555,-471.639 1371.5526,-471.4371\"/>\n",
       "</g>\n",
       "<!-- 26 -->\n",
       "<g id=\"node27\" class=\"node\">\n",
       "<title>26</title>\n",
       "<polygon fill=\"#39e581\" stroke=\"#000000\" points=\"1634.5,-461.5 1475.5,-461.5 1475.5,-408.5 1634.5,-408.5 1634.5,-461.5\"/>\n",
       "<text text-anchor=\"middle\" x=\"1555\" y=\"-446.3\" font-family=\"Times,serif\" font-size=\"14.00\" fill=\"#000000\">samples = 8</text>\n",
       "<text text-anchor=\"middle\" x=\"1555\" y=\"-431.3\" font-family=\"Times,serif\" font-size=\"14.00\" fill=\"#000000\">value = [0.0, 13.134, 0.0]</text>\n",
       "<text text-anchor=\"middle\" x=\"1555\" y=\"-416.3\" font-family=\"Times,serif\" font-size=\"14.00\" fill=\"#000000\">class = 1</text>\n",
       "</g>\n",
       "<!-- 24&#45;&gt;26 -->\n",
       "<g id=\"edge26\" class=\"edge\">\n",
       "<title>24&#45;&gt;26</title>\n",
       "<path fill=\"none\" stroke=\"#000000\" d=\"M1430.5759,-504.9465C1452.619,-492.5547 1477.4189,-478.6132 1499.0437,-466.4565\"/>\n",
       "<polygon fill=\"#000000\" stroke=\"#000000\" points=\"1500.7837,-469.4935 1507.7856,-461.5422 1497.3534,-463.3916 1500.7837,-469.4935\"/>\n",
       "</g>\n",
       "<!-- 28 -->\n",
       "<g id=\"node29\" class=\"node\">\n",
       "<title>28</title>\n",
       "<polygon fill=\"#c09cf2\" stroke=\"#000000\" points=\"1902,-677 1736,-677 1736,-609 1902,-609 1902,-677\"/>\n",
       "<text text-anchor=\"middle\" x=\"1819\" y=\"-661.8\" font-family=\"Times,serif\" font-size=\"14.00\" fill=\"#000000\">item_size_0 &lt;= 6.5</text>\n",
       "<text text-anchor=\"middle\" x=\"1819\" y=\"-646.8\" font-family=\"Times,serif\" font-size=\"14.00\" fill=\"#000000\">samples = 16</text>\n",
       "<text text-anchor=\"middle\" x=\"1819\" y=\"-631.8\" font-family=\"Times,serif\" font-size=\"14.00\" fill=\"#000000\">value = [0.0, 18.059, 36.2]</text>\n",
       "<text text-anchor=\"middle\" x=\"1819\" y=\"-616.8\" font-family=\"Times,serif\" font-size=\"14.00\" fill=\"#000000\">class = 2</text>\n",
       "</g>\n",
       "<!-- 27&#45;&gt;28 -->\n",
       "<g id=\"edge28\" class=\"edge\">\n",
       "<title>27&#45;&gt;28</title>\n",
       "<path fill=\"none\" stroke=\"#000000\" d=\"M1819,-712.9465C1819,-704.776 1819,-695.9318 1819,-687.3697\"/>\n",
       "<polygon fill=\"#000000\" stroke=\"#000000\" points=\"1822.5001,-687.13 1819,-677.13 1815.5001,-687.13 1822.5001,-687.13\"/>\n",
       "</g>\n",
       "<!-- 33 -->\n",
       "<g id=\"node34\" class=\"node\">\n",
       "<title>33</title>\n",
       "<polygon fill=\"#8b49e7\" stroke=\"#000000\" points=\"2170,-677 2004,-677 2004,-609 2170,-609 2170,-677\"/>\n",
       "<text text-anchor=\"middle\" x=\"2087\" y=\"-661.8\" font-family=\"Times,serif\" font-size=\"14.00\" fill=\"#000000\">item_size_0 &lt;= 10.5</text>\n",
       "<text text-anchor=\"middle\" x=\"2087\" y=\"-646.8\" font-family=\"Times,serif\" font-size=\"14.00\" fill=\"#000000\">samples = 15</text>\n",
       "<text text-anchor=\"middle\" x=\"2087\" y=\"-631.8\" font-family=\"Times,serif\" font-size=\"14.00\" fill=\"#000000\">value = [0.0, 6.567, 79.64]</text>\n",
       "<text text-anchor=\"middle\" x=\"2087\" y=\"-616.8\" font-family=\"Times,serif\" font-size=\"14.00\" fill=\"#000000\">class = 2</text>\n",
       "</g>\n",
       "<!-- 27&#45;&gt;33 -->\n",
       "<g id=\"edge33\" class=\"edge\">\n",
       "<title>27&#45;&gt;33</title>\n",
       "<path fill=\"none\" stroke=\"#000000\" d=\"M1906.7532,-712.9465C1934.7323,-702.089 1965.7774,-690.0416 1994.1081,-679.0476\"/>\n",
       "<polygon fill=\"#000000\" stroke=\"#000000\" points=\"1995.547,-682.2436 2003.6035,-675.3628 1993.0146,-675.7177 1995.547,-682.2436\"/>\n",
       "</g>\n",
       "<!-- 29 -->\n",
       "<g id=\"node30\" class=\"node\">\n",
       "<title>29</title>\n",
       "<polygon fill=\"#ba93f1\" stroke=\"#000000\" points=\"1819,-573 1653,-573 1653,-505 1819,-505 1819,-573\"/>\n",
       "<text text-anchor=\"middle\" x=\"1736\" y=\"-557.8\" font-family=\"Times,serif\" font-size=\"14.00\" fill=\"#000000\">item_size_0 &lt;= 5.5</text>\n",
       "<text text-anchor=\"middle\" x=\"1736\" y=\"-542.8\" font-family=\"Times,serif\" font-size=\"14.00\" fill=\"#000000\">samples = 15</text>\n",
       "<text text-anchor=\"middle\" x=\"1736\" y=\"-527.8\" font-family=\"Times,serif\" font-size=\"14.00\" fill=\"#000000\">value = [0.0, 16.417, 36.2]</text>\n",
       "<text text-anchor=\"middle\" x=\"1736\" y=\"-512.8\" font-family=\"Times,serif\" font-size=\"14.00\" fill=\"#000000\">class = 2</text>\n",
       "</g>\n",
       "<!-- 28&#45;&gt;29 -->\n",
       "<g id=\"edge29\" class=\"edge\">\n",
       "<title>28&#45;&gt;29</title>\n",
       "<path fill=\"none\" stroke=\"#000000\" d=\"M1791.8227,-608.9465C1784.7288,-600.0578 1776.9985,-590.3716 1769.614,-581.1188\"/>\n",
       "<polygon fill=\"#000000\" stroke=\"#000000\" points=\"1772.2118,-578.7628 1763.2384,-573.13 1766.7406,-583.1293 1772.2118,-578.7628\"/>\n",
       "</g>\n",
       "<!-- 32 -->\n",
       "<g id=\"node33\" class=\"node\">\n",
       "<title>32</title>\n",
       "<polygon fill=\"#39e581\" stroke=\"#000000\" points=\"1989,-565.5 1837,-565.5 1837,-512.5 1989,-512.5 1989,-565.5\"/>\n",
       "<text text-anchor=\"middle\" x=\"1913\" y=\"-550.3\" font-family=\"Times,serif\" font-size=\"14.00\" fill=\"#000000\">samples = 1</text>\n",
       "<text text-anchor=\"middle\" x=\"1913\" y=\"-535.3\" font-family=\"Times,serif\" font-size=\"14.00\" fill=\"#000000\">value = [0.0, 1.642, 0.0]</text>\n",
       "<text text-anchor=\"middle\" x=\"1913\" y=\"-520.3\" font-family=\"Times,serif\" font-size=\"14.00\" fill=\"#000000\">class = 1</text>\n",
       "</g>\n",
       "<!-- 28&#45;&gt;32 -->\n",
       "<g id=\"edge32\" class=\"edge\">\n",
       "<title>28&#45;&gt;32</title>\n",
       "<path fill=\"none\" stroke=\"#000000\" d=\"M1849.7791,-608.9465C1860.1331,-597.491 1871.6842,-584.711 1882.0513,-573.2412\"/>\n",
       "<polygon fill=\"#000000\" stroke=\"#000000\" points=\"1884.9011,-575.3078 1889.01,-565.5422 1879.708,-570.614 1884.9011,-575.3078\"/>\n",
       "</g>\n",
       "<!-- 30 -->\n",
       "<g id=\"node31\" class=\"node\">\n",
       "<title>30</title>\n",
       "<polygon fill=\"#9e66eb\" stroke=\"#000000\" points=\"1819,-461.5 1653,-461.5 1653,-408.5 1819,-408.5 1819,-461.5\"/>\n",
       "<text text-anchor=\"middle\" x=\"1736\" y=\"-446.3\" font-family=\"Times,serif\" font-size=\"14.00\" fill=\"#000000\">samples = 4</text>\n",
       "<text text-anchor=\"middle\" x=\"1736\" y=\"-431.3\" font-family=\"Times,serif\" font-size=\"14.00\" fill=\"#000000\">value = [0.0, 3.283, 14.48]</text>\n",
       "<text text-anchor=\"middle\" x=\"1736\" y=\"-416.3\" font-family=\"Times,serif\" font-size=\"14.00\" fill=\"#000000\">class = 2</text>\n",
       "</g>\n",
       "<!-- 29&#45;&gt;30 -->\n",
       "<g id=\"edge30\" class=\"edge\">\n",
       "<title>29&#45;&gt;30</title>\n",
       "<path fill=\"none\" stroke=\"#000000\" d=\"M1736,-504.9465C1736,-494.2621 1736,-482.4254 1736,-471.5742\"/>\n",
       "<polygon fill=\"#000000\" stroke=\"#000000\" points=\"1739.5001,-471.5421 1736,-461.5422 1732.5001,-471.5422 1739.5001,-471.5421\"/>\n",
       "</g>\n",
       "<!-- 31 -->\n",
       "<g id=\"node32\" class=\"node\">\n",
       "<title>31</title>\n",
       "<polygon fill=\"#cdb1f5\" stroke=\"#000000\" points=\"2010.5,-461.5 1837.5,-461.5 1837.5,-408.5 2010.5,-408.5 2010.5,-461.5\"/>\n",
       "<text text-anchor=\"middle\" x=\"1924\" y=\"-446.3\" font-family=\"Times,serif\" font-size=\"14.00\" fill=\"#000000\">samples = 11</text>\n",
       "<text text-anchor=\"middle\" x=\"1924\" y=\"-431.3\" font-family=\"Times,serif\" font-size=\"14.00\" fill=\"#000000\">value = [0.0, 13.134, 21.72]</text>\n",
       "<text text-anchor=\"middle\" x=\"1924\" y=\"-416.3\" font-family=\"Times,serif\" font-size=\"14.00\" fill=\"#000000\">class = 2</text>\n",
       "</g>\n",
       "<!-- 29&#45;&gt;31 -->\n",
       "<g id=\"edge31\" class=\"edge\">\n",
       "<title>29&#45;&gt;31</title>\n",
       "<path fill=\"none\" stroke=\"#000000\" d=\"M1797.5582,-504.9465C1819.9587,-492.5547 1845.1608,-478.6132 1867.1363,-466.4565\"/>\n",
       "<polygon fill=\"#000000\" stroke=\"#000000\" points=\"1868.9638,-469.4455 1876.0199,-461.5422 1865.5753,-463.3202 1868.9638,-469.4455\"/>\n",
       "</g>\n",
       "<!-- 34 -->\n",
       "<g id=\"node35\" class=\"node\">\n",
       "<title>34</title>\n",
       "<polygon fill=\"#985dea\" stroke=\"#000000\" points=\"2166.5,-565.5 2007.5,-565.5 2007.5,-512.5 2166.5,-512.5 2166.5,-565.5\"/>\n",
       "<text text-anchor=\"middle\" x=\"2087\" y=\"-550.3\" font-family=\"Times,serif\" font-size=\"14.00\" fill=\"#000000\">samples = 9</text>\n",
       "<text text-anchor=\"middle\" x=\"2087\" y=\"-535.3\" font-family=\"Times,serif\" font-size=\"14.00\" fill=\"#000000\">value = [0.0, 6.567, 36.2]</text>\n",
       "<text text-anchor=\"middle\" x=\"2087\" y=\"-520.3\" font-family=\"Times,serif\" font-size=\"14.00\" fill=\"#000000\">class = 2</text>\n",
       "</g>\n",
       "<!-- 33&#45;&gt;34 -->\n",
       "<g id=\"edge34\" class=\"edge\">\n",
       "<title>33&#45;&gt;34</title>\n",
       "<path fill=\"none\" stroke=\"#000000\" d=\"M2087,-608.9465C2087,-598.2621 2087,-586.4254 2087,-575.5742\"/>\n",
       "<polygon fill=\"#000000\" stroke=\"#000000\" points=\"2090.5001,-575.5421 2087,-565.5422 2083.5001,-575.5422 2090.5001,-575.5421\"/>\n",
       "</g>\n",
       "<!-- 35 -->\n",
       "<g id=\"node36\" class=\"node\">\n",
       "<title>35</title>\n",
       "<polygon fill=\"#8139e5\" stroke=\"#000000\" points=\"2337,-565.5 2185,-565.5 2185,-512.5 2337,-512.5 2337,-565.5\"/>\n",
       "<text text-anchor=\"middle\" x=\"2261\" y=\"-550.3\" font-family=\"Times,serif\" font-size=\"14.00\" fill=\"#000000\">samples = 6</text>\n",
       "<text text-anchor=\"middle\" x=\"2261\" y=\"-535.3\" font-family=\"Times,serif\" font-size=\"14.00\" fill=\"#000000\">value = [0.0, 0.0, 43.44]</text>\n",
       "<text text-anchor=\"middle\" x=\"2261\" y=\"-520.3\" font-family=\"Times,serif\" font-size=\"14.00\" fill=\"#000000\">class = 2</text>\n",
       "</g>\n",
       "<!-- 33&#45;&gt;35 -->\n",
       "<g id=\"edge35\" class=\"edge\">\n",
       "<title>33&#45;&gt;35</title>\n",
       "<path fill=\"none\" stroke=\"#000000\" d=\"M2143.9741,-608.9465C2164.5222,-596.6649 2187.6173,-582.8609 2207.8277,-570.7811\"/>\n",
       "<polygon fill=\"#000000\" stroke=\"#000000\" points=\"2209.805,-573.6769 2216.5929,-565.5422 2206.2136,-567.6684 2209.805,-573.6769\"/>\n",
       "</g>\n",
       "<!-- 37 -->\n",
       "<g id=\"node38\" class=\"node\">\n",
       "<title>37</title>\n",
       "<polygon fill=\"#9558e9\" stroke=\"#000000\" points=\"2109,-773.5 1929,-773.5 1929,-720.5 2109,-720.5 2109,-773.5\"/>\n",
       "<text text-anchor=\"middle\" x=\"2019\" y=\"-758.3\" font-family=\"Times,serif\" font-size=\"14.00\" fill=\"#000000\">samples = 107</text>\n",
       "<text text-anchor=\"middle\" x=\"2019\" y=\"-743.3\" font-family=\"Times,serif\" font-size=\"14.00\" fill=\"#000000\">value = [0.0, 72.236, 456.12]</text>\n",
       "<text text-anchor=\"middle\" x=\"2019\" y=\"-728.3\" font-family=\"Times,serif\" font-size=\"14.00\" fill=\"#000000\">class = 2</text>\n",
       "</g>\n",
       "<!-- 36&#45;&gt;37 -->\n",
       "<g id=\"edge37\" class=\"edge\">\n",
       "<title>36&#45;&gt;37</title>\n",
       "<path fill=\"none\" stroke=\"#000000\" d=\"M2019.6726,-816.9465C2019.5698,-806.2621 2019.456,-794.4254 2019.3517,-783.5742\"/>\n",
       "<polygon fill=\"#000000\" stroke=\"#000000\" points=\"2022.8513,-783.508 2019.2552,-773.5422 2015.8516,-783.5754 2022.8513,-783.508\"/>\n",
       "</g>\n",
       "<!-- 38 -->\n",
       "<g id=\"node39\" class=\"node\">\n",
       "<title>38</title>\n",
       "<polygon fill=\"#8139e5\" stroke=\"#000000\" points=\"2279,-773.5 2127,-773.5 2127,-720.5 2279,-720.5 2279,-773.5\"/>\n",
       "<text text-anchor=\"middle\" x=\"2203\" y=\"-758.3\" font-family=\"Times,serif\" font-size=\"14.00\" fill=\"#000000\">samples = 2</text>\n",
       "<text text-anchor=\"middle\" x=\"2203\" y=\"-743.3\" font-family=\"Times,serif\" font-size=\"14.00\" fill=\"#000000\">value = [0.0, 0.0, 14.48]</text>\n",
       "<text text-anchor=\"middle\" x=\"2203\" y=\"-728.3\" font-family=\"Times,serif\" font-size=\"14.00\" fill=\"#000000\">class = 2</text>\n",
       "</g>\n",
       "<!-- 36&#45;&gt;38 -->\n",
       "<g id=\"edge38\" class=\"edge\">\n",
       "<title>36&#45;&gt;38</title>\n",
       "<path fill=\"none\" stroke=\"#000000\" d=\"M2079.921,-816.9465C2101.6289,-804.6098 2126.0396,-790.7371 2147.3632,-778.6187\"/>\n",
       "<polygon fill=\"#000000\" stroke=\"#000000\" points=\"2149.3312,-781.5261 2156.296,-773.5422 2145.8725,-775.4402 2149.3312,-781.5261\"/>\n",
       "</g>\n",
       "</g>\n",
       "</svg>\n"
      ],
      "text/plain": [
       "<graphviz.files.Source at 0x1024a6dd0>"
      ]
     },
     "execution_count": 18,
     "metadata": {},
     "output_type": "execute_result"
    }
   ],
   "source": [
    "import graphviz\n",
    "with open(\"tree.dot\") as f:\n",
    "    dot_graph = f.read()\n",
    "graphviz.Source(dot_graph)"
   ]
  },
  {
   "cell_type": "code",
   "execution_count": null,
   "metadata": {},
   "outputs": [],
   "source": []
  }
 ],
 "metadata": {
  "kernelspec": {
   "display_name": "Python 3",
   "language": "python",
   "name": "python3"
  },
  "language_info": {
   "codemirror_mode": {
    "name": "ipython",
    "version": 3
   },
   "file_extension": ".py",
   "mimetype": "text/x-python",
   "name": "python",
   "nbconvert_exporter": "python",
   "pygments_lexer": "ipython3",
   "version": "3.7.4"
  }
 },
 "nbformat": 4,
 "nbformat_minor": 2
}
