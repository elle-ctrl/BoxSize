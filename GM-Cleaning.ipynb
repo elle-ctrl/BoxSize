{
 "cells": [
  {
   "cell_type": "code",
   "execution_count": 5,
   "metadata": {},
   "outputs": [],
   "source": [
    "import pandas as pd\n",
    "import numpy as np\n",
    "import seaborn as sns                       #visualisation\n",
    "import matplotlib.pyplot as plt             #visualisation\n",
    "%matplotlib inline     \n",
    "sns.set(color_codes=True)\n",
    "from datetime import datetime, date, time, timezone\n",
    "from sklearn.cluster import KMeans\n",
    "from mpl_toolkits.mplot3d import Axes3D\n",
    "import matplotlib.cm as cm\n",
    "\n",
    "import mglearn\n",
    "from IPython.display import display\n",
    "\n",
    "import glob\n",
    "import os"
   ]
  },
  {
   "cell_type": "markdown",
   "metadata": {},
   "source": [
    "# Dataset 3: FedEx orders with box dim"
   ]
  },
  {
   "cell_type": "code",
   "execution_count": 14,
   "metadata": {},
   "outputs": [
    {
     "name": "stdout",
     "output_type": "stream",
     "text": [
      "(578853, 5)\n"
     ]
    },
    {
     "data": {
      "text/html": [
       "<div>\n",
       "<style scoped>\n",
       "    .dataframe tbody tr th:only-of-type {\n",
       "        vertical-align: middle;\n",
       "    }\n",
       "\n",
       "    .dataframe tbody tr th {\n",
       "        vertical-align: top;\n",
       "    }\n",
       "\n",
       "    .dataframe thead th {\n",
       "        text-align: right;\n",
       "    }\n",
       "</style>\n",
       "<table border=\"1\" class=\"dataframe\">\n",
       "  <thead>\n",
       "    <tr style=\"text-align: right;\">\n",
       "      <th></th>\n",
       "      <th>order_number</th>\n",
       "      <th>Dim length</th>\n",
       "      <th>Dim width</th>\n",
       "      <th>Dim height</th>\n",
       "      <th>box_vol</th>\n",
       "    </tr>\n",
       "  </thead>\n",
       "  <tbody>\n",
       "    <tr>\n",
       "      <td>0</td>\n",
       "      <td>791V-YVBD</td>\n",
       "      <td>11.0</td>\n",
       "      <td>8.0</td>\n",
       "      <td>6.0</td>\n",
       "      <td>528.0</td>\n",
       "    </tr>\n",
       "    <tr>\n",
       "      <td>1</td>\n",
       "      <td>YQ28-PKTY</td>\n",
       "      <td>15.0</td>\n",
       "      <td>10.0</td>\n",
       "      <td>4.0</td>\n",
       "      <td>600.0</td>\n",
       "    </tr>\n",
       "    <tr>\n",
       "      <td>2</td>\n",
       "      <td>1S2M-BKQM</td>\n",
       "      <td>10.0</td>\n",
       "      <td>15.0</td>\n",
       "      <td>6.0</td>\n",
       "      <td>900.0</td>\n",
       "    </tr>\n",
       "    <tr>\n",
       "      <td>3</td>\n",
       "      <td>XC5S-4MLT</td>\n",
       "      <td>10.0</td>\n",
       "      <td>7.0</td>\n",
       "      <td>4.0</td>\n",
       "      <td>280.0</td>\n",
       "    </tr>\n",
       "    <tr>\n",
       "      <td>4</td>\n",
       "      <td>KZJH-PQN2</td>\n",
       "      <td>11.0</td>\n",
       "      <td>8.0</td>\n",
       "      <td>6.0</td>\n",
       "      <td>528.0</td>\n",
       "    </tr>\n",
       "  </tbody>\n",
       "</table>\n",
       "</div>"
      ],
      "text/plain": [
       "  order_number  Dim length  Dim width  Dim height  box_vol\n",
       "0    791V-YVBD        11.0        8.0         6.0    528.0\n",
       "1    YQ28-PKTY        15.0       10.0         4.0    600.0\n",
       "2    1S2M-BKQM        10.0       15.0         6.0    900.0\n",
       "3    XC5S-4MLT        10.0        7.0         4.0    280.0\n",
       "4    KZJH-PQN2        11.0        8.0         6.0    528.0"
      ]
     },
     "execution_count": 14,
     "metadata": {},
     "output_type": "execute_result"
    }
   ],
   "source": [
    "cols_list = ['Reference 2','Dim length', 'Dim width', 'Dim height']\n",
    "\n",
    "files = glob.glob('/Users/elle.le/Workspace/BoxSize/new_data/FedEx_box/*.csv')\n",
    "\n",
    "dfs =[]\n",
    "\n",
    "for file in files:\n",
    "    dfs.append(pd.read_csv(file, usecols = cols_list))\n",
    "\n",
    "box_size = pd.concat(dfs, axis = 0, ignore_index = True, sort = False)\n",
    "box_size.dropna(subset=['Dim height','Reference 2'], inplace = True)\n",
    "box_size.rename(columns = {'Reference 2':'order_number'}, inplace = True)\n",
    "\n",
    "box_size = box_size[['order_number','Dim length', 'Dim width', 'Dim height']]\n",
    "box_size['box_vol']=box_size['Dim length']*box_size['Dim width']*box_size['Dim height']\n",
    "print(box_size.shape)\n",
    "box_size.head(5)"
   ]
  },
  {
   "cell_type": "code",
   "execution_count": 109,
   "metadata": {},
   "outputs": [
    {
     "data": {
      "text/plain": [
       "(7971, 5)"
      ]
     },
     "execution_count": 109,
     "metadata": {},
     "output_type": "execute_result"
    }
   ],
   "source": [
    "#Unique orders with shipping box size\n",
    "box_size_GM = pd.merge(GM_order, box_size, how ='left', on ='order_number')\n",
    "\n",
    "box_size_GM.dropna(subset=['Dim height','order_number'], inplace = True)\n",
    "\n",
    "box_size_GM.shape"
   ]
  },
  {
   "cell_type": "code",
   "execution_count": 110,
   "metadata": {},
   "outputs": [
    {
     "data": {
      "text/html": [
       "<div>\n",
       "<style scoped>\n",
       "    .dataframe tbody tr th:only-of-type {\n",
       "        vertical-align: middle;\n",
       "    }\n",
       "\n",
       "    .dataframe tbody tr th {\n",
       "        vertical-align: top;\n",
       "    }\n",
       "\n",
       "    .dataframe thead th {\n",
       "        text-align: right;\n",
       "    }\n",
       "</style>\n",
       "<table border=\"1\" class=\"dataframe\">\n",
       "  <thead>\n",
       "    <tr style=\"text-align: right;\">\n",
       "      <th></th>\n",
       "      <th>order_number</th>\n",
       "      <th>Dim length</th>\n",
       "      <th>Dim width</th>\n",
       "      <th>Dim height</th>\n",
       "      <th>box_vol</th>\n",
       "    </tr>\n",
       "  </thead>\n",
       "  <tbody>\n",
       "    <tr>\n",
       "      <td>0</td>\n",
       "      <td>QSKB-D6JS</td>\n",
       "      <td>4.0</td>\n",
       "      <td>7.0</td>\n",
       "      <td>10.0</td>\n",
       "      <td>280.0</td>\n",
       "    </tr>\n",
       "    <tr>\n",
       "      <td>1</td>\n",
       "      <td>7LLC-W4TP</td>\n",
       "      <td>4.0</td>\n",
       "      <td>7.0</td>\n",
       "      <td>10.0</td>\n",
       "      <td>280.0</td>\n",
       "    </tr>\n",
       "    <tr>\n",
       "      <td>2</td>\n",
       "      <td>BY1S-JJZ8</td>\n",
       "      <td>4.0</td>\n",
       "      <td>7.0</td>\n",
       "      <td>10.0</td>\n",
       "      <td>280.0</td>\n",
       "    </tr>\n",
       "    <tr>\n",
       "      <td>4</td>\n",
       "      <td>7PCH-8WW9</td>\n",
       "      <td>4.0</td>\n",
       "      <td>7.0</td>\n",
       "      <td>10.0</td>\n",
       "      <td>280.0</td>\n",
       "    </tr>\n",
       "    <tr>\n",
       "      <td>5</td>\n",
       "      <td>1WY4-QKBK</td>\n",
       "      <td>6.0</td>\n",
       "      <td>8.0</td>\n",
       "      <td>11.0</td>\n",
       "      <td>528.0</td>\n",
       "    </tr>\n",
       "  </tbody>\n",
       "</table>\n",
       "</div>"
      ],
      "text/plain": [
       "  order_number  Dim length  Dim width  Dim height  box_vol\n",
       "0    QSKB-D6JS         4.0        7.0        10.0    280.0\n",
       "1    7LLC-W4TP         4.0        7.0        10.0    280.0\n",
       "2    BY1S-JJZ8         4.0        7.0        10.0    280.0\n",
       "4    7PCH-8WW9         4.0        7.0        10.0    280.0\n",
       "5    1WY4-QKBK         6.0        8.0        11.0    528.0"
      ]
     },
     "execution_count": 110,
     "metadata": {},
     "output_type": "execute_result"
    }
   ],
   "source": [
    "# Sort 3 dim to create unique box profile\n",
    "tmp_item = box_sise_GM.iloc[:,1:4].apply(sorted, axis=1)\n",
    "tmp_item = pd.DataFrame(tmp_item.to_list(), columns=['dim1','dim2','dim3'])\n",
    "box_size_GM.iloc[:,1:4] = tmp_item.copy().to_numpy()\n",
    "\n",
    "box_size_GM.head(5)"
   ]
  },
  {
   "cell_type": "code",
   "execution_count": 111,
   "metadata": {},
   "outputs": [
    {
     "data": {
      "image/png": "[encoded data removed]",
      "text/plain": [
       "<Figure size 1152x576 with 1 Axes>"
      ]
     },
     "metadata": {
      "needs_background": "light"
     },
     "output_type": "display_data"
    }
   ],
   "source": [
    "#K-means to decide number of box groups:\n",
    "distortions = []\n",
    "K = range(1,10)\n",
    "for k in K:\n",
    "    kmeanModel = KMeans(n_clusters=k)\n",
    "    kmeanModel.fit(box_size_GM.iloc[:,1:4])\n",
    "    distortions.append(kmeanModel.inertia_)\n",
    "    \n",
    "plt.figure(figsize=(16,8))\n",
    "plt.plot(K, distortions, 'bx-')\n",
    "plt.xlabel('k')\n",
    "plt.ylabel('Distortion')\n",
    "plt.title('The Elbow Method showing the optimal k')\n",
    "plt.show()  "
   ]
  },
  {
   "cell_type": "code",
   "execution_count": 144,
   "metadata": {},
   "outputs": [
    {
     "name": "stdout",
     "output_type": "stream",
     "text": [
      "(7971, 2)\n"
     ]
    },
    {
     "data": {
      "text/html": [
       "<div>\n",
       "<style scoped>\n",
       "    .dataframe tbody tr th:only-of-type {\n",
       "        vertical-align: middle;\n",
       "    }\n",
       "\n",
       "    .dataframe tbody tr th {\n",
       "        vertical-align: top;\n",
       "    }\n",
       "\n",
       "    .dataframe thead th {\n",
       "        text-align: right;\n",
       "    }\n",
       "</style>\n",
       "<table border=\"1\" class=\"dataframe\">\n",
       "  <thead>\n",
       "    <tr style=\"text-align: right;\">\n",
       "      <th></th>\n",
       "      <th>order_number</th>\n",
       "      <th>FedEx_box_type</th>\n",
       "    </tr>\n",
       "  </thead>\n",
       "  <tbody>\n",
       "    <tr>\n",
       "      <td>0</td>\n",
       "      <td>QSKB-D6JS</td>\n",
       "      <td>1</td>\n",
       "    </tr>\n",
       "    <tr>\n",
       "      <td>1</td>\n",
       "      <td>7LLC-W4TP</td>\n",
       "      <td>1</td>\n",
       "    </tr>\n",
       "    <tr>\n",
       "      <td>2</td>\n",
       "      <td>BY1S-JJZ8</td>\n",
       "      <td>1</td>\n",
       "    </tr>\n",
       "  </tbody>\n",
       "</table>\n",
       "</div>"
      ],
      "text/plain": [
       "  order_number  FedEx_box_type\n",
       "0    QSKB-D6JS               1\n",
       "1    7LLC-W4TP               1\n",
       "2    BY1S-JJZ8               1"
      ]
     },
     "execution_count": 144,
     "metadata": {},
     "output_type": "execute_result"
    }
   ],
   "source": [
    "FedEx_box_type = 3\n",
    "kmeans_box = KMeans(n_clusters=FedEx_box_type, random_state=0, max_iter = 1000).fit(box_size_GM.iloc[:,1:4])\n",
    "box_size_GM['FedEx_box_type'] = kmeans_box.labels_\n",
    "box_size_GM.head(3)\n",
    "box_label = box_size_GM.drop(columns = ['Dim length','Dim width','Dim height','box_vol']).copy()\n",
    "print(box_label.shape)\n",
    "box_label.head(3)"
   ]
  },
  {
   "cell_type": "code",
   "execution_count": 113,
   "metadata": {},
   "outputs": [
    {
     "name": "stderr",
     "output_type": "stream",
     "text": [
      "'c' argument looks like a single numeric RGB or RGBA sequence, which should be avoided as value-mapping will have precedence in case its length matches with 'x' & 'y'.  Please use a 2-D array with a single row if you really want to specify the same RGB or RGBA value for all points.\n",
      "'c' argument looks like a single numeric RGB or RGBA sequence, which should be avoided as value-mapping will have precedence in case its length matches with 'x' & 'y'.  Please use a 2-D array with a single row if you really want to specify the same RGB or RGBA value for all points.\n",
      "'c' argument looks like a single numeric RGB or RGBA sequence, which should be avoided as value-mapping will have precedence in case its length matches with 'x' & 'y'.  Please use a 2-D array with a single row if you really want to specify the same RGB or RGBA value for all points.\n"
     ]
    },
    {
     "data": {
      "image/png": "[encoded data removed]",
      "text/plain": [
       "<Figure size 432x288 with 1 Axes>"
      ]
     },
     "metadata": {
      "needs_background": "light"
     },
     "output_type": "display_data"
    }
   ],
   "source": [
    "cfig = plt.figure()\n",
    "ax = cfig.add_subplot(111, projection='3d')\n",
    "classes = kmeans_box.labels_\n",
    "colors = cm.rainbow(np.linspace(0, 1, FedEx_box_type))\n",
    "for i in range(FedEx_box_type):\n",
    "    x=box_size_GM.loc[classes == i, 'Dim length']\n",
    "    y=box_size_GM.loc[classes == i, 'Dim width']\n",
    "    z=box_size_GM.loc[classes == i, 'Dim height']\n",
    "    ax.scatter(x, y,z,c=colors[i])"
   ]
  },
  {
   "cell_type": "code",
   "execution_count": 114,
   "metadata": {},
   "outputs": [
    {
     "data": {
      "text/plain": [
       "<matplotlib.axes._subplots.AxesSubplot at 0x1c246c8790>"
      ]
     },
     "execution_count": 114,
     "metadata": {},
     "output_type": "execute_result"
    },
    {
     "data": {
      "image/png": "[encoded data removed]",
      "text/plain": [
       "<Figure size 432x288 with 1 Axes>"
      ]
     },
     "metadata": {
      "needs_background": "light"
     },
     "output_type": "display_data"
    }
   ],
   "source": [
    "box_size_GM['FedEx_box_type'].hist()"
   ]
  },
  {
   "cell_type": "code",
   "execution_count": 115,
   "metadata": {},
   "outputs": [
    {
     "data": {
      "text/plain": [
       "<matplotlib.axes._subplots.AxesSubplot at 0x1c46928650>"
      ]
     },
     "execution_count": 115,
     "metadata": {},
     "output_type": "execute_result"
    },
    {
     "data": {
      "image/png": "[encoded data removed]",
      "text/plain": [
       "<Figure size 432x288 with 1 Axes>"
      ]
     },
     "metadata": {
      "needs_background": "light"
     },
     "output_type": "display_data"
    }
   ],
   "source": [
    "box_size_GM.loc[box_size_GM['FedEx_box_type'] == 0 ]['box_vol'].hist()"
   ]
  },
  {
   "cell_type": "code",
   "execution_count": 116,
   "metadata": {},
   "outputs": [
    {
     "data": {
      "text/plain": [
       "<matplotlib.axes._subplots.AxesSubplot at 0x1c45c5e490>"
      ]
     },
     "execution_count": 116,
     "metadata": {},
     "output_type": "execute_result"
    },
    {
     "data": {
      "image/png": "[encoded data removed]",
      "text/plain": [
       "<Figure size 432x288 with 1 Axes>"
      ]
     },
     "metadata": {
      "needs_background": "light"
     },
     "output_type": "display_data"
    }
   ],
   "source": [
    "box_size_GM.loc[box_size_GM['FedEx_box_type'] == 1 ]['box_vol'].hist()"
   ]
  },
  {
   "cell_type": "code",
   "execution_count": 117,
   "metadata": {},
   "outputs": [
    {
     "data": {
      "text/plain": [
       "<matplotlib.axes._subplots.AxesSubplot at 0x1c3d35da50>"
      ]
     },
     "execution_count": 117,
     "metadata": {},
     "output_type": "execute_result"
    },
    {
     "data": {
      "image/png": "[encoded data removed]",
      "text/plain": [
       "<Figure size 432x288 with 1 Axes>"
      ]
     },
     "metadata": {
      "needs_background": "light"
     },
     "output_type": "display_data"
    }
   ],
   "source": [
    "box_size_GM.loc[box_size_GM['FedEx_box_type'] == 2 ]['box_vol'].hist()"
   ]
  },
  {
   "cell_type": "code",
   "execution_count": null,
   "metadata": {},
   "outputs": [],
   "source": []
  },
  {
   "cell_type": "code",
   "execution_count": null,
   "metadata": {},
   "outputs": [],
   "source": []
  },
  {
   "cell_type": "code",
   "execution_count": null,
   "metadata": {},
   "outputs": [],
   "source": []
  },
  {
   "cell_type": "code",
   "execution_count": null,
   "metadata": {},
   "outputs": [],
   "source": []
  },
  {
   "cell_type": "code",
   "execution_count": null,
   "metadata": {},
   "outputs": [],
   "source": []
  },
  {
   "cell_type": "markdown",
   "metadata": {},
   "source": [
    "# Dataset 2: Order Line Item"
   ]
  },
  {
   "cell_type": "code",
   "execution_count": 130,
   "metadata": {},
   "outputs": [
    {
     "name": "stdout",
     "output_type": "stream",
     "text": [
      "(46227, 4)\n"
     ]
    },
    {
     "data": {
      "text/html": [
       "<div>\n",
       "<style scoped>\n",
       "    .dataframe tbody tr th:only-of-type {\n",
       "        vertical-align: middle;\n",
       "    }\n",
       "\n",
       "    .dataframe tbody tr th {\n",
       "        vertical-align: top;\n",
       "    }\n",
       "\n",
       "    .dataframe thead th {\n",
       "        text-align: right;\n",
       "    }\n",
       "</style>\n",
       "<table border=\"1\" class=\"dataframe\">\n",
       "  <thead>\n",
       "    <tr style=\"text-align: right;\">\n",
       "      <th></th>\n",
       "      <th>order_number</th>\n",
       "      <th>variant_id</th>\n",
       "      <th>quantity</th>\n",
       "    </tr>\n",
       "  </thead>\n",
       "  <tbody>\n",
       "    <tr>\n",
       "      <td>0</td>\n",
       "      <td>QSKB-D6JS</td>\n",
       "      <td>62834</td>\n",
       "      <td>1</td>\n",
       "    </tr>\n",
       "    <tr>\n",
       "      <td>1</td>\n",
       "      <td>QSKB-D6JS</td>\n",
       "      <td>64991</td>\n",
       "      <td>1</td>\n",
       "    </tr>\n",
       "  </tbody>\n",
       "</table>\n",
       "</div>"
      ],
      "text/plain": [
       "  order_number  variant_id  quantity\n",
       "0    QSKB-D6JS       62834         1\n",
       "1    QSKB-D6JS       64991         1"
      ]
     },
     "execution_count": 130,
     "metadata": {},
     "output_type": "execute_result"
    }
   ],
   "source": [
    "line = pd.read_csv('new_data/GM_2019_2020_orders_FedEx.csv')\n",
    "print(line.shape)\n",
    "line.drop(columns = ['tracking_number'], inplace = True)\n",
    "line.head(2)"
   ]
  },
  {
   "cell_type": "code",
   "execution_count": 131,
   "metadata": {},
   "outputs": [
    {
     "data": {
      "text/plain": [
       "10441"
      ]
     },
     "execution_count": 131,
     "metadata": {},
     "output_type": "execute_result"
    }
   ],
   "source": [
    "line['order_number'].nunique()"
   ]
  },
  {
   "cell_type": "code",
   "execution_count": 132,
   "metadata": {},
   "outputs": [
    {
     "data": {
      "text/plain": [
       "(25724, 3)"
      ]
     },
     "execution_count": 132,
     "metadata": {},
     "output_type": "execute_result"
    }
   ],
   "source": [
    "sample_list = pd.read_csv('new_data/sample_list.csv')\n",
    "sample_list['indicator']=1\n",
    "sample_list.head(4)\n",
    "line_no_sample = pd.merge(line, sample_list, how = 'left', on ='variant_id')\n",
    "line_no_sample.head(4)\n",
    "line_no_sample = line_no_sample.loc[line_no_sample['indicator'] !=1].copy()\n",
    "line_no_sample.drop(columns=['indicator'], inplace = True)\n",
    "line_no_sample.shape"
   ]
  },
  {
   "cell_type": "code",
   "execution_count": 133,
   "metadata": {},
   "outputs": [
    {
     "data": {
      "text/html": [
       "<div>\n",
       "<style scoped>\n",
       "    .dataframe tbody tr th:only-of-type {\n",
       "        vertical-align: middle;\n",
       "    }\n",
       "\n",
       "    .dataframe tbody tr th {\n",
       "        vertical-align: top;\n",
       "    }\n",
       "\n",
       "    .dataframe thead th {\n",
       "        text-align: right;\n",
       "    }\n",
       "</style>\n",
       "<table border=\"1\" class=\"dataframe\">\n",
       "  <thead>\n",
       "    <tr style=\"text-align: right;\">\n",
       "      <th></th>\n",
       "      <th>variant_id</th>\n",
       "    </tr>\n",
       "  </thead>\n",
       "  <tbody>\n",
       "    <tr>\n",
       "      <td>0</td>\n",
       "      <td>62834</td>\n",
       "    </tr>\n",
       "    <tr>\n",
       "      <td>1</td>\n",
       "      <td>64991</td>\n",
       "    </tr>\n",
       "    <tr>\n",
       "      <td>2</td>\n",
       "      <td>62836</td>\n",
       "    </tr>\n",
       "  </tbody>\n",
       "</table>\n",
       "</div>"
      ],
      "text/plain": [
       "   variant_id\n",
       "0       62834\n",
       "1       64991\n",
       "2       62836"
      ]
     },
     "execution_count": 133,
     "metadata": {},
     "output_type": "execute_result"
    }
   ],
   "source": [
    "line_no_sample['variant_id'].nunique()\n",
    "\n",
    "GM_item_list = line_no_sample[['variant_id']].drop_duplicates()\n",
    "\n",
    "GM_item_list.head(3)"
   ]
  },
  {
   "cell_type": "code",
   "execution_count": 134,
   "metadata": {},
   "outputs": [],
   "source": [
    "GM_order = line[['order_number']].drop_duplicates()"
   ]
  },
  {
   "cell_type": "code",
   "execution_count": 136,
   "metadata": {},
   "outputs": [
    {
     "data": {
      "text/plain": [
       "(46227, 3)"
      ]
     },
     "execution_count": 136,
     "metadata": {},
     "output_type": "execute_result"
    }
   ],
   "source": [
    "# Clean dataset 3 here:\n",
    "line.shape"
   ]
  },
  {
   "cell_type": "code",
   "execution_count": null,
   "metadata": {},
   "outputs": [],
   "source": []
  },
  {
   "cell_type": "code",
   "execution_count": null,
   "metadata": {},
   "outputs": [],
   "source": []
  },
  {
   "cell_type": "markdown",
   "metadata": {},
   "source": [
    "# Dataset 1: item dim"
   ]
  },
  {
   "cell_type": "code",
   "execution_count": 61,
   "metadata": {},
   "outputs": [],
   "source": [
    "cols = ['variant_id','dim_packaging_length_mm','dim_packaging_width_mm','dim_packaging_height_mm']\n",
    "item_dim = pd.read_csv('new_data/variant_specs.csv', usecols = cols)"
   ]
  },
  {
   "cell_type": "code",
   "execution_count": 62,
   "metadata": {},
   "outputs": [
    {
     "data": {
      "text/plain": [
       "variant_id                    0\n",
       "dim_packaging_length_mm    1122\n",
       "dim_packaging_width_mm     1122\n",
       "dim_packaging_height_mm    1122\n",
       "dtype: int64"
      ]
     },
     "execution_count": 62,
     "metadata": {},
     "output_type": "execute_result"
    }
   ],
   "source": [
    "item_dim.isna().sum()"
   ]
  },
  {
   "cell_type": "code",
   "execution_count": 63,
   "metadata": {},
   "outputs": [],
   "source": [
    "item_dim.dropna(subset = ['dim_packaging_length_mm'], inplace = True)"
   ]
  },
  {
   "cell_type": "code",
   "execution_count": 64,
   "metadata": {},
   "outputs": [
    {
     "data": {
      "text/plain": [
       "(10798, 4)"
      ]
     },
     "execution_count": 64,
     "metadata": {},
     "output_type": "execute_result"
    }
   ],
   "source": [
    "item_dim.shape"
   ]
  },
  {
   "cell_type": "code",
   "execution_count": 65,
   "metadata": {},
   "outputs": [],
   "source": [
    "GM_dim = pd.merge(GM_item_list,item_dim, how ='left', on ='variant_id')"
   ]
  },
  {
   "cell_type": "code",
   "execution_count": 66,
   "metadata": {},
   "outputs": [
    {
     "data": {
      "text/html": [
       "<div>\n",
       "<style scoped>\n",
       "    .dataframe tbody tr th:only-of-type {\n",
       "        vertical-align: middle;\n",
       "    }\n",
       "\n",
       "    .dataframe tbody tr th {\n",
       "        vertical-align: top;\n",
       "    }\n",
       "\n",
       "    .dataframe thead th {\n",
       "        text-align: right;\n",
       "    }\n",
       "</style>\n",
       "<table border=\"1\" class=\"dataframe\">\n",
       "  <thead>\n",
       "    <tr style=\"text-align: right;\">\n",
       "      <th></th>\n",
       "      <th>variant_id</th>\n",
       "      <th>dim_packaging_length_mm</th>\n",
       "      <th>dim_packaging_width_mm</th>\n",
       "      <th>dim_packaging_height_mm</th>\n",
       "    </tr>\n",
       "  </thead>\n",
       "  <tbody>\n",
       "    <tr>\n",
       "      <td>0</td>\n",
       "      <td>62834</td>\n",
       "      <td>123.0</td>\n",
       "      <td>39.0</td>\n",
       "      <td>39.0</td>\n",
       "    </tr>\n",
       "    <tr>\n",
       "      <td>1</td>\n",
       "      <td>64991</td>\n",
       "      <td>134.0</td>\n",
       "      <td>90.0</td>\n",
       "      <td>51.0</td>\n",
       "    </tr>\n",
       "    <tr>\n",
       "      <td>2</td>\n",
       "      <td>62836</td>\n",
       "      <td>123.0</td>\n",
       "      <td>39.0</td>\n",
       "      <td>39.0</td>\n",
       "    </tr>\n",
       "  </tbody>\n",
       "</table>\n",
       "</div>"
      ],
      "text/plain": [
       "   variant_id  dim_packaging_length_mm  dim_packaging_width_mm  \\\n",
       "0       62834                    123.0                    39.0   \n",
       "1       64991                    134.0                    90.0   \n",
       "2       62836                    123.0                    39.0   \n",
       "\n",
       "   dim_packaging_height_mm  \n",
       "0                     39.0  \n",
       "1                     51.0  \n",
       "2                     39.0  "
      ]
     },
     "execution_count": 66,
     "metadata": {},
     "output_type": "execute_result"
    }
   ],
   "source": [
    "GM_dim.head(3)"
   ]
  },
  {
   "cell_type": "code",
   "execution_count": 67,
   "metadata": {},
   "outputs": [],
   "source": [
    "# Sort 3 dim to create unique item profile\n",
    "tmp_item = GM_dim.iloc[:,1:4].apply(sorted, axis=1)\n",
    "tmp_item = pd.DataFrame(tmp_item.to_list(), columns=['dim1','dim2','dim3'])\n",
    "GM_dim.iloc[:,1:4] = tmp_item.copy().to_numpy()"
   ]
  },
  {
   "cell_type": "code",
   "execution_count": 68,
   "metadata": {},
   "outputs": [],
   "source": [
    "# Add volume column in cubic inches:\n",
    "GM_dim['item_vol'] = GM_dim['dim_packaging_length_mm']*GM_dim['dim_packaging_width_mm']*GM_dim['dim_packaging_height_mm']*6*1e-5"
   ]
  },
  {
   "cell_type": "code",
   "execution_count": 78,
   "metadata": {},
   "outputs": [
    {
     "data": {
      "image/png": "[encoded data removed]",
      "text/plain": [
       "<Figure size 720x288 with 1 Axes>"
      ]
     },
     "metadata": {
      "needs_background": "light"
     },
     "output_type": "display_data"
    }
   ],
   "source": [
    "#elbow curve to find the optimal number of clusters. Answer = 4\n",
    "\n",
    "distortions = []\n",
    "K = range(1,10)\n",
    "for k in K:\n",
    "    kmeanModel = KMeans(n_clusters=k)\n",
    "    kmeanModel.fit(GM_dim.iloc[:,1:5])\n",
    "    distortions.append(kmeanModel.inertia_)\n",
    "    \n",
    "plt.figure(figsize=(10,4))\n",
    "plt.plot(K, distortions, 'bx-')\n",
    "plt.xlabel('k')\n",
    "plt.ylabel('Distortion')\n",
    "plt.title('The Elbow Method showing the optimal k')\n",
    "plt.show()  "
   ]
  },
  {
   "cell_type": "code",
   "execution_count": 79,
   "metadata": {},
   "outputs": [
    {
     "name": "stderr",
     "output_type": "stream",
     "text": [
      "'c' argument looks like a single numeric RGB or RGBA sequence, which should be avoided as value-mapping will have precedence in case its length matches with 'x' & 'y'.  Please use a 2-D array with a single row if you really want to specify the same RGB or RGBA value for all points.\n",
      "'c' argument looks like a single numeric RGB or RGBA sequence, which should be avoided as value-mapping will have precedence in case its length matches with 'x' & 'y'.  Please use a 2-D array with a single row if you really want to specify the same RGB or RGBA value for all points.\n",
      "'c' argument looks like a single numeric RGB or RGBA sequence, which should be avoided as value-mapping will have precedence in case its length matches with 'x' & 'y'.  Please use a 2-D array with a single row if you really want to specify the same RGB or RGBA value for all points.\n",
      "'c' argument looks like a single numeric RGB or RGBA sequence, which should be avoided as value-mapping will have precedence in case its length matches with 'x' & 'y'.  Please use a 2-D array with a single row if you really want to specify the same RGB or RGBA value for all points.\n"
     ]
    },
    {
     "name": "stdout",
     "output_type": "stream",
     "text": [
      "(16,) (16,) (16,)\n",
      "(29,) (29,) (29,)\n",
      "(1,) (1,) (1,)\n",
      "(3,) (3,) (3,)\n"
     ]
    },
    {
     "data": {
      "image/png": "[encoded data removed]",
      "text/plain": [
       "<Figure size 432x288 with 1 Axes>"
      ]
     },
     "metadata": {
      "needs_background": "light"
     },
     "output_type": "display_data"
    }
   ],
   "source": [
    "n_cluster = 4\n",
    "kmeans = KMeans(n_clusters=n_cluster, random_state = 0,max_iter=1000).fit(GM_dim.iloc[:,1:5])\n",
    "fig = plt.figure()\n",
    "ax = fig.add_subplot(111, projection='3d')\n",
    "classes = kmeans.labels_\n",
    "colors = cm.rainbow(np.linspace(0, 1, n_cluster))\n",
    "for i in range(n_cluster):\n",
    "    x=GM_dim.loc[classes == i, 'dim_packaging_length_mm']\n",
    "    y=GM_dim.loc[classes == i, 'dim_packaging_width_mm']\n",
    "    z=GM_dim.loc[classes == i, 'dim_packaging_height_mm']\n",
    "    print(x.shape,y.shape, z.shape)\n",
    "    ax.scatter(x, y, z, c=colors[i])  "
   ]
  },
  {
   "cell_type": "code",
   "execution_count": 75,
   "metadata": {},
   "outputs": [
    {
     "data": {
      "text/html": [
       "<div>\n",
       "<style scoped>\n",
       "    .dataframe tbody tr th:only-of-type {\n",
       "        vertical-align: middle;\n",
       "    }\n",
       "\n",
       "    .dataframe tbody tr th {\n",
       "        vertical-align: top;\n",
       "    }\n",
       "\n",
       "    .dataframe thead th {\n",
       "        text-align: right;\n",
       "    }\n",
       "</style>\n",
       "<table border=\"1\" class=\"dataframe\">\n",
       "  <thead>\n",
       "    <tr style=\"text-align: right;\">\n",
       "      <th></th>\n",
       "      <th>variant_id</th>\n",
       "      <th>dim_packaging_length_mm</th>\n",
       "      <th>dim_packaging_width_mm</th>\n",
       "      <th>dim_packaging_height_mm</th>\n",
       "      <th>item_vol</th>\n",
       "      <th>item_label</th>\n",
       "    </tr>\n",
       "  </thead>\n",
       "  <tbody>\n",
       "    <tr>\n",
       "      <td>11</td>\n",
       "      <td>64924</td>\n",
       "      <td>55.0</td>\n",
       "      <td>55.0</td>\n",
       "      <td>142.0</td>\n",
       "      <td>25.7730</td>\n",
       "      <td>0</td>\n",
       "    </tr>\n",
       "    <tr>\n",
       "      <td>20</td>\n",
       "      <td>64343</td>\n",
       "      <td>80.0</td>\n",
       "      <td>83.0</td>\n",
       "      <td>228.0</td>\n",
       "      <td>90.8352</td>\n",
       "      <td>0</td>\n",
       "    </tr>\n",
       "    <tr>\n",
       "      <td>18</td>\n",
       "      <td>64341</td>\n",
       "      <td>80.0</td>\n",
       "      <td>83.0</td>\n",
       "      <td>152.0</td>\n",
       "      <td>60.5568</td>\n",
       "      <td>0</td>\n",
       "    </tr>\n",
       "  </tbody>\n",
       "</table>\n",
       "</div>"
      ],
      "text/plain": [
       "    variant_id  dim_packaging_length_mm  dim_packaging_width_mm  \\\n",
       "11       64924                     55.0                    55.0   \n",
       "20       64343                     80.0                    83.0   \n",
       "18       64341                     80.0                    83.0   \n",
       "\n",
       "    dim_packaging_height_mm  item_vol  item_label  \n",
       "11                    142.0   25.7730           0  \n",
       "20                    228.0   90.8352           0  \n",
       "18                    152.0   60.5568           0  "
      ]
     },
     "execution_count": 75,
     "metadata": {},
     "output_type": "execute_result"
    }
   ],
   "source": [
    "GM_dim['item_label'] = kmeans.labels_\n",
    "GM_dim.sort_values(by=['item_label']).head(3)"
   ]
  },
  {
   "cell_type": "code",
   "execution_count": 80,
   "metadata": {},
   "outputs": [
    {
     "data": {
      "text/plain": [
       "<matplotlib.axes._subplots.AxesSubplot at 0x1c315da810>"
      ]
     },
     "execution_count": 80,
     "metadata": {},
     "output_type": "execute_result"
    },
    {
     "data": {
      "image/png": "[encoded data removed]",
      "text/plain": [
       "<Figure size 432x288 with 1 Axes>"
      ]
     },
     "metadata": {
      "needs_background": "light"
     },
     "output_type": "display_data"
    }
   ],
   "source": [
    "GM_dim['item_label'].hist()"
   ]
  },
  {
   "cell_type": "code",
   "execution_count": 81,
   "metadata": {},
   "outputs": [
    {
     "data": {
      "text/html": [
       "<div>\n",
       "<style scoped>\n",
       "    .dataframe tbody tr th:only-of-type {\n",
       "        vertical-align: middle;\n",
       "    }\n",
       "\n",
       "    .dataframe tbody tr th {\n",
       "        vertical-align: top;\n",
       "    }\n",
       "\n",
       "    .dataframe thead th {\n",
       "        text-align: right;\n",
       "    }\n",
       "</style>\n",
       "<table border=\"1\" class=\"dataframe\">\n",
       "  <thead>\n",
       "    <tr style=\"text-align: right;\">\n",
       "      <th></th>\n",
       "      <th>variant_id</th>\n",
       "      <th>item_label</th>\n",
       "      <th>item_vol</th>\n",
       "    </tr>\n",
       "  </thead>\n",
       "  <tbody>\n",
       "    <tr>\n",
       "      <td>0</td>\n",
       "      <td>62834</td>\n",
       "      <td>1</td>\n",
       "      <td>11.22498</td>\n",
       "    </tr>\n",
       "    <tr>\n",
       "      <td>1</td>\n",
       "      <td>64991</td>\n",
       "      <td>0</td>\n",
       "      <td>36.90360</td>\n",
       "    </tr>\n",
       "    <tr>\n",
       "      <td>2</td>\n",
       "      <td>62836</td>\n",
       "      <td>1</td>\n",
       "      <td>11.22498</td>\n",
       "    </tr>\n",
       "    <tr>\n",
       "      <td>3</td>\n",
       "      <td>66428</td>\n",
       "      <td>0</td>\n",
       "      <td>25.77300</td>\n",
       "    </tr>\n",
       "    <tr>\n",
       "      <td>4</td>\n",
       "      <td>63981</td>\n",
       "      <td>1</td>\n",
       "      <td>27.33264</td>\n",
       "    </tr>\n",
       "  </tbody>\n",
       "</table>\n",
       "</div>"
      ],
      "text/plain": [
       "   variant_id  item_label  item_vol\n",
       "0       62834           1  11.22498\n",
       "1       64991           0  36.90360\n",
       "2       62836           1  11.22498\n",
       "3       66428           0  25.77300\n",
       "4       63981           1  27.33264"
      ]
     },
     "execution_count": 81,
     "metadata": {},
     "output_type": "execute_result"
    }
   ],
   "source": [
    "GM_item_label = GM_dim[['variant_id','item_label','item_vol']].copy()\n",
    "GM_item_label.head(5)"
   ]
  },
  {
   "cell_type": "markdown",
   "metadata": {},
   "source": [
    "# Merge 3 datasets to create a feature matrix"
   ]
  },
  {
   "cell_type": "code",
   "execution_count": 138,
   "metadata": {},
   "outputs": [
    {
     "data": {
      "text/html": [
       "<div>\n",
       "<style scoped>\n",
       "    .dataframe tbody tr th:only-of-type {\n",
       "        vertical-align: middle;\n",
       "    }\n",
       "\n",
       "    .dataframe tbody tr th {\n",
       "        vertical-align: top;\n",
       "    }\n",
       "\n",
       "    .dataframe thead th {\n",
       "        text-align: right;\n",
       "    }\n",
       "</style>\n",
       "<table border=\"1\" class=\"dataframe\">\n",
       "  <thead>\n",
       "    <tr style=\"text-align: right;\">\n",
       "      <th></th>\n",
       "      <th>order_number</th>\n",
       "      <th>variant_id</th>\n",
       "      <th>quantity</th>\n",
       "      <th>item_label</th>\n",
       "      <th>item_vol</th>\n",
       "    </tr>\n",
       "  </thead>\n",
       "  <tbody>\n",
       "    <tr>\n",
       "      <td>0</td>\n",
       "      <td>QSKB-D6JS</td>\n",
       "      <td>62834</td>\n",
       "      <td>1</td>\n",
       "      <td>1.0</td>\n",
       "      <td>11.22498</td>\n",
       "    </tr>\n",
       "    <tr>\n",
       "      <td>1</td>\n",
       "      <td>QSKB-D6JS</td>\n",
       "      <td>64991</td>\n",
       "      <td>1</td>\n",
       "      <td>0.0</td>\n",
       "      <td>36.90360</td>\n",
       "    </tr>\n",
       "  </tbody>\n",
       "</table>\n",
       "</div>"
      ],
      "text/plain": [
       "  order_number  variant_id  quantity  item_label  item_vol\n",
       "0    QSKB-D6JS       62834         1         1.0  11.22498\n",
       "1    QSKB-D6JS       64991         1         0.0  36.90360"
      ]
     },
     "execution_count": 138,
     "metadata": {},
     "output_type": "execute_result"
    }
   ],
   "source": [
    "order_line_vol=pd.merge(line,GM_item_label, how='left', on = 'variant_id').dropna(subset = ['item_label'])\n",
    "order_line_vol.head(2)"
   ]
  },
  {
   "cell_type": "code",
   "execution_count": 139,
   "metadata": {},
   "outputs": [
    {
     "data": {
      "text/plain": [
       "10441"
      ]
     },
     "execution_count": 139,
     "metadata": {},
     "output_type": "execute_result"
    }
   ],
   "source": [
    "line['order_number'].nunique()"
   ]
  },
  {
   "cell_type": "code",
   "execution_count": 145,
   "metadata": {},
   "outputs": [],
   "source": [
    "final1=pd.merge(order_line_vol,box_label, how='left', on='order_number').dropna(subset = ['FedEx_box_type'])"
   ]
  },
  {
   "cell_type": "code",
   "execution_count": 146,
   "metadata": {},
   "outputs": [
    {
     "data": {
      "text/html": [
       "<div>\n",
       "<style scoped>\n",
       "    .dataframe tbody tr th:only-of-type {\n",
       "        vertical-align: middle;\n",
       "    }\n",
       "\n",
       "    .dataframe tbody tr th {\n",
       "        vertical-align: top;\n",
       "    }\n",
       "\n",
       "    .dataframe thead th {\n",
       "        text-align: right;\n",
       "    }\n",
       "</style>\n",
       "<table border=\"1\" class=\"dataframe\">\n",
       "  <thead>\n",
       "    <tr style=\"text-align: right;\">\n",
       "      <th></th>\n",
       "      <th>order_number</th>\n",
       "      <th>variant_id</th>\n",
       "      <th>quantity</th>\n",
       "      <th>item_label</th>\n",
       "      <th>item_vol</th>\n",
       "      <th>FedEx_box_type</th>\n",
       "    </tr>\n",
       "  </thead>\n",
       "  <tbody>\n",
       "    <tr>\n",
       "      <td>0</td>\n",
       "      <td>QSKB-D6JS</td>\n",
       "      <td>62834</td>\n",
       "      <td>1</td>\n",
       "      <td>1.0</td>\n",
       "      <td>11.22498</td>\n",
       "      <td>1.0</td>\n",
       "    </tr>\n",
       "    <tr>\n",
       "      <td>1</td>\n",
       "      <td>QSKB-D6JS</td>\n",
       "      <td>64991</td>\n",
       "      <td>1</td>\n",
       "      <td>0.0</td>\n",
       "      <td>36.90360</td>\n",
       "      <td>1.0</td>\n",
       "    </tr>\n",
       "    <tr>\n",
       "      <td>2</td>\n",
       "      <td>QSKB-D6JS</td>\n",
       "      <td>62836</td>\n",
       "      <td>1</td>\n",
       "      <td>1.0</td>\n",
       "      <td>11.22498</td>\n",
       "      <td>1.0</td>\n",
       "    </tr>\n",
       "    <tr>\n",
       "      <td>3</td>\n",
       "      <td>QSKB-D6JS</td>\n",
       "      <td>66428</td>\n",
       "      <td>1</td>\n",
       "      <td>0.0</td>\n",
       "      <td>25.77300</td>\n",
       "      <td>1.0</td>\n",
       "    </tr>\n",
       "    <tr>\n",
       "      <td>4</td>\n",
       "      <td>7LLC-W4TP</td>\n",
       "      <td>63981</td>\n",
       "      <td>1</td>\n",
       "      <td>1.0</td>\n",
       "      <td>27.33264</td>\n",
       "      <td>1.0</td>\n",
       "    </tr>\n",
       "    <tr>\n",
       "      <td>...</td>\n",
       "      <td>...</td>\n",
       "      <td>...</td>\n",
       "      <td>...</td>\n",
       "      <td>...</td>\n",
       "      <td>...</td>\n",
       "      <td>...</td>\n",
       "    </tr>\n",
       "    <tr>\n",
       "      <td>21834</td>\n",
       "      <td>L72S-1FR8</td>\n",
       "      <td>66664</td>\n",
       "      <td>1</td>\n",
       "      <td>1.0</td>\n",
       "      <td>16.14006</td>\n",
       "      <td>1.0</td>\n",
       "    </tr>\n",
       "    <tr>\n",
       "      <td>21835</td>\n",
       "      <td>L72S-1FR8</td>\n",
       "      <td>66665</td>\n",
       "      <td>1</td>\n",
       "      <td>0.0</td>\n",
       "      <td>18.97074</td>\n",
       "      <td>1.0</td>\n",
       "    </tr>\n",
       "    <tr>\n",
       "      <td>21836</td>\n",
       "      <td>L72S-1FR8</td>\n",
       "      <td>63981</td>\n",
       "      <td>1</td>\n",
       "      <td>1.0</td>\n",
       "      <td>27.33264</td>\n",
       "      <td>1.0</td>\n",
       "    </tr>\n",
       "    <tr>\n",
       "      <td>21837</td>\n",
       "      <td>L72S-1FR8</td>\n",
       "      <td>62725</td>\n",
       "      <td>1</td>\n",
       "      <td>1.0</td>\n",
       "      <td>11.22498</td>\n",
       "      <td>1.0</td>\n",
       "    </tr>\n",
       "    <tr>\n",
       "      <td>21838</td>\n",
       "      <td>L72S-1FR8</td>\n",
       "      <td>64991</td>\n",
       "      <td>1</td>\n",
       "      <td>0.0</td>\n",
       "      <td>36.90360</td>\n",
       "      <td>1.0</td>\n",
       "    </tr>\n",
       "  </tbody>\n",
       "</table>\n",
       "<p>19626 rows × 6 columns</p>\n",
       "</div>"
      ],
      "text/plain": [
       "      order_number  variant_id  quantity  item_label  item_vol  FedEx_box_type\n",
       "0        QSKB-D6JS       62834         1         1.0  11.22498             1.0\n",
       "1        QSKB-D6JS       64991         1         0.0  36.90360             1.0\n",
       "2        QSKB-D6JS       62836         1         1.0  11.22498             1.0\n",
       "3        QSKB-D6JS       66428         1         0.0  25.77300             1.0\n",
       "4        7LLC-W4TP       63981         1         1.0  27.33264             1.0\n",
       "...            ...         ...       ...         ...       ...             ...\n",
       "21834    L72S-1FR8       66664         1         1.0  16.14006             1.0\n",
       "21835    L72S-1FR8       66665         1         0.0  18.97074             1.0\n",
       "21836    L72S-1FR8       63981         1         1.0  27.33264             1.0\n",
       "21837    L72S-1FR8       62725         1         1.0  11.22498             1.0\n",
       "21838    L72S-1FR8       64991         1         0.0  36.90360             1.0\n",
       "\n",
       "[19626 rows x 6 columns]"
      ]
     },
     "execution_count": 146,
     "metadata": {},
     "output_type": "execute_result"
    }
   ],
   "source": [
    "final1"
   ]
  },
  {
   "cell_type": "code",
   "execution_count": 147,
   "metadata": {},
   "outputs": [
    {
     "data": {
      "text/plain": [
       "7970"
      ]
     },
     "execution_count": 147,
     "metadata": {},
     "output_type": "execute_result"
    }
   ],
   "source": [
    "final1['order_number'].nunique()"
   ]
  },
  {
   "cell_type": "code",
   "execution_count": 148,
   "metadata": {},
   "outputs": [
    {
     "data": {
      "text/html": [
       "<div>\n",
       "<style scoped>\n",
       "    .dataframe tbody tr th:only-of-type {\n",
       "        vertical-align: middle;\n",
       "    }\n",
       "\n",
       "    .dataframe tbody tr th {\n",
       "        vertical-align: top;\n",
       "    }\n",
       "\n",
       "    .dataframe thead th {\n",
       "        text-align: right;\n",
       "    }\n",
       "</style>\n",
       "<table border=\"1\" class=\"dataframe\">\n",
       "  <thead>\n",
       "    <tr style=\"text-align: right;\">\n",
       "      <th></th>\n",
       "      <th>order_number</th>\n",
       "      <th>total_order_vol</th>\n",
       "    </tr>\n",
       "  </thead>\n",
       "  <tbody>\n",
       "    <tr>\n",
       "      <td>0</td>\n",
       "      <td>11FB-6L5B</td>\n",
       "      <td>50.68512</td>\n",
       "    </tr>\n",
       "    <tr>\n",
       "      <td>1</td>\n",
       "      <td>11GB-6YMB</td>\n",
       "      <td>64.80474</td>\n",
       "    </tr>\n",
       "    <tr>\n",
       "      <td>2</td>\n",
       "      <td>11L2-P4TP</td>\n",
       "      <td>58.02192</td>\n",
       "    </tr>\n",
       "    <tr>\n",
       "      <td>3</td>\n",
       "      <td>11ML-46TS</td>\n",
       "      <td>86.32980</td>\n",
       "    </tr>\n",
       "    <tr>\n",
       "      <td>4</td>\n",
       "      <td>124L-LBGY</td>\n",
       "      <td>11.22498</td>\n",
       "    </tr>\n",
       "    <tr>\n",
       "      <td>...</td>\n",
       "      <td>...</td>\n",
       "      <td>...</td>\n",
       "    </tr>\n",
       "    <tr>\n",
       "      <td>7965</td>\n",
       "      <td>ZZ12-P7L6</td>\n",
       "      <td>54.00906</td>\n",
       "    </tr>\n",
       "    <tr>\n",
       "      <td>7966</td>\n",
       "      <td>ZZ6P-BD7F</td>\n",
       "      <td>66.36438</td>\n",
       "    </tr>\n",
       "    <tr>\n",
       "      <td>7967</td>\n",
       "      <td>ZZDQ-36B5</td>\n",
       "      <td>11.22498</td>\n",
       "    </tr>\n",
       "    <tr>\n",
       "      <td>7968</td>\n",
       "      <td>ZZR3-BJL5</td>\n",
       "      <td>39.03174</td>\n",
       "    </tr>\n",
       "    <tr>\n",
       "      <td>7969</td>\n",
       "      <td>ZZRG-BTL5</td>\n",
       "      <td>48.12858</td>\n",
       "    </tr>\n",
       "  </tbody>\n",
       "</table>\n",
       "<p>7970 rows × 2 columns</p>\n",
       "</div>"
      ],
      "text/plain": [
       "     order_number  total_order_vol\n",
       "0       11FB-6L5B         50.68512\n",
       "1       11GB-6YMB         64.80474\n",
       "2       11L2-P4TP         58.02192\n",
       "3       11ML-46TS         86.32980\n",
       "4       124L-LBGY         11.22498\n",
       "...           ...              ...\n",
       "7965    ZZ12-P7L6         54.00906\n",
       "7966    ZZ6P-BD7F         66.36438\n",
       "7967    ZZDQ-36B5         11.22498\n",
       "7968    ZZR3-BJL5         39.03174\n",
       "7969    ZZRG-BTL5         48.12858\n",
       "\n",
       "[7970 rows x 2 columns]"
      ]
     },
     "execution_count": 148,
     "metadata": {},
     "output_type": "execute_result"
    }
   ],
   "source": [
    "# Calculate total order volume:\n",
    "\n",
    "item_matrix_1 = pd.pivot_table(final1,\n",
    "              index = ['order_number'],\n",
    "              values = ['item_vol'],\n",
    "              fill_value = 0,\n",
    "              aggfunc ={ 'item_vol':sum} )\n",
    "\n",
    "item_matrix_1.columns = ['total_order_vol']\n",
    "item_matrix_1.reset_index(level=0, inplace=True)\n",
    "item_matrix_1"
   ]
  },
  {
   "cell_type": "code",
   "execution_count": 149,
   "metadata": {},
   "outputs": [
    {
     "data": {
      "text/html": [
       "<div>\n",
       "<style scoped>\n",
       "    .dataframe tbody tr th:only-of-type {\n",
       "        vertical-align: middle;\n",
       "    }\n",
       "\n",
       "    .dataframe tbody tr th {\n",
       "        vertical-align: top;\n",
       "    }\n",
       "\n",
       "    .dataframe thead th {\n",
       "        text-align: right;\n",
       "    }\n",
       "</style>\n",
       "<table border=\"1\" class=\"dataframe\">\n",
       "  <thead>\n",
       "    <tr style=\"text-align: right;\">\n",
       "      <th></th>\n",
       "      <th>order_number</th>\n",
       "      <th>item_size_0</th>\n",
       "      <th>item_size_1</th>\n",
       "      <th>item_size_2</th>\n",
       "      <th>item_size_3</th>\n",
       "    </tr>\n",
       "  </thead>\n",
       "  <tbody>\n",
       "    <tr>\n",
       "      <td>0</td>\n",
       "      <td>11FB-6L5B</td>\n",
       "      <td>1.0</td>\n",
       "      <td>1.00</td>\n",
       "      <td>0</td>\n",
       "      <td>0.0</td>\n",
       "    </tr>\n",
       "    <tr>\n",
       "      <td>1</td>\n",
       "      <td>11GB-6YMB</td>\n",
       "      <td>1.0</td>\n",
       "      <td>1.00</td>\n",
       "      <td>0</td>\n",
       "      <td>0.0</td>\n",
       "    </tr>\n",
       "    <tr>\n",
       "      <td>2</td>\n",
       "      <td>11L2-P4TP</td>\n",
       "      <td>0.0</td>\n",
       "      <td>7.00</td>\n",
       "      <td>0</td>\n",
       "      <td>0.0</td>\n",
       "    </tr>\n",
       "    <tr>\n",
       "      <td>3</td>\n",
       "      <td>11ML-46TS</td>\n",
       "      <td>1.0</td>\n",
       "      <td>0.00</td>\n",
       "      <td>0</td>\n",
       "      <td>0.0</td>\n",
       "    </tr>\n",
       "    <tr>\n",
       "      <td>4</td>\n",
       "      <td>124L-LBGY</td>\n",
       "      <td>0.0</td>\n",
       "      <td>1.00</td>\n",
       "      <td>0</td>\n",
       "      <td>0.0</td>\n",
       "    </tr>\n",
       "    <tr>\n",
       "      <td>...</td>\n",
       "      <td>...</td>\n",
       "      <td>...</td>\n",
       "      <td>...</td>\n",
       "      <td>...</td>\n",
       "      <td>...</td>\n",
       "    </tr>\n",
       "    <tr>\n",
       "      <td>7965</td>\n",
       "      <td>ZZ12-P7L6</td>\n",
       "      <td>1.0</td>\n",
       "      <td>1.00</td>\n",
       "      <td>0</td>\n",
       "      <td>0.0</td>\n",
       "    </tr>\n",
       "    <tr>\n",
       "      <td>7966</td>\n",
       "      <td>ZZ6P-BD7F</td>\n",
       "      <td>0.0</td>\n",
       "      <td>1.00</td>\n",
       "      <td>0</td>\n",
       "      <td>0.0</td>\n",
       "    </tr>\n",
       "    <tr>\n",
       "      <td>7967</td>\n",
       "      <td>ZZDQ-36B5</td>\n",
       "      <td>0.0</td>\n",
       "      <td>1.00</td>\n",
       "      <td>0</td>\n",
       "      <td>0.0</td>\n",
       "    </tr>\n",
       "    <tr>\n",
       "      <td>7968</td>\n",
       "      <td>ZZR3-BJL5</td>\n",
       "      <td>0.0</td>\n",
       "      <td>1.25</td>\n",
       "      <td>0</td>\n",
       "      <td>0.0</td>\n",
       "    </tr>\n",
       "    <tr>\n",
       "      <td>7969</td>\n",
       "      <td>ZZRG-BTL5</td>\n",
       "      <td>2.0</td>\n",
       "      <td>6.00</td>\n",
       "      <td>0</td>\n",
       "      <td>0.0</td>\n",
       "    </tr>\n",
       "  </tbody>\n",
       "</table>\n",
       "<p>7970 rows × 5 columns</p>\n",
       "</div>"
      ],
      "text/plain": [
       "     order_number  item_size_0  item_size_1  item_size_2  item_size_3\n",
       "0       11FB-6L5B          1.0         1.00            0          0.0\n",
       "1       11GB-6YMB          1.0         1.00            0          0.0\n",
       "2       11L2-P4TP          0.0         7.00            0          0.0\n",
       "3       11ML-46TS          1.0         0.00            0          0.0\n",
       "4       124L-LBGY          0.0         1.00            0          0.0\n",
       "...           ...          ...          ...          ...          ...\n",
       "7965    ZZ12-P7L6          1.0         1.00            0          0.0\n",
       "7966    ZZ6P-BD7F          0.0         1.00            0          0.0\n",
       "7967    ZZDQ-36B5          0.0         1.00            0          0.0\n",
       "7968    ZZR3-BJL5          0.0         1.25            0          0.0\n",
       "7969    ZZRG-BTL5          2.0         6.00            0          0.0\n",
       "\n",
       "[7970 rows x 5 columns]"
      ]
     },
     "execution_count": 149,
     "metadata": {},
     "output_type": "execute_result"
    }
   ],
   "source": [
    "# Matrix with item type only\n",
    "item_matrix_2 = pd.pivot_table(final1,\n",
    "              index = ['order_number'],\n",
    "              values = ['quantity'],\n",
    "              columns = ['item_label'],\n",
    "              fill_value = 0)\n",
    "\n",
    "item_matrix_2.columns = ['item_size_0','item_size_1','item_size_2','item_size_3']\n",
    "item_matrix_2.reset_index(level=0, inplace=True)\n",
    "item_matrix_2"
   ]
  },
  {
   "cell_type": "code",
   "execution_count": 150,
   "metadata": {},
   "outputs": [
    {
     "data": {
      "text/html": [
       "<div>\n",
       "<style scoped>\n",
       "    .dataframe tbody tr th:only-of-type {\n",
       "        vertical-align: middle;\n",
       "    }\n",
       "\n",
       "    .dataframe tbody tr th {\n",
       "        vertical-align: top;\n",
       "    }\n",
       "\n",
       "    .dataframe thead th {\n",
       "        text-align: right;\n",
       "    }\n",
       "</style>\n",
       "<table border=\"1\" class=\"dataframe\">\n",
       "  <thead>\n",
       "    <tr style=\"text-align: right;\">\n",
       "      <th></th>\n",
       "      <th>order_number</th>\n",
       "      <th>item_size_0</th>\n",
       "      <th>item_size_1</th>\n",
       "      <th>item_size_2</th>\n",
       "      <th>item_size_3</th>\n",
       "      <th>total_order_vol</th>\n",
       "    </tr>\n",
       "  </thead>\n",
       "  <tbody>\n",
       "    <tr>\n",
       "      <td>0</td>\n",
       "      <td>11FB-6L5B</td>\n",
       "      <td>1.0</td>\n",
       "      <td>1.00</td>\n",
       "      <td>0</td>\n",
       "      <td>0.0</td>\n",
       "      <td>50.68512</td>\n",
       "    </tr>\n",
       "    <tr>\n",
       "      <td>1</td>\n",
       "      <td>11GB-6YMB</td>\n",
       "      <td>1.0</td>\n",
       "      <td>1.00</td>\n",
       "      <td>0</td>\n",
       "      <td>0.0</td>\n",
       "      <td>64.80474</td>\n",
       "    </tr>\n",
       "    <tr>\n",
       "      <td>2</td>\n",
       "      <td>11L2-P4TP</td>\n",
       "      <td>0.0</td>\n",
       "      <td>7.00</td>\n",
       "      <td>0</td>\n",
       "      <td>0.0</td>\n",
       "      <td>58.02192</td>\n",
       "    </tr>\n",
       "    <tr>\n",
       "      <td>3</td>\n",
       "      <td>11ML-46TS</td>\n",
       "      <td>1.0</td>\n",
       "      <td>0.00</td>\n",
       "      <td>0</td>\n",
       "      <td>0.0</td>\n",
       "      <td>86.32980</td>\n",
       "    </tr>\n",
       "    <tr>\n",
       "      <td>4</td>\n",
       "      <td>124L-LBGY</td>\n",
       "      <td>0.0</td>\n",
       "      <td>1.00</td>\n",
       "      <td>0</td>\n",
       "      <td>0.0</td>\n",
       "      <td>11.22498</td>\n",
       "    </tr>\n",
       "    <tr>\n",
       "      <td>...</td>\n",
       "      <td>...</td>\n",
       "      <td>...</td>\n",
       "      <td>...</td>\n",
       "      <td>...</td>\n",
       "      <td>...</td>\n",
       "      <td>...</td>\n",
       "    </tr>\n",
       "    <tr>\n",
       "      <td>7965</td>\n",
       "      <td>ZZ12-P7L6</td>\n",
       "      <td>1.0</td>\n",
       "      <td>1.00</td>\n",
       "      <td>0</td>\n",
       "      <td>0.0</td>\n",
       "      <td>54.00906</td>\n",
       "    </tr>\n",
       "    <tr>\n",
       "      <td>7966</td>\n",
       "      <td>ZZ6P-BD7F</td>\n",
       "      <td>0.0</td>\n",
       "      <td>1.00</td>\n",
       "      <td>0</td>\n",
       "      <td>0.0</td>\n",
       "      <td>66.36438</td>\n",
       "    </tr>\n",
       "    <tr>\n",
       "      <td>7967</td>\n",
       "      <td>ZZDQ-36B5</td>\n",
       "      <td>0.0</td>\n",
       "      <td>1.00</td>\n",
       "      <td>0</td>\n",
       "      <td>0.0</td>\n",
       "      <td>11.22498</td>\n",
       "    </tr>\n",
       "    <tr>\n",
       "      <td>7968</td>\n",
       "      <td>ZZR3-BJL5</td>\n",
       "      <td>0.0</td>\n",
       "      <td>1.25</td>\n",
       "      <td>0</td>\n",
       "      <td>0.0</td>\n",
       "      <td>39.03174</td>\n",
       "    </tr>\n",
       "    <tr>\n",
       "      <td>7969</td>\n",
       "      <td>ZZRG-BTL5</td>\n",
       "      <td>2.0</td>\n",
       "      <td>6.00</td>\n",
       "      <td>0</td>\n",
       "      <td>0.0</td>\n",
       "      <td>48.12858</td>\n",
       "    </tr>\n",
       "  </tbody>\n",
       "</table>\n",
       "<p>7970 rows × 6 columns</p>\n",
       "</div>"
      ],
      "text/plain": [
       "     order_number  item_size_0  item_size_1  item_size_2  item_size_3  \\\n",
       "0       11FB-6L5B          1.0         1.00            0          0.0   \n",
       "1       11GB-6YMB          1.0         1.00            0          0.0   \n",
       "2       11L2-P4TP          0.0         7.00            0          0.0   \n",
       "3       11ML-46TS          1.0         0.00            0          0.0   \n",
       "4       124L-LBGY          0.0         1.00            0          0.0   \n",
       "...           ...          ...          ...          ...          ...   \n",
       "7965    ZZ12-P7L6          1.0         1.00            0          0.0   \n",
       "7966    ZZ6P-BD7F          0.0         1.00            0          0.0   \n",
       "7967    ZZDQ-36B5          0.0         1.00            0          0.0   \n",
       "7968    ZZR3-BJL5          0.0         1.25            0          0.0   \n",
       "7969    ZZRG-BTL5          2.0         6.00            0          0.0   \n",
       "\n",
       "      total_order_vol  \n",
       "0            50.68512  \n",
       "1            64.80474  \n",
       "2            58.02192  \n",
       "3            86.32980  \n",
       "4            11.22498  \n",
       "...               ...  \n",
       "7965         54.00906  \n",
       "7966         66.36438  \n",
       "7967         11.22498  \n",
       "7968         39.03174  \n",
       "7969         48.12858  \n",
       "\n",
       "[7970 rows x 6 columns]"
      ]
     },
     "execution_count": 150,
     "metadata": {},
     "output_type": "execute_result"
    }
   ],
   "source": [
    "item_matrix = pd.merge(item_matrix_2,item_matrix_1, how = 'left', on ='order_number')\n",
    "item_matrix"
   ]
  },
  {
   "cell_type": "code",
   "execution_count": 153,
   "metadata": {},
   "outputs": [
    {
     "data": {
      "text/html": [
       "<div>\n",
       "<style scoped>\n",
       "    .dataframe tbody tr th:only-of-type {\n",
       "        vertical-align: middle;\n",
       "    }\n",
       "\n",
       "    .dataframe tbody tr th {\n",
       "        vertical-align: top;\n",
       "    }\n",
       "\n",
       "    .dataframe thead th {\n",
       "        text-align: right;\n",
       "    }\n",
       "</style>\n",
       "<table border=\"1\" class=\"dataframe\">\n",
       "  <thead>\n",
       "    <tr style=\"text-align: right;\">\n",
       "      <th></th>\n",
       "      <th>order_number</th>\n",
       "      <th>item_size_0</th>\n",
       "      <th>item_size_1</th>\n",
       "      <th>item_size_2</th>\n",
       "      <th>item_size_3</th>\n",
       "      <th>total_order_vol</th>\n",
       "      <th>FedEx_box_type</th>\n",
       "    </tr>\n",
       "  </thead>\n",
       "  <tbody>\n",
       "    <tr>\n",
       "      <td>0</td>\n",
       "      <td>11FB-6L5B</td>\n",
       "      <td>1.0</td>\n",
       "      <td>1.00</td>\n",
       "      <td>0</td>\n",
       "      <td>0.0</td>\n",
       "      <td>50.68512</td>\n",
       "      <td>1</td>\n",
       "    </tr>\n",
       "    <tr>\n",
       "      <td>1</td>\n",
       "      <td>11GB-6YMB</td>\n",
       "      <td>1.0</td>\n",
       "      <td>1.00</td>\n",
       "      <td>0</td>\n",
       "      <td>0.0</td>\n",
       "      <td>64.80474</td>\n",
       "      <td>1</td>\n",
       "    </tr>\n",
       "    <tr>\n",
       "      <td>2</td>\n",
       "      <td>11L2-P4TP</td>\n",
       "      <td>0.0</td>\n",
       "      <td>7.00</td>\n",
       "      <td>0</td>\n",
       "      <td>0.0</td>\n",
       "      <td>58.02192</td>\n",
       "      <td>2</td>\n",
       "    </tr>\n",
       "    <tr>\n",
       "      <td>3</td>\n",
       "      <td>11ML-46TS</td>\n",
       "      <td>1.0</td>\n",
       "      <td>0.00</td>\n",
       "      <td>0</td>\n",
       "      <td>0.0</td>\n",
       "      <td>86.32980</td>\n",
       "      <td>1</td>\n",
       "    </tr>\n",
       "    <tr>\n",
       "      <td>4</td>\n",
       "      <td>124L-LBGY</td>\n",
       "      <td>0.0</td>\n",
       "      <td>1.00</td>\n",
       "      <td>0</td>\n",
       "      <td>0.0</td>\n",
       "      <td>11.22498</td>\n",
       "      <td>0</td>\n",
       "    </tr>\n",
       "    <tr>\n",
       "      <td>...</td>\n",
       "      <td>...</td>\n",
       "      <td>...</td>\n",
       "      <td>...</td>\n",
       "      <td>...</td>\n",
       "      <td>...</td>\n",
       "      <td>...</td>\n",
       "      <td>...</td>\n",
       "    </tr>\n",
       "    <tr>\n",
       "      <td>7966</td>\n",
       "      <td>ZZ12-P7L6</td>\n",
       "      <td>1.0</td>\n",
       "      <td>1.00</td>\n",
       "      <td>0</td>\n",
       "      <td>0.0</td>\n",
       "      <td>54.00906</td>\n",
       "      <td>1</td>\n",
       "    </tr>\n",
       "    <tr>\n",
       "      <td>7967</td>\n",
       "      <td>ZZ6P-BD7F</td>\n",
       "      <td>0.0</td>\n",
       "      <td>1.00</td>\n",
       "      <td>0</td>\n",
       "      <td>0.0</td>\n",
       "      <td>66.36438</td>\n",
       "      <td>1</td>\n",
       "    </tr>\n",
       "    <tr>\n",
       "      <td>7968</td>\n",
       "      <td>ZZDQ-36B5</td>\n",
       "      <td>0.0</td>\n",
       "      <td>1.00</td>\n",
       "      <td>0</td>\n",
       "      <td>0.0</td>\n",
       "      <td>11.22498</td>\n",
       "      <td>0</td>\n",
       "    </tr>\n",
       "    <tr>\n",
       "      <td>7969</td>\n",
       "      <td>ZZR3-BJL5</td>\n",
       "      <td>0.0</td>\n",
       "      <td>1.25</td>\n",
       "      <td>0</td>\n",
       "      <td>0.0</td>\n",
       "      <td>39.03174</td>\n",
       "      <td>1</td>\n",
       "    </tr>\n",
       "    <tr>\n",
       "      <td>7970</td>\n",
       "      <td>ZZRG-BTL5</td>\n",
       "      <td>2.0</td>\n",
       "      <td>6.00</td>\n",
       "      <td>0</td>\n",
       "      <td>0.0</td>\n",
       "      <td>48.12858</td>\n",
       "      <td>2</td>\n",
       "    </tr>\n",
       "  </tbody>\n",
       "</table>\n",
       "<p>7971 rows × 7 columns</p>\n",
       "</div>"
      ],
      "text/plain": [
       "     order_number  item_size_0  item_size_1  item_size_2  item_size_3  \\\n",
       "0       11FB-6L5B          1.0         1.00            0          0.0   \n",
       "1       11GB-6YMB          1.0         1.00            0          0.0   \n",
       "2       11L2-P4TP          0.0         7.00            0          0.0   \n",
       "3       11ML-46TS          1.0         0.00            0          0.0   \n",
       "4       124L-LBGY          0.0         1.00            0          0.0   \n",
       "...           ...          ...          ...          ...          ...   \n",
       "7966    ZZ12-P7L6          1.0         1.00            0          0.0   \n",
       "7967    ZZ6P-BD7F          0.0         1.00            0          0.0   \n",
       "7968    ZZDQ-36B5          0.0         1.00            0          0.0   \n",
       "7969    ZZR3-BJL5          0.0         1.25            0          0.0   \n",
       "7970    ZZRG-BTL5          2.0         6.00            0          0.0   \n",
       "\n",
       "      total_order_vol  FedEx_box_type  \n",
       "0            50.68512               1  \n",
       "1            64.80474               1  \n",
       "2            58.02192               2  \n",
       "3            86.32980               1  \n",
       "4            11.22498               0  \n",
       "...               ...             ...  \n",
       "7966         54.00906               1  \n",
       "7967         66.36438               1  \n",
       "7968         11.22498               0  \n",
       "7969         39.03174               1  \n",
       "7970         48.12858               2  \n",
       "\n",
       "[7971 rows x 7 columns]"
      ]
     },
     "execution_count": 153,
     "metadata": {},
     "output_type": "execute_result"
    }
   ],
   "source": [
    "final_matrix = pd.merge(item_matrix,box_label, how ='left', on='order_number')\n",
    "final_matrix"
   ]
  },
  {
   "cell_type": "code",
   "execution_count": 155,
   "metadata": {},
   "outputs": [],
   "source": [
    "final_matrix.to_csv('GM_box_size_clean_data_2509131600.csv', index=False)"
   ]
  },
  {
   "cell_type": "code",
   "execution_count": null,
   "metadata": {},
   "outputs": [],
   "source": []
  }
 ],
 "metadata": {
  "kernelspec": {
   "display_name": "Python 3",
   "language": "python",
   "name": "python3"
  },
  "language_info": {
   "codemirror_mode": {
    "name": "ipython",
    "version": 3
   },
   "file_extension": ".py",
   "mimetype": "text/x-python",
   "name": "python",
   "nbconvert_exporter": "python",
   "pygments_lexer": "ipython3",
   "version": "3.7.4"
  }
 },
 "nbformat": 4,
 "nbformat_minor": 2
}
