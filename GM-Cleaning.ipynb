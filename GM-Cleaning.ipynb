{
 "cells": [
  {
   "cell_type": "code",
   "execution_count": 1,
   "metadata": {},
   "outputs": [],
   "source": [
    "import pandas as pd\n",
    "import numpy as np\n",
    "import seaborn as sns                       #visualisation\n",
    "import matplotlib.pyplot as plt             #visualisation\n",
    "%matplotlib inline     \n",
    "sns.set(color_codes=True)\n",
    "from datetime import datetime, date, time, timezone\n",
    "from sklearn.cluster import KMeans\n",
    "from mpl_toolkits.mplot3d import Axes3D\n",
    "import matplotlib.cm as cm\n",
    "\n",
    "import mglearn\n",
    "from IPython.display import display\n",
    "\n",
    "import glob\n",
    "import os"
   ]
  },
  {
   "cell_type": "markdown",
   "metadata": {},
   "source": [
    "# Dataset 3: FedEx orders with box dim"
   ]
  },
  {
   "cell_type": "code",
   "execution_count": 13,
   "metadata": {},
   "outputs": [
    {
     "name": "stdout",
     "output_type": "stream",
     "text": [
      "(594891, 5)\n"
     ]
    },
    {
     "data": {
      "text/html": [
       "<div>\n",
       "<style scoped>\n",
       "    .dataframe tbody tr th:only-of-type {\n",
       "        vertical-align: middle;\n",
       "    }\n",
       "\n",
       "    .dataframe tbody tr th {\n",
       "        vertical-align: top;\n",
       "    }\n",
       "\n",
       "    .dataframe thead th {\n",
       "        text-align: right;\n",
       "    }\n",
       "</style>\n",
       "<table border=\"1\" class=\"dataframe\">\n",
       "  <thead>\n",
       "    <tr style=\"text-align: right;\">\n",
       "      <th></th>\n",
       "      <th>order_number</th>\n",
       "      <th>Dim length</th>\n",
       "      <th>Dim width</th>\n",
       "      <th>Dim height</th>\n",
       "      <th>box_vol</th>\n",
       "    </tr>\n",
       "  </thead>\n",
       "  <tbody>\n",
       "    <tr>\n",
       "      <td>0</td>\n",
       "      <td>791V-YVBD</td>\n",
       "      <td>11.0</td>\n",
       "      <td>8.0</td>\n",
       "      <td>6.0</td>\n",
       "      <td>528.0</td>\n",
       "    </tr>\n",
       "    <tr>\n",
       "      <td>1</td>\n",
       "      <td>YQ28-PKTY</td>\n",
       "      <td>15.0</td>\n",
       "      <td>10.0</td>\n",
       "      <td>4.0</td>\n",
       "      <td>600.0</td>\n",
       "    </tr>\n",
       "    <tr>\n",
       "      <td>2</td>\n",
       "      <td>1S2M-BKQM</td>\n",
       "      <td>10.0</td>\n",
       "      <td>15.0</td>\n",
       "      <td>6.0</td>\n",
       "      <td>900.0</td>\n",
       "    </tr>\n",
       "    <tr>\n",
       "      <td>3</td>\n",
       "      <td>XC5S-4MLT</td>\n",
       "      <td>10.0</td>\n",
       "      <td>7.0</td>\n",
       "      <td>4.0</td>\n",
       "      <td>280.0</td>\n",
       "    </tr>\n",
       "    <tr>\n",
       "      <td>4</td>\n",
       "      <td>KZJH-PQN2</td>\n",
       "      <td>11.0</td>\n",
       "      <td>8.0</td>\n",
       "      <td>6.0</td>\n",
       "      <td>528.0</td>\n",
       "    </tr>\n",
       "  </tbody>\n",
       "</table>\n",
       "</div>"
      ],
      "text/plain": [
       "  order_number  Dim length  Dim width  Dim height  box_vol\n",
       "0    791V-YVBD        11.0        8.0         6.0    528.0\n",
       "1    YQ28-PKTY        15.0       10.0         4.0    600.0\n",
       "2    1S2M-BKQM        10.0       15.0         6.0    900.0\n",
       "3    XC5S-4MLT        10.0        7.0         4.0    280.0\n",
       "4    KZJH-PQN2        11.0        8.0         6.0    528.0"
      ]
     },
     "execution_count": 13,
     "metadata": {},
     "output_type": "execute_result"
    }
   ],
   "source": [
    "cols_list = ['Reference 2','Dim length', 'Dim width', 'Dim height']\n",
    "\n",
    "files = glob.glob('/Users/elle.le/Workspace/BoxSize_local/new_data/FedEx_box/*.csv')\n",
    "\n",
    "dfs =[]\n",
    "\n",
    "for file in files:\n",
    "    dfs.append(pd.read_csv(file, usecols = cols_list))\n",
    "\n",
    "box_size = pd.concat(dfs, axis = 0, ignore_index = True, sort = False)\n",
    "box_size.dropna(subset=['Dim height','Reference 2'], inplace = True)\n",
    "box_size.rename(columns = {'Reference 2':'order_number'}, inplace = True)\n",
    "\n",
    "box_size = box_size[['order_number','Dim length', 'Dim width', 'Dim height']]\n",
    "box_size['box_vol']=box_size['Dim length']*box_size['Dim width']*box_size['Dim height']\n",
    "print(box_size.shape)\n",
    "box_size.head(5)"
   ]
  },
  {
   "cell_type": "code",
   "execution_count": 6,
   "metadata": {},
   "outputs": [
    {
     "ename": "NameError",
     "evalue": "name 'GM_order' is not defined",
     "output_type": "error",
     "traceback": [
      "\u001b[0;31m---------------------------------------------------------------------------\u001b[0m",
      "\u001b[0;31mNameError\u001b[0m                                 Traceback (most recent call last)",
      "\u001b[0;32m<ipython-input-6-cd47f31c04b5>\u001b[0m in \u001b[0;36m<module>\u001b[0;34m\u001b[0m\n\u001b[1;32m      1\u001b[0m \u001b[0;31m#Unique orders with shipping box size\u001b[0m\u001b[0;34m\u001b[0m\u001b[0;34m\u001b[0m\u001b[0;34m\u001b[0m\u001b[0m\n\u001b[0;32m----> 2\u001b[0;31m \u001b[0mbox_size_GM\u001b[0m \u001b[0;34m=\u001b[0m \u001b[0mpd\u001b[0m\u001b[0;34m.\u001b[0m\u001b[0mmerge\u001b[0m\u001b[0;34m(\u001b[0m\u001b[0mGM_order\u001b[0m\u001b[0;34m,\u001b[0m \u001b[0mbox_size\u001b[0m\u001b[0;34m,\u001b[0m \u001b[0mhow\u001b[0m \u001b[0;34m=\u001b[0m\u001b[0;34m'left'\u001b[0m\u001b[0;34m,\u001b[0m \u001b[0mon\u001b[0m \u001b[0;34m=\u001b[0m\u001b[0;34m'order_number'\u001b[0m\u001b[0;34m)\u001b[0m\u001b[0;34m\u001b[0m\u001b[0;34m\u001b[0m\u001b[0m\n\u001b[0m\u001b[1;32m      3\u001b[0m \u001b[0;34m\u001b[0m\u001b[0m\n\u001b[1;32m      4\u001b[0m \u001b[0mbox_size_GM\u001b[0m\u001b[0;34m.\u001b[0m\u001b[0mdropna\u001b[0m\u001b[0;34m(\u001b[0m\u001b[0msubset\u001b[0m\u001b[0;34m=\u001b[0m\u001b[0;34m[\u001b[0m\u001b[0;34m'Dim height'\u001b[0m\u001b[0;34m,\u001b[0m\u001b[0;34m'order_number'\u001b[0m\u001b[0;34m]\u001b[0m\u001b[0;34m,\u001b[0m \u001b[0minplace\u001b[0m \u001b[0;34m=\u001b[0m \u001b[0;32mTrue\u001b[0m\u001b[0;34m)\u001b[0m\u001b[0;34m\u001b[0m\u001b[0;34m\u001b[0m\u001b[0m\n\u001b[1;32m      5\u001b[0m \u001b[0;34m\u001b[0m\u001b[0m\n",
      "\u001b[0;31mNameError\u001b[0m: name 'GM_order' is not defined"
     ]
    }
   ],
   "source": [
    "#Unique orders with shipping box size\n",
    "box_size_GM = pd.merge(GM_order, box_size, how ='left', on ='order_number')\n",
    "\n",
    "box_size_GM.dropna(subset=['Dim height','order_number'], inplace = True)\n",
    "\n",
    "box_size_GM.shape"
   ]
  },
  {
   "cell_type": "code",
   "execution_count": null,
   "metadata": {},
   "outputs": [],
   "source": [
    "# Sort 3 dim to create unique box profile\n",
    "tmp_item = box_sise_GM.iloc[:,1:4].apply(sorted, axis=1)\n",
    "tmp_item = pd.DataFrame(tmp_item.to_list(), columns=['dim1','dim2','dim3'])\n",
    "box_size_GM.iloc[:,1:4] = tmp_item.copy().to_numpy()\n",
    "\n",
    "box_size_GM.head(5)"
   ]
  },
  {
   "cell_type": "code",
   "execution_count": null,
   "metadata": {},
   "outputs": [],
   "source": [
    "#K-means to decide number of box groups:\n",
    "distortions = []\n",
    "K = range(1,10)\n",
    "for k in K:\n",
    "    kmeanModel = KMeans(n_clusters=k)\n",
    "    kmeanModel.fit(box_size_GM.iloc[:,1:4])\n",
    "    distortions.append(kmeanModel.inertia_)\n",
    "    \n",
    "plt.figure(figsize=(16,8))\n",
    "plt.plot(K, distortions, 'bx-')\n",
    "plt.xlabel('k')\n",
    "plt.ylabel('Distortion')\n",
    "plt.title('The Elbow Method showing the optimal k')\n",
    "plt.show()  "
   ]
  },
  {
   "cell_type": "code",
   "execution_count": null,
   "metadata": {},
   "outputs": [],
   "source": [
    "FedEx_box_type = 3\n",
    "kmeans_box = KMeans(n_clusters=FedEx_box_type, random_state=0, max_iter = 1000).fit(box_size_GM.iloc[:,1:4])\n",
    "box_size_GM['FedEx_box_type'] = kmeans_box.labels_\n",
    "box_size_GM.head(3)\n",
    "box_label = box_size_GM.drop(columns = ['Dim length','Dim width','Dim height','box_vol']).copy()\n",
    "print(box_label.shape)\n",
    "box_label.head(3)"
   ]
  },
  {
   "cell_type": "code",
   "execution_count": null,
   "metadata": {},
   "outputs": [],
   "source": [
    "cfig = plt.figure()\n",
    "ax = cfig.add_subplot(111, projection='3d')\n",
    "classes = kmeans_box.labels_\n",
    "colors = cm.rainbow(np.linspace(0, 1, FedEx_box_type))\n",
    "for i in range(FedEx_box_type):\n",
    "    x=box_size_GM.loc[classes == i, 'Dim length']\n",
    "    y=box_size_GM.loc[classes == i, 'Dim width']\n",
    "    z=box_size_GM.loc[classes == i, 'Dim height']\n",
    "    ax.scatter(x, y,z,c=colors[i])"
   ]
  },
  {
   "cell_type": "code",
   "execution_count": null,
   "metadata": {},
   "outputs": [],
   "source": [
    "box_size_GM['FedEx_box_type'].hist()"
   ]
  },
  {
   "cell_type": "code",
   "execution_count": null,
   "metadata": {},
   "outputs": [],
   "source": [
    "box_size_GM.loc[box_size_GM['FedEx_box_type'] == 0 ]['box_vol'].hist()"
   ]
  },
  {
   "cell_type": "code",
   "execution_count": null,
   "metadata": {},
   "outputs": [],
   "source": [
    "box_size_GM.loc[box_size_GM['FedEx_box_type'] == 1 ]['box_vol'].hist()"
   ]
  },
  {
   "cell_type": "code",
   "execution_count": null,
   "metadata": {},
   "outputs": [],
   "source": [
    "box_size_GM.loc[box_size_GM['FedEx_box_type'] == 2 ]['box_vol'].hist()"
   ]
  },
  {
   "cell_type": "code",
   "execution_count": null,
   "metadata": {},
   "outputs": [],
   "source": []
  },
  {
   "cell_type": "code",
   "execution_count": null,
   "metadata": {},
   "outputs": [],
   "source": []
  },
  {
   "cell_type": "code",
   "execution_count": null,
   "metadata": {},
   "outputs": [],
   "source": []
  },
  {
   "cell_type": "code",
   "execution_count": null,
   "metadata": {},
   "outputs": [],
   "source": []
  },
  {
   "cell_type": "code",
   "execution_count": null,
   "metadata": {},
   "outputs": [],
   "source": []
  },
  {
   "cell_type": "markdown",
   "metadata": {},
   "source": [
    "# Dataset 2: Order Line Item"
   ]
  },
  {
   "cell_type": "code",
   "execution_count": null,
   "metadata": {},
   "outputs": [],
   "source": [
    "line = pd.read_csv('new_data/GM_2019_2020_orders_FedEx.csv')\n",
    "print(line.shape)\n",
    "line.drop(columns = ['tracking_number'], inplace = True)\n",
    "line.head(2)"
   ]
  },
  {
   "cell_type": "code",
   "execution_count": null,
   "metadata": {},
   "outputs": [],
   "source": [
    "line['order_number'].nunique()"
   ]
  },
  {
   "cell_type": "code",
   "execution_count": null,
   "metadata": {},
   "outputs": [],
   "source": [
    "sample_list = pd.read_csv('new_data/sample_list.csv')\n",
    "sample_list['indicator']=1\n",
    "sample_list.head(4)\n",
    "line_no_sample = pd.merge(line, sample_list, how = 'left', on ='variant_id')\n",
    "line_no_sample.head(4)\n",
    "line_no_sample = line_no_sample.loc[line_no_sample['indicator'] !=1].copy()\n",
    "line_no_sample.drop(columns=['indicator'], inplace = True)\n",
    "line_no_sample.shape"
   ]
  },
  {
   "cell_type": "code",
   "execution_count": null,
   "metadata": {},
   "outputs": [],
   "source": [
    "line_no_sample['variant_id'].nunique()\n",
    "\n",
    "GM_item_list = line_no_sample[['variant_id']].drop_duplicates()\n",
    "\n",
    "GM_item_list.head(3)"
   ]
  },
  {
   "cell_type": "code",
   "execution_count": null,
   "metadata": {},
   "outputs": [],
   "source": [
    "GM_order = line[['order_number']].drop_duplicates()"
   ]
  },
  {
   "cell_type": "code",
   "execution_count": null,
   "metadata": {},
   "outputs": [],
   "source": [
    "# Clean dataset 3 here:\n",
    "line.shape"
   ]
  },
  {
   "cell_type": "code",
   "execution_count": null,
   "metadata": {},
   "outputs": [],
   "source": []
  },
  {
   "cell_type": "code",
   "execution_count": null,
   "metadata": {},
   "outputs": [],
   "source": []
  },
  {
   "cell_type": "markdown",
   "metadata": {},
   "source": [
    "# Dataset 1: item dim"
   ]
  },
  {
   "cell_type": "code",
   "execution_count": 16,
   "metadata": {},
   "outputs": [
    {
     "data": {
      "text/plain": [
       "variant_id                 0\n",
       "dim_packaging_length_mm    0\n",
       "dim_packaging_width_mm     0\n",
       "dim_packaging_height_mm    0\n",
       "dtype: int64"
      ]
     },
     "execution_count": 16,
     "metadata": {},
     "output_type": "execute_result"
    }
   ],
   "source": [
    "cols = ['variant_id','dim_packaging_length_mm','dim_packaging_width_mm','dim_packaging_height_mm']\n",
    "GM_dim = pd.read_csv('/Users/elle.le/Workspace/BoxSize_local/new_data/GM_dim_clean.csv', usecols = cols)\n",
    "GM_dim.isna().sum()"
   ]
  },
  {
   "cell_type": "code",
   "execution_count": 15,
   "metadata": {},
   "outputs": [],
   "source": [
    "#GM_dim = pd.merge(GM_item_list,item_dim, how ='left', on ='variant_id')"
   ]
  },
  {
   "cell_type": "code",
   "execution_count": 20,
   "metadata": {},
   "outputs": [
    {
     "data": {
      "text/html": [
       "<div>\n",
       "<style scoped>\n",
       "    .dataframe tbody tr th:only-of-type {\n",
       "        vertical-align: middle;\n",
       "    }\n",
       "\n",
       "    .dataframe tbody tr th {\n",
       "        vertical-align: top;\n",
       "    }\n",
       "\n",
       "    .dataframe thead th {\n",
       "        text-align: right;\n",
       "    }\n",
       "</style>\n",
       "<table border=\"1\" class=\"dataframe\">\n",
       "  <thead>\n",
       "    <tr style=\"text-align: right;\">\n",
       "      <th></th>\n",
       "      <th>variant_id</th>\n",
       "      <th>dim_packaging_length_mm</th>\n",
       "      <th>dim_packaging_width_mm</th>\n",
       "      <th>dim_packaging_height_mm</th>\n",
       "      <th>item_vol</th>\n",
       "    </tr>\n",
       "  </thead>\n",
       "  <tbody>\n",
       "    <tr>\n",
       "      <td>0</td>\n",
       "      <td>68495</td>\n",
       "      <td>50</td>\n",
       "      <td>120</td>\n",
       "      <td>130</td>\n",
       "      <td>46.80000</td>\n",
       "    </tr>\n",
       "    <tr>\n",
       "      <td>1</td>\n",
       "      <td>64018</td>\n",
       "      <td>50</td>\n",
       "      <td>120</td>\n",
       "      <td>130</td>\n",
       "      <td>46.80000</td>\n",
       "    </tr>\n",
       "    <tr>\n",
       "      <td>2</td>\n",
       "      <td>66664</td>\n",
       "      <td>41</td>\n",
       "      <td>81</td>\n",
       "      <td>81</td>\n",
       "      <td>16.14006</td>\n",
       "    </tr>\n",
       "  </tbody>\n",
       "</table>\n",
       "</div>"
      ],
      "text/plain": [
       "   variant_id  dim_packaging_length_mm  dim_packaging_width_mm  \\\n",
       "0       68495                       50                     120   \n",
       "1       64018                       50                     120   \n",
       "2       66664                       41                      81   \n",
       "\n",
       "   dim_packaging_height_mm  item_vol  \n",
       "0                      130  46.80000  \n",
       "1                      130  46.80000  \n",
       "2                       81  16.14006  "
      ]
     },
     "execution_count": 20,
     "metadata": {},
     "output_type": "execute_result"
    }
   ],
   "source": [
    "GM_dim.head(3)"
   ]
  },
  {
   "cell_type": "code",
   "execution_count": 18,
   "metadata": {},
   "outputs": [],
   "source": [
    "# Sort 3 dim to create unique item profile\n",
    "tmp_item = GM_dim.iloc[:,1:4].apply(sorted, axis=1)\n",
    "tmp_item = pd.DataFrame(tmp_item.to_list(), columns=['dim1','dim2','dim3'])\n",
    "GM_dim.iloc[:,1:4] = tmp_item.copy().to_numpy()"
   ]
  },
  {
   "cell_type": "code",
   "execution_count": 19,
   "metadata": {},
   "outputs": [],
   "source": [
    "# Add volume column in cubic inches:\n",
    "GM_dim['item_vol'] = GM_dim['dim_packaging_length_mm']*GM_dim['dim_packaging_width_mm']*GM_dim['dim_packaging_height_mm']*6*1e-5"
   ]
  },
  {
   "cell_type": "code",
   "execution_count": 21,
   "metadata": {},
   "outputs": [
    {
     "data": {
      "image/png": "[encoded data removed]",
      "text/plain": [
       "<Figure size 720x288 with 1 Axes>"
      ]
     },
     "metadata": {
      "needs_background": "light"
     },
     "output_type": "display_data"
    }
   ],
   "source": [
    "#elbow curve to find the optimal number of clusters. Answer = 4\n",
    "\n",
    "distortions = []\n",
    "K = range(1,10)\n",
    "for k in K:\n",
    "    kmeanModel = KMeans(n_clusters=k)\n",
    "    kmeanModel.fit(GM_dim.iloc[:,1:5])\n",
    "    distortions.append(kmeanModel.inertia_)\n",
    "    \n",
    "plt.figure(figsize=(10,4))\n",
    "plt.plot(K, distortions, 'bx-')\n",
    "plt.xlabel('k')\n",
    "plt.ylabel('Distortion')\n",
    "plt.title('The Elbow Method showing the optimal k')\n",
    "plt.show()  "
   ]
  },
  {
   "cell_type": "code",
   "execution_count": 23,
   "metadata": {},
   "outputs": [
    {
     "name": "stdout",
     "output_type": "stream",
     "text": [
      "(17,) (17,) (17,)\n",
      "(1,) (1,) (1,)\n",
      "(20,) (20,) (20,)\n",
      "(18,) (18,) (18,)\n"
     ]
    },
    {
     "data": {
      "image/png": "[encoded data removed]",
      "text/plain": [
       "<Figure size 432x288 with 1 Axes>"
      ]
     },
     "metadata": {
      "needs_background": "light"
     },
     "output_type": "display_data"
    }
   ],
   "source": [
    "n_cluster = 4\n",
    "kmeans = KMeans(n_clusters=n_cluster, random_state = 0,max_iter=1000).fit(GM_dim.iloc[:,1:5])\n",
    "fig = plt.figure()\n",
    "ax = fig.add_subplot(111, projection='3d')\n",
    "classes = kmeans.labels_\n",
    "colors = cm.rainbow(np.linspace(0, 1, n_cluster))\n",
    "for i in range(n_cluster):\n",
    "    x=GM_dim.loc[classes == i, 'dim_packaging_length_mm']\n",
    "    y=GM_dim.loc[classes == i, 'dim_packaging_width_mm']\n",
    "    z=GM_dim.loc[classes == i, 'dim_packaging_height_mm']\n",
    "    print(x.shape,y.shape, z.shape)\n",
    "    ax.scatter(x, y, z, c=colors[i].reshape(1,-1))  "
   ]
  },
  {
   "cell_type": "code",
   "execution_count": 24,
   "metadata": {},
   "outputs": [
    {
     "data": {
      "text/html": [
       "<div>\n",
       "<style scoped>\n",
       "    .dataframe tbody tr th:only-of-type {\n",
       "        vertical-align: middle;\n",
       "    }\n",
       "\n",
       "    .dataframe tbody tr th {\n",
       "        vertical-align: top;\n",
       "    }\n",
       "\n",
       "    .dataframe thead th {\n",
       "        text-align: right;\n",
       "    }\n",
       "</style>\n",
       "<table border=\"1\" class=\"dataframe\">\n",
       "  <thead>\n",
       "    <tr style=\"text-align: right;\">\n",
       "      <th></th>\n",
       "      <th>variant_id</th>\n",
       "      <th>dim_packaging_length_mm</th>\n",
       "      <th>dim_packaging_width_mm</th>\n",
       "      <th>dim_packaging_height_mm</th>\n",
       "      <th>item_vol</th>\n",
       "      <th>item_label</th>\n",
       "    </tr>\n",
       "  </thead>\n",
       "  <tbody>\n",
       "    <tr>\n",
       "      <td>0</td>\n",
       "      <td>68495</td>\n",
       "      <td>50</td>\n",
       "      <td>120</td>\n",
       "      <td>130</td>\n",
       "      <td>46.80000</td>\n",
       "      <td>0</td>\n",
       "    </tr>\n",
       "    <tr>\n",
       "      <td>52</td>\n",
       "      <td>64439</td>\n",
       "      <td>73</td>\n",
       "      <td>165</td>\n",
       "      <td>170</td>\n",
       "      <td>122.85900</td>\n",
       "      <td>0</td>\n",
       "    </tr>\n",
       "    <tr>\n",
       "      <td>51</td>\n",
       "      <td>63087</td>\n",
       "      <td>77</td>\n",
       "      <td>123</td>\n",
       "      <td>141</td>\n",
       "      <td>80.12466</td>\n",
       "      <td>0</td>\n",
       "    </tr>\n",
       "  </tbody>\n",
       "</table>\n",
       "</div>"
      ],
      "text/plain": [
       "    variant_id  dim_packaging_length_mm  dim_packaging_width_mm  \\\n",
       "0        68495                       50                     120   \n",
       "52       64439                       73                     165   \n",
       "51       63087                       77                     123   \n",
       "\n",
       "    dim_packaging_height_mm   item_vol  item_label  \n",
       "0                       130   46.80000           0  \n",
       "52                      170  122.85900           0  \n",
       "51                      141   80.12466           0  "
      ]
     },
     "execution_count": 24,
     "metadata": {},
     "output_type": "execute_result"
    }
   ],
   "source": [
    "GM_dim['item_label'] = kmeans.labels_\n",
    "GM_dim.sort_values(by=['item_label']).head(3)"
   ]
  },
  {
   "cell_type": "code",
   "execution_count": 25,
   "metadata": {},
   "outputs": [
    {
     "data": {
      "text/plain": [
       "<matplotlib.axes._subplots.AxesSubplot at 0x7faa30a57d90>"
      ]
     },
     "execution_count": 25,
     "metadata": {},
     "output_type": "execute_result"
    },
    {
     "data": {
      "image/png": "[encoded data removed]",
      "text/plain": [
       "<Figure size 432x288 with 1 Axes>"
      ]
     },
     "metadata": {
      "needs_background": "light"
     },
     "output_type": "display_data"
    }
   ],
   "source": [
    "GM_dim['item_label'].hist()"
   ]
  },
  {
   "cell_type": "code",
   "execution_count": 30,
   "metadata": {},
   "outputs": [
    {
     "data": {
      "text/html": [
       "<div>\n",
       "<style scoped>\n",
       "    .dataframe tbody tr th:only-of-type {\n",
       "        vertical-align: middle;\n",
       "    }\n",
       "\n",
       "    .dataframe tbody tr th {\n",
       "        vertical-align: top;\n",
       "    }\n",
       "\n",
       "    .dataframe thead th {\n",
       "        text-align: right;\n",
       "    }\n",
       "</style>\n",
       "<table border=\"1\" class=\"dataframe\">\n",
       "  <thead>\n",
       "    <tr style=\"text-align: right;\">\n",
       "      <th></th>\n",
       "      <th>variant_id</th>\n",
       "      <th>item_label</th>\n",
       "      <th>item_vol</th>\n",
       "    </tr>\n",
       "  </thead>\n",
       "  <tbody>\n",
       "    <tr>\n",
       "      <td>0</td>\n",
       "      <td>68495</td>\n",
       "      <td>0</td>\n",
       "      <td>46.80000</td>\n",
       "    </tr>\n",
       "    <tr>\n",
       "      <td>1</td>\n",
       "      <td>64018</td>\n",
       "      <td>0</td>\n",
       "      <td>46.80000</td>\n",
       "    </tr>\n",
       "    <tr>\n",
       "      <td>2</td>\n",
       "      <td>66664</td>\n",
       "      <td>3</td>\n",
       "      <td>16.14006</td>\n",
       "    </tr>\n",
       "    <tr>\n",
       "      <td>3</td>\n",
       "      <td>67094</td>\n",
       "      <td>3</td>\n",
       "      <td>32.28012</td>\n",
       "    </tr>\n",
       "    <tr>\n",
       "      <td>4</td>\n",
       "      <td>67095</td>\n",
       "      <td>0</td>\n",
       "      <td>48.42018</td>\n",
       "    </tr>\n",
       "  </tbody>\n",
       "</table>\n",
       "</div>"
      ],
      "text/plain": [
       "   variant_id  item_label  item_vol\n",
       "0       68495           0  46.80000\n",
       "1       64018           0  46.80000\n",
       "2       66664           3  16.14006\n",
       "3       67094           3  32.28012\n",
       "4       67095           0  48.42018"
      ]
     },
     "execution_count": 30,
     "metadata": {},
     "output_type": "execute_result"
    }
   ],
   "source": [
    "GM_item_label = GM_dim[['variant_id','item_label','item_vol']].copy()\n",
    "GM_item_label.to_csv('/Users/elle.le/Workspace/BoxSize_local/new_data/Gm_item_labeled.csv', index = False)\n",
    "GM_item_label.head(5)"
   ]
  },
  {
   "cell_type": "markdown",
   "metadata": {},
   "source": [
    "# Merge 3 datasets to create a feature matrix"
   ]
  },
  {
   "cell_type": "code",
   "execution_count": null,
   "metadata": {},
   "outputs": [],
   "source": [
    "order_line_vol=pd.merge(line,GM_item_label, how='left', on = 'variant_id').dropna(subset = ['item_label'])\n",
    "order_line_vol.head(2)"
   ]
  },
  {
   "cell_type": "code",
   "execution_count": null,
   "metadata": {},
   "outputs": [],
   "source": [
    "line['order_number'].nunique()"
   ]
  },
  {
   "cell_type": "code",
   "execution_count": null,
   "metadata": {},
   "outputs": [],
   "source": [
    "final1=pd.merge(order_line_vol,box_label, how='left', on='order_number').dropna(subset = ['FedEx_box_type'])"
   ]
  },
  {
   "cell_type": "code",
   "execution_count": null,
   "metadata": {},
   "outputs": [],
   "source": [
    "final1"
   ]
  },
  {
   "cell_type": "code",
   "execution_count": null,
   "metadata": {},
   "outputs": [],
   "source": [
    "final1['order_number'].nunique()"
   ]
  },
  {
   "cell_type": "code",
   "execution_count": null,
   "metadata": {},
   "outputs": [],
   "source": [
    "# Calculate total order volume:\n",
    "\n",
    "item_matrix_1 = pd.pivot_table(final1,\n",
    "              index = ['order_number'],\n",
    "              values = ['item_vol'],\n",
    "              fill_value = 0,\n",
    "              aggfunc ={ 'item_vol':sum} )\n",
    "\n",
    "item_matrix_1.columns = ['total_order_vol']\n",
    "item_matrix_1.reset_index(level=0, inplace=True)\n",
    "item_matrix_1"
   ]
  },
  {
   "cell_type": "code",
   "execution_count": null,
   "metadata": {},
   "outputs": [],
   "source": [
    "# Matrix with item type only\n",
    "item_matrix_2 = pd.pivot_table(final1,\n",
    "              index = ['order_number'],\n",
    "              values = ['quantity'],\n",
    "              columns = ['item_label'],\n",
    "              fill_value = 0)\n",
    "\n",
    "item_matrix_2.columns = ['item_size_0','item_size_1','item_size_2','item_size_3']\n",
    "item_matrix_2.reset_index(level=0, inplace=True)\n",
    "item_matrix_2"
   ]
  },
  {
   "cell_type": "code",
   "execution_count": null,
   "metadata": {},
   "outputs": [],
   "source": [
    "item_matrix = pd.merge(item_matrix_2,item_matrix_1, how = 'left', on ='order_number')\n",
    "item_matrix"
   ]
  },
  {
   "cell_type": "code",
   "execution_count": null,
   "metadata": {},
   "outputs": [],
   "source": [
    "final_matrix = pd.merge(item_matrix,box_label, how ='left', on='order_number')\n",
    "final_matrix"
   ]
  },
  {
   "cell_type": "code",
   "execution_count": null,
   "metadata": {},
   "outputs": [],
   "source": [
    "final_matrix.to_csv('GM_box_size_clean_data_2509131600.csv', index=False)"
   ]
  },
  {
   "cell_type": "code",
   "execution_count": null,
   "metadata": {},
   "outputs": [],
   "source": []
  }
 ],
 "metadata": {
  "kernelspec": {
   "display_name": "Python 3",
   "language": "python",
   "name": "python3"
  },
  "language_info": {
   "codemirror_mode": {
    "name": "ipython",
    "version": 3
   },
   "file_extension": ".py",
   "mimetype": "text/x-python",
   "name": "python",
   "nbconvert_exporter": "python",
   "pygments_lexer": "ipython3",
   "version": "3.7.4"
  }
 },
 "nbformat": 4,
 "nbformat_minor": 2
}
